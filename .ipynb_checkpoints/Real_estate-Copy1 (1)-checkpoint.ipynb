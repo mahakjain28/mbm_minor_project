{
 "cells": [
  {
   "cell_type": "markdown",
   "id": "446c743a",
   "metadata": {},
   "source": [
    "# MINOR PROJECT - REAL ESTATE PRICE PREDICTION"
   ]
  },
  {
   "cell_type": "markdown",
   "id": "5e3efa97",
   "metadata": {},
   "source": [
    "# Importing libraries\n"
   ]
  },
  {
   "cell_type": "code",
   "execution_count": 1,
   "id": "4fac5fca",
   "metadata": {},
   "outputs": [],
   "source": [
    "import pandas as pd\n",
    "import numpy as np\n",
    "import matplotlib.pyplot as plt\n",
    "import seaborn as sns"
   ]
  },
  {
   "cell_type": "code",
   "execution_count": 2,
   "id": "0a4b57b8",
   "metadata": {},
   "outputs": [],
   "source": [
    "from sklearn.preprocessing import OneHotEncoder, LabelEncoder\n",
    "from sklearn.preprocessing import StandardScaler\n",
    "from sklearn.model_selection import train_test_split"
   ]
  },
  {
   "cell_type": "markdown",
   "id": "403d5d47",
   "metadata": {},
   "source": [
    "# Importing Dataset"
   ]
  },
  {
   "cell_type": "code",
   "execution_count": 3,
   "id": "38826922",
   "metadata": {},
   "outputs": [],
   "source": [
    "df=pd.read_csv('Bengaluru_House_Data.csv')"
   ]
  },
  {
   "cell_type": "code",
   "execution_count": 4,
   "id": "1c5686fd",
   "metadata": {},
   "outputs": [
    {
     "data": {
      "text/html": [
       "<div>\n",
       "<style scoped>\n",
       "    .dataframe tbody tr th:only-of-type {\n",
       "        vertical-align: middle;\n",
       "    }\n",
       "\n",
       "    .dataframe tbody tr th {\n",
       "        vertical-align: top;\n",
       "    }\n",
       "\n",
       "    .dataframe thead th {\n",
       "        text-align: right;\n",
       "    }\n",
       "</style>\n",
       "<table border=\"1\" class=\"dataframe\">\n",
       "  <thead>\n",
       "    <tr style=\"text-align: right;\">\n",
       "      <th></th>\n",
       "      <th>area_type</th>\n",
       "      <th>availability</th>\n",
       "      <th>location</th>\n",
       "      <th>size</th>\n",
       "      <th>society</th>\n",
       "      <th>total_sqft</th>\n",
       "      <th>bath</th>\n",
       "      <th>balcony</th>\n",
       "      <th>price</th>\n",
       "    </tr>\n",
       "  </thead>\n",
       "  <tbody>\n",
       "    <tr>\n",
       "      <th>0</th>\n",
       "      <td>Super built-up  Area</td>\n",
       "      <td>19-Dec</td>\n",
       "      <td>Electronic City Phase II</td>\n",
       "      <td>2 BHK</td>\n",
       "      <td>Coomee</td>\n",
       "      <td>1056</td>\n",
       "      <td>2.0</td>\n",
       "      <td>1.0</td>\n",
       "      <td>39.07</td>\n",
       "    </tr>\n",
       "    <tr>\n",
       "      <th>1</th>\n",
       "      <td>Plot  Area</td>\n",
       "      <td>Ready To Move</td>\n",
       "      <td>Chikka Tirupathi</td>\n",
       "      <td>4 Bedroom</td>\n",
       "      <td>Theanmp</td>\n",
       "      <td>2600</td>\n",
       "      <td>5.0</td>\n",
       "      <td>3.0</td>\n",
       "      <td>120.00</td>\n",
       "    </tr>\n",
       "    <tr>\n",
       "      <th>2</th>\n",
       "      <td>Built-up  Area</td>\n",
       "      <td>Ready To Move</td>\n",
       "      <td>Uttarahalli</td>\n",
       "      <td>3 BHK</td>\n",
       "      <td>NaN</td>\n",
       "      <td>1440</td>\n",
       "      <td>2.0</td>\n",
       "      <td>3.0</td>\n",
       "      <td>62.00</td>\n",
       "    </tr>\n",
       "    <tr>\n",
       "      <th>3</th>\n",
       "      <td>Super built-up  Area</td>\n",
       "      <td>Ready To Move</td>\n",
       "      <td>Lingadheeranahalli</td>\n",
       "      <td>3 BHK</td>\n",
       "      <td>Soiewre</td>\n",
       "      <td>1521</td>\n",
       "      <td>3.0</td>\n",
       "      <td>1.0</td>\n",
       "      <td>95.00</td>\n",
       "    </tr>\n",
       "    <tr>\n",
       "      <th>4</th>\n",
       "      <td>Super built-up  Area</td>\n",
       "      <td>Ready To Move</td>\n",
       "      <td>Kothanur</td>\n",
       "      <td>2 BHK</td>\n",
       "      <td>NaN</td>\n",
       "      <td>1200</td>\n",
       "      <td>2.0</td>\n",
       "      <td>1.0</td>\n",
       "      <td>51.00</td>\n",
       "    </tr>\n",
       "  </tbody>\n",
       "</table>\n",
       "</div>"
      ],
      "text/plain": [
       "              area_type   availability                  location       size  \\\n",
       "0  Super built-up  Area         19-Dec  Electronic City Phase II      2 BHK   \n",
       "1            Plot  Area  Ready To Move          Chikka Tirupathi  4 Bedroom   \n",
       "2        Built-up  Area  Ready To Move               Uttarahalli      3 BHK   \n",
       "3  Super built-up  Area  Ready To Move        Lingadheeranahalli      3 BHK   \n",
       "4  Super built-up  Area  Ready To Move                  Kothanur      2 BHK   \n",
       "\n",
       "   society total_sqft  bath  balcony   price  \n",
       "0  Coomee        1056   2.0      1.0   39.07  \n",
       "1  Theanmp       2600   5.0      3.0  120.00  \n",
       "2      NaN       1440   2.0      3.0   62.00  \n",
       "3  Soiewre       1521   3.0      1.0   95.00  \n",
       "4      NaN       1200   2.0      1.0   51.00  "
      ]
     },
     "execution_count": 4,
     "metadata": {},
     "output_type": "execute_result"
    }
   ],
   "source": [
    "df.head()\n"
   ]
  },
  {
   "cell_type": "code",
   "execution_count": 5,
   "id": "56b88429",
   "metadata": {},
   "outputs": [
    {
     "data": {
      "text/plain": [
       "(13320, 9)"
      ]
     },
     "execution_count": 5,
     "metadata": {},
     "output_type": "execute_result"
    }
   ],
   "source": [
    "df.shape"
   ]
  },
  {
   "cell_type": "markdown",
   "id": "ee5097b3",
   "metadata": {},
   "source": [
    "##### This means there are 13320 rows and 9 columns."
   ]
  },
  {
   "cell_type": "code",
   "execution_count": 6,
   "id": "a66835f1",
   "metadata": {},
   "outputs": [
    {
     "name": "stdout",
     "output_type": "stream",
     "text": [
      "<class 'pandas.core.frame.DataFrame'>\n",
      "RangeIndex: 13320 entries, 0 to 13319\n",
      "Data columns (total 9 columns):\n",
      " #   Column        Non-Null Count  Dtype  \n",
      "---  ------        --------------  -----  \n",
      " 0   area_type     13320 non-null  object \n",
      " 1   availability  13320 non-null  object \n",
      " 2   location      13319 non-null  object \n",
      " 3   size          13304 non-null  object \n",
      " 4   society       7818 non-null   object \n",
      " 5   total_sqft    13320 non-null  object \n",
      " 6   bath          13247 non-null  float64\n",
      " 7   balcony       12711 non-null  float64\n",
      " 8   price         13320 non-null  float64\n",
      "dtypes: float64(3), object(6)\n",
      "memory usage: 936.7+ KB\n"
     ]
    }
   ],
   "source": [
    "df.info()"
   ]
  },
  {
   "cell_type": "markdown",
   "id": "8af40f0f",
   "metadata": {},
   "source": [
    "# Exploratory Data Analysis:"
   ]
  },
  {
   "cell_type": "markdown",
   "id": "f99797d5",
   "metadata": {},
   "source": [
    "## 1. Area type -"
   ]
  },
  {
   "cell_type": "code",
   "execution_count": 7,
   "id": "7f8feca8",
   "metadata": {},
   "outputs": [
    {
     "data": {
      "text/plain": [
       "Super built-up  Area    8790\n",
       "Built-up  Area          2418\n",
       "Plot  Area              2025\n",
       "Carpet  Area              87\n",
       "Name: area_type, dtype: int64"
      ]
     },
     "execution_count": 7,
     "metadata": {},
     "output_type": "execute_result"
    }
   ],
   "source": [
    "df['area_type'].value_counts()"
   ]
  },
  {
   "cell_type": "code",
   "execution_count": 8,
   "id": "0f824244",
   "metadata": {},
   "outputs": [
    {
     "data": {
      "text/plain": [
       "<AxesSubplot:xlabel='area_type', ylabel='count'>"
      ]
     },
     "execution_count": 8,
     "metadata": {},
     "output_type": "execute_result"
    },
    {
     "data": {
      "image/png": "[encoded data removed]",
      "text/plain": [
       "<Figure size 432x288 with 1 Axes>"
      ]
     },
     "metadata": {
      "needs_background": "light"
     },
     "output_type": "display_data"
    }
   ],
   "source": [
    "sns.countplot(x=\"area_type\", data = df)"
   ]
  },
  {
   "cell_type": "markdown",
   "id": "7dd6570a",
   "metadata": {},
   "source": [
    "## 2. Availability - "
   ]
  },
  {
   "cell_type": "code",
   "execution_count": 9,
   "id": "e67e30f9",
   "metadata": {},
   "outputs": [
    {
     "data": {
      "text/plain": [
       "Ready To Move    10581\n",
       "18-Dec             307\n",
       "18-May             295\n",
       "18-Apr             271\n",
       "18-Aug             200\n",
       "                 ...  \n",
       "15-Jun               1\n",
       "15-Aug               1\n",
       "14-Jul               1\n",
       "16-Jul               1\n",
       "16-Nov               1\n",
       "Name: availability, Length: 81, dtype: int64"
      ]
     },
     "execution_count": 9,
     "metadata": {},
     "output_type": "execute_result"
    }
   ],
   "source": [
    "df['availability'].value_counts()"
   ]
  },
  {
   "cell_type": "markdown",
   "id": "1a46d105",
   "metadata": {},
   "source": [
    "##### There are lot of dates to handle so it can be re-labelled as Ready to move or soon to be vacated. (13320-10581=2739 dates)"
   ]
  },
  {
   "cell_type": "markdown",
   "id": "e93b92d1",
   "metadata": {},
   "source": [
    "## 3. Location -"
   ]
  },
  {
   "cell_type": "code",
   "execution_count": 10,
   "id": "242e927f",
   "metadata": {},
   "outputs": [
    {
     "data": {
      "text/plain": [
       "Whitefield                 540\n",
       "Sarjapur  Road             399\n",
       "Electronic City            302\n",
       "Kanakpura Road             273\n",
       "Thanisandra                234\n",
       "                          ... \n",
       "AGB Layout                   1\n",
       "B Y Raveshwara Nagar         1\n",
       "Banashankari 2 nd Stage      1\n",
       "Sunkan palya                 1\n",
       "Bande Nallasandra            1\n",
       "Name: location, Length: 1305, dtype: int64"
      ]
     },
     "execution_count": 10,
     "metadata": {},
     "output_type": "execute_result"
    }
   ],
   "source": [
    "location_count=df['location'].value_counts()\n",
    "location_count"
   ]
  },
  {
   "cell_type": "code",
   "execution_count": 11,
   "id": "663fa673",
   "metadata": {},
   "outputs": [
    {
     "data": {
      "text/plain": [
       "13319"
      ]
     },
     "execution_count": 11,
     "metadata": {},
     "output_type": "execute_result"
    }
   ],
   "source": [
    "location_count.values.sum()"
   ]
  },
  {
   "cell_type": "code",
   "execution_count": 12,
   "id": "8c16d8ef",
   "metadata": {},
   "outputs": [
    {
     "data": {
      "text/plain": [
       "241"
      ]
     },
     "execution_count": 12,
     "metadata": {},
     "output_type": "execute_result"
    }
   ],
   "source": [
    "len(location_count[location_count>10])"
   ]
  },
  {
   "cell_type": "code",
   "execution_count": 13,
   "id": "a75ea3d8",
   "metadata": {},
   "outputs": [
    {
     "data": {
      "text/plain": [
       "1064"
      ]
     },
     "execution_count": 13,
     "metadata": {},
     "output_type": "execute_result"
    }
   ],
   "source": [
    "len(location_count[location_count<=10])"
   ]
  },
  {
   "cell_type": "markdown",
   "id": "ee1b65b6",
   "metadata": {},
   "source": [
    "##### This means there are 241 location whose value count is greater than 10 and 1063 locations which are less than equal to 10. So it can be  relabelled as others which are less than 10."
   ]
  },
  {
   "cell_type": "markdown",
   "id": "2c90f660",
   "metadata": {},
   "source": [
    "## 4. Size -"
   ]
  },
  {
   "cell_type": "code",
   "execution_count": 14,
   "id": "0f88a695",
   "metadata": {},
   "outputs": [
    {
     "data": {
      "text/plain": [
       "2 BHK         5199\n",
       "3 BHK         4310\n",
       "4 Bedroom      826\n",
       "4 BHK          591\n",
       "3 Bedroom      547\n",
       "1 BHK          538\n",
       "2 Bedroom      329\n",
       "5 Bedroom      297\n",
       "6 Bedroom      191\n",
       "1 Bedroom      105\n",
       "8 Bedroom       84\n",
       "7 Bedroom       83\n",
       "5 BHK           59\n",
       "9 Bedroom       46\n",
       "6 BHK           30\n",
       "7 BHK           17\n",
       "1 RK            13\n",
       "10 Bedroom      12\n",
       "9 BHK            8\n",
       "8 BHK            5\n",
       "10 BHK           2\n",
       "11 BHK           2\n",
       "11 Bedroom       2\n",
       "18 Bedroom       1\n",
       "43 Bedroom       1\n",
       "19 BHK           1\n",
       "13 BHK           1\n",
       "27 BHK           1\n",
       "14 BHK           1\n",
       "16 BHK           1\n",
       "12 Bedroom       1\n",
       "Name: size, dtype: int64"
      ]
     },
     "execution_count": 14,
     "metadata": {},
     "output_type": "execute_result"
    }
   ],
   "source": [
    "df['size'].value_counts()"
   ]
  },
  {
   "cell_type": "markdown",
   "id": "47d467c8",
   "metadata": {},
   "source": [
    "##### A function can be applied which will strip the integral part only since bedroom is same as BHK "
   ]
  },
  {
   "cell_type": "markdown",
   "id": "1d9c10e2",
   "metadata": {},
   "source": [
    "## 5. Society -"
   ]
  },
  {
   "cell_type": "code",
   "execution_count": 15,
   "id": "02e1bcf0",
   "metadata": {},
   "outputs": [
    {
     "data": {
      "text/plain": [
       "GrrvaGr    80\n",
       "PrarePa    76\n",
       "Sryalan    59\n",
       "Prtates    59\n",
       "GMown E    56\n",
       "           ..\n",
       "DSpazTo     1\n",
       "Oaeze B     1\n",
       "EmrchAn     1\n",
       "Shissut     1\n",
       "SuezeLa     1\n",
       "Name: society, Length: 2688, dtype: int64"
      ]
     },
     "execution_count": 15,
     "metadata": {},
     "output_type": "execute_result"
    }
   ],
   "source": [
    "society_count=df['society'].value_counts()\n",
    "society_count"
   ]
  },
  {
   "cell_type": "code",
   "execution_count": 16,
   "id": "70264a51",
   "metadata": {},
   "outputs": [
    {
     "data": {
      "text/plain": [
       "7818"
      ]
     },
     "execution_count": 16,
     "metadata": {},
     "output_type": "execute_result"
    }
   ],
   "source": [
    "society_count.values.sum()"
   ]
  },
  {
   "cell_type": "code",
   "execution_count": 17,
   "id": "8ebc8834",
   "metadata": {},
   "outputs": [
    {
     "data": {
      "text/plain": [
       "5502"
      ]
     },
     "execution_count": 17,
     "metadata": {},
     "output_type": "execute_result"
    }
   ],
   "source": [
    "df['society'].isnull().sum()"
   ]
  },
  {
   "cell_type": "markdown",
   "id": "1769e05f",
   "metadata": {},
   "source": [
    "##### A lot of missing values so have to drop this feature."
   ]
  },
  {
   "cell_type": "markdown",
   "id": "6f51dd0c",
   "metadata": {},
   "source": [
    "## 6.Total_sqft  -"
   ]
  },
  {
   "cell_type": "code",
   "execution_count": 18,
   "id": "fbd33df1",
   "metadata": {},
   "outputs": [
    {
     "data": {
      "text/plain": [
       "array(['1056', '2600', '1440', ..., '1133 - 1384', '774', '4689'],\n",
       "      dtype=object)"
      ]
     },
     "execution_count": 18,
     "metadata": {},
     "output_type": "execute_result"
    }
   ],
   "source": [
    "df['total_sqft'].unique()"
   ]
  },
  {
   "cell_type": "markdown",
   "id": "8670d883",
   "metadata": {},
   "source": [
    "##### Some values are in range so this feature needs cleaning."
   ]
  },
  {
   "cell_type": "markdown",
   "id": "33ab7e24",
   "metadata": {},
   "source": [
    "## 7. Bathroom -"
   ]
  },
  {
   "cell_type": "code",
   "execution_count": 19,
   "id": "97a17c02",
   "metadata": {},
   "outputs": [
    {
     "data": {
      "text/plain": [
       "2.0     6908\n",
       "3.0     3286\n",
       "4.0     1226\n",
       "1.0      788\n",
       "5.0      524\n",
       "6.0      273\n",
       "7.0      102\n",
       "8.0       64\n",
       "9.0       43\n",
       "10.0      13\n",
       "12.0       7\n",
       "11.0       3\n",
       "13.0       3\n",
       "16.0       2\n",
       "14.0       1\n",
       "40.0       1\n",
       "18.0       1\n",
       "27.0       1\n",
       "15.0       1\n",
       "Name: bath, dtype: int64"
      ]
     },
     "execution_count": 19,
     "metadata": {},
     "output_type": "execute_result"
    }
   ],
   "source": [
    "df['bath'].value_counts()"
   ]
  },
  {
   "cell_type": "code",
   "execution_count": 20,
   "id": "386b0cca",
   "metadata": {},
   "outputs": [
    {
     "data": {
      "text/html": [
       "<div>\n",
       "<style scoped>\n",
       "    .dataframe tbody tr th:only-of-type {\n",
       "        vertical-align: middle;\n",
       "    }\n",
       "\n",
       "    .dataframe tbody tr th {\n",
       "        vertical-align: top;\n",
       "    }\n",
       "\n",
       "    .dataframe thead th {\n",
       "        text-align: right;\n",
       "    }\n",
       "</style>\n",
       "<table border=\"1\" class=\"dataframe\">\n",
       "  <thead>\n",
       "    <tr style=\"text-align: right;\">\n",
       "      <th></th>\n",
       "      <th>area_type</th>\n",
       "      <th>availability</th>\n",
       "      <th>location</th>\n",
       "      <th>size</th>\n",
       "      <th>society</th>\n",
       "      <th>total_sqft</th>\n",
       "      <th>bath</th>\n",
       "      <th>balcony</th>\n",
       "      <th>price</th>\n",
       "    </tr>\n",
       "  </thead>\n",
       "  <tbody>\n",
       "    <tr>\n",
       "      <th>4684</th>\n",
       "      <td>Plot  Area</td>\n",
       "      <td>Ready To Move</td>\n",
       "      <td>Munnekollal</td>\n",
       "      <td>43 Bedroom</td>\n",
       "      <td>NaN</td>\n",
       "      <td>2400</td>\n",
       "      <td>40.0</td>\n",
       "      <td>0.0</td>\n",
       "      <td>660.0</td>\n",
       "    </tr>\n",
       "  </tbody>\n",
       "</table>\n",
       "</div>"
      ],
      "text/plain": [
       "       area_type   availability     location        size society total_sqft  \\\n",
       "4684  Plot  Area  Ready To Move  Munnekollal  43 Bedroom     NaN       2400   \n",
       "\n",
       "      bath  balcony  price  \n",
       "4684  40.0      0.0  660.0  "
      ]
     },
     "execution_count": 20,
     "metadata": {},
     "output_type": "execute_result"
    }
   ],
   "source": [
    "df[df['bath']==40]"
   ]
  },
  {
   "cell_type": "markdown",
   "id": "9c169b93",
   "metadata": {},
   "source": [
    "##### this looks like an outlier since its not possible to have a house with such big no. of bedrooms and small total sqft. "
   ]
  },
  {
   "cell_type": "code",
   "execution_count": 21,
   "id": "3134ddca",
   "metadata": {},
   "outputs": [
    {
     "name": "stderr",
     "output_type": "stream",
     "text": [
      "/home/nitinsaini/.local/lib/python3.8/site-packages/seaborn/distributions.py:2619: FutureWarning: `distplot` is a deprecated function and will be removed in a future version. Please adapt your code to use either `displot` (a figure-level function with similar flexibility) or `histplot` (an axes-level function for histograms).\n",
      "  warnings.warn(msg, FutureWarning)\n"
     ]
    },
    {
     "data": {
      "text/plain": [
       "<AxesSubplot:xlabel='bath'>"
      ]
     },
     "execution_count": 21,
     "metadata": {},
     "output_type": "execute_result"
    },
    {
     "data": {
      "image/png": "[encoded data removed]",
      "text/plain": [
       "<Figure size 432x288 with 1 Axes>"
      ]
     },
     "metadata": {
      "needs_background": "light"
     },
     "output_type": "display_data"
    }
   ],
   "source": [
    "sns.distplot(df[\"bath\"], hist=True, kde=False, \n",
    "             bins=50, color = 'blue',\n",
    "             hist_kws={'edgecolor':'black'})"
   ]
  },
  {
   "cell_type": "markdown",
   "id": "8b823398",
   "metadata": {},
   "source": [
    "## 8. Balcony -"
   ]
  },
  {
   "cell_type": "code",
   "execution_count": 22,
   "id": "60fe89e7",
   "metadata": {},
   "outputs": [
    {
     "data": {
      "text/plain": [
       "2.0    5113\n",
       "1.0    4897\n",
       "3.0    1672\n",
       "0.0    1029\n",
       "Name: balcony, dtype: int64"
      ]
     },
     "execution_count": 22,
     "metadata": {},
     "output_type": "execute_result"
    }
   ],
   "source": [
    "df['balcony'].value_counts()"
   ]
  },
  {
   "cell_type": "code",
   "execution_count": 23,
   "id": "36323101",
   "metadata": {},
   "outputs": [
    {
     "data": {
      "text/plain": [
       "<AxesSubplot:xlabel='balcony'>"
      ]
     },
     "execution_count": 23,
     "metadata": {},
     "output_type": "execute_result"
    },
    {
     "data": {
      "image/png": "[encoded data removed]",
      "text/plain": [
       "<Figure size 432x288 with 1 Axes>"
      ]
     },
     "metadata": {
      "needs_background": "light"
     },
     "output_type": "display_data"
    }
   ],
   "source": [
    "sns.distplot(df[\"balcony\"], hist=True, kde=False, \n",
    "             bins=50, color = 'blue',\n",
    "             hist_kws={'edgecolor':'black'})"
   ]
  },
  {
   "cell_type": "markdown",
   "id": "27bcf222",
   "metadata": {},
   "source": [
    "## 9. Price -"
   ]
  },
  {
   "cell_type": "code",
   "execution_count": 24,
   "id": "753f8e6d",
   "metadata": {},
   "outputs": [
    {
     "data": {
      "text/plain": [
       "75.00     310\n",
       "65.00     302\n",
       "55.00     275\n",
       "60.00     270\n",
       "45.00     240\n",
       "         ... \n",
       "45.69       1\n",
       "85.41       1\n",
       "91.31       1\n",
       "102.92      1\n",
       "62.28       1\n",
       "Name: price, Length: 1994, dtype: int64"
      ]
     },
     "execution_count": 24,
     "metadata": {},
     "output_type": "execute_result"
    }
   ],
   "source": [
    "df['price'].value_counts()"
   ]
  },
  {
   "cell_type": "code",
   "execution_count": 25,
   "id": "d169cd85",
   "metadata": {},
   "outputs": [
    {
     "data": {
      "text/plain": [
       "count    13320.000000\n",
       "mean       112.565627\n",
       "std        148.971674\n",
       "min          8.000000\n",
       "25%         50.000000\n",
       "50%         72.000000\n",
       "75%        120.000000\n",
       "max       3600.000000\n",
       "Name: price, dtype: float64"
      ]
     },
     "execution_count": 25,
     "metadata": {},
     "output_type": "execute_result"
    }
   ],
   "source": [
    "df['price'].describe()"
   ]
  },
  {
   "cell_type": "code",
   "execution_count": 103,
   "id": "af0a5dd4",
   "metadata": {},
   "outputs": [
    {
     "name": "stderr",
     "output_type": "stream",
     "text": [
      "/home/nitinsaini/.local/lib/python3.8/site-packages/seaborn/distributions.py:2619: FutureWarning: `distplot` is a deprecated function and will be removed in a future version. Please adapt your code to use either `displot` (a figure-level function with similar flexibility) or `histplot` (an axes-level function for histograms).\n",
      "  warnings.warn(msg, FutureWarning)\n"
     ]
    },
    {
     "data": {
      "text/plain": [
       "<AxesSubplot:xlabel='price'>"
      ]
     },
     "execution_count": 103,
     "metadata": {},
     "output_type": "execute_result"
    },
    {
     "data": {
      "image/png": "[encoded data removed]",
      "text/plain": [
       "<Figure size 432x288 with 1 Axes>"
      ]
     },
     "metadata": {
      "needs_background": "light"
     },
     "output_type": "display_data"
    }
   ],
   "source": [
    "sns.distplot(df[\"price\"], hist=True, kde=False, \n",
    "             bins=50, color = 'blue',\n",
    "             hist_kws={'edgecolor':'black'})"
   ]
  },
  {
   "cell_type": "markdown",
   "id": "d1bda84c",
   "metadata": {},
   "source": [
    "# Taking care of missing values"
   ]
  },
  {
   "cell_type": "code",
   "execution_count": 28,
   "id": "143ed7ee",
   "metadata": {},
   "outputs": [
    {
     "data": {
      "text/plain": [
       "area_type          0\n",
       "availability       0\n",
       "location           1\n",
       "size              16\n",
       "society         5502\n",
       "total_sqft         0\n",
       "bath              73\n",
       "balcony          609\n",
       "price              0\n",
       "dtype: int64"
      ]
     },
     "execution_count": 28,
     "metadata": {},
     "output_type": "execute_result"
    }
   ],
   "source": [
    "df.isnull().sum()"
   ]
  },
  {
   "cell_type": "code",
   "execution_count": 29,
   "id": "39fe007a",
   "metadata": {},
   "outputs": [],
   "source": [
    "df1=df.copy()"
   ]
  },
  {
   "cell_type": "markdown",
   "id": "481c3828",
   "metadata": {},
   "source": [
    "###### Its always recommended to make changes in copy of df rathar than original df"
   ]
  },
  {
   "cell_type": "markdown",
   "id": "379944f3",
   "metadata": {},
   "source": [
    "### 1. 'Location' has 1 missing value -"
   ]
  },
  {
   "cell_type": "code",
   "execution_count": 30,
   "id": "ccf1bd27",
   "metadata": {},
   "outputs": [
    {
     "data": {
      "text/html": [
       "<div>\n",
       "<style scoped>\n",
       "    .dataframe tbody tr th:only-of-type {\n",
       "        vertical-align: middle;\n",
       "    }\n",
       "\n",
       "    .dataframe tbody tr th {\n",
       "        vertical-align: top;\n",
       "    }\n",
       "\n",
       "    .dataframe thead th {\n",
       "        text-align: right;\n",
       "    }\n",
       "</style>\n",
       "<table border=\"1\" class=\"dataframe\">\n",
       "  <thead>\n",
       "    <tr style=\"text-align: right;\">\n",
       "      <th></th>\n",
       "      <th>area_type</th>\n",
       "      <th>availability</th>\n",
       "      <th>location</th>\n",
       "      <th>size</th>\n",
       "      <th>society</th>\n",
       "      <th>total_sqft</th>\n",
       "      <th>bath</th>\n",
       "      <th>balcony</th>\n",
       "      <th>price</th>\n",
       "    </tr>\n",
       "  </thead>\n",
       "  <tbody>\n",
       "    <tr>\n",
       "      <th>568</th>\n",
       "      <td>Super built-up  Area</td>\n",
       "      <td>Ready To Move</td>\n",
       "      <td>NaN</td>\n",
       "      <td>3 BHK</td>\n",
       "      <td>Grare S</td>\n",
       "      <td>1600</td>\n",
       "      <td>3.0</td>\n",
       "      <td>2.0</td>\n",
       "      <td>86.0</td>\n",
       "    </tr>\n",
       "  </tbody>\n",
       "</table>\n",
       "</div>"
      ],
      "text/plain": [
       "                area_type   availability location   size  society total_sqft  \\\n",
       "568  Super built-up  Area  Ready To Move      NaN  3 BHK  Grare S       1600   \n",
       "\n",
       "     bath  balcony  price  \n",
       "568   3.0      2.0   86.0  "
      ]
     },
     "execution_count": 30,
     "metadata": {},
     "output_type": "execute_result"
    }
   ],
   "source": [
    "df1[pd.isnull(df1[\"location\"])]\n"
   ]
  },
  {
   "cell_type": "code",
   "execution_count": 31,
   "id": "76877848",
   "metadata": {},
   "outputs": [
    {
     "data": {
      "text/html": [
       "<div>\n",
       "<style scoped>\n",
       "    .dataframe tbody tr th:only-of-type {\n",
       "        vertical-align: middle;\n",
       "    }\n",
       "\n",
       "    .dataframe tbody tr th {\n",
       "        vertical-align: top;\n",
       "    }\n",
       "\n",
       "    .dataframe thead th {\n",
       "        text-align: right;\n",
       "    }\n",
       "</style>\n",
       "<table border=\"1\" class=\"dataframe\">\n",
       "  <thead>\n",
       "    <tr style=\"text-align: right;\">\n",
       "      <th></th>\n",
       "      <th>area_type</th>\n",
       "      <th>availability</th>\n",
       "      <th>location</th>\n",
       "      <th>size</th>\n",
       "      <th>society</th>\n",
       "      <th>total_sqft</th>\n",
       "      <th>bath</th>\n",
       "      <th>balcony</th>\n",
       "      <th>price</th>\n",
       "    </tr>\n",
       "  </thead>\n",
       "  <tbody>\n",
       "    <tr>\n",
       "      <th>568</th>\n",
       "      <td>Super built-up  Area</td>\n",
       "      <td>Ready To Move</td>\n",
       "      <td>NaN</td>\n",
       "      <td>3 BHK</td>\n",
       "      <td>Grare S</td>\n",
       "      <td>1600</td>\n",
       "      <td>3.0</td>\n",
       "      <td>2.0</td>\n",
       "      <td>86.0</td>\n",
       "    </tr>\n",
       "    <tr>\n",
       "      <th>12238</th>\n",
       "      <td>Carpet  Area</td>\n",
       "      <td>Ready To Move</td>\n",
       "      <td>Anantapura</td>\n",
       "      <td>3 BHK</td>\n",
       "      <td>Grare S</td>\n",
       "      <td>1600</td>\n",
       "      <td>3.0</td>\n",
       "      <td>2.0</td>\n",
       "      <td>77.0</td>\n",
       "    </tr>\n",
       "  </tbody>\n",
       "</table>\n",
       "</div>"
      ],
      "text/plain": [
       "                  area_type   availability    location   size  society  \\\n",
       "568    Super built-up  Area  Ready To Move         NaN  3 BHK  Grare S   \n",
       "12238          Carpet  Area  Ready To Move  Anantapura  3 BHK  Grare S   \n",
       "\n",
       "      total_sqft  bath  balcony  price  \n",
       "568         1600   3.0      2.0   86.0  \n",
       "12238       1600   3.0      2.0   77.0  "
      ]
     },
     "execution_count": 31,
     "metadata": {},
     "output_type": "execute_result"
    }
   ],
   "source": [
    "df1[df1[\"society\"] == \"Grare S\"]\n"
   ]
  },
  {
   "cell_type": "code",
   "execution_count": 32,
   "id": "e2d24619",
   "metadata": {},
   "outputs": [],
   "source": [
    "df1[\"location\"] =  df1[\"location\"].replace(to_replace = np.nan, value = \"Anantapura\")\n"
   ]
  },
  {
   "cell_type": "markdown",
   "id": "c6a3d6c0",
   "metadata": {},
   "source": [
    "#### Since a society will belong same locality"
   ]
  },
  {
   "cell_type": "code",
   "execution_count": 33,
   "id": "24d4714b",
   "metadata": {},
   "outputs": [
    {
     "data": {
      "text/plain": [
       "area_type          0\n",
       "availability       0\n",
       "location           0\n",
       "size              16\n",
       "society         5502\n",
       "total_sqft         0\n",
       "bath              73\n",
       "balcony          609\n",
       "price              0\n",
       "dtype: int64"
      ]
     },
     "execution_count": 33,
     "metadata": {},
     "output_type": "execute_result"
    }
   ],
   "source": [
    "df1.isnull().sum()"
   ]
  },
  {
   "cell_type": "markdown",
   "id": "630d9905",
   "metadata": {},
   "source": [
    "### 2. 'Size' has 16 missing value  -"
   ]
  },
  {
   "cell_type": "code",
   "execution_count": 34,
   "id": "c47466de",
   "metadata": {},
   "outputs": [
    {
     "data": {
      "text/html": [
       "<div>\n",
       "<style scoped>\n",
       "    .dataframe tbody tr th:only-of-type {\n",
       "        vertical-align: middle;\n",
       "    }\n",
       "\n",
       "    .dataframe tbody tr th {\n",
       "        vertical-align: top;\n",
       "    }\n",
       "\n",
       "    .dataframe thead th {\n",
       "        text-align: right;\n",
       "    }\n",
       "</style>\n",
       "<table border=\"1\" class=\"dataframe\">\n",
       "  <thead>\n",
       "    <tr style=\"text-align: right;\">\n",
       "      <th></th>\n",
       "      <th>area_type</th>\n",
       "      <th>availability</th>\n",
       "      <th>location</th>\n",
       "      <th>size</th>\n",
       "      <th>society</th>\n",
       "      <th>total_sqft</th>\n",
       "      <th>bath</th>\n",
       "      <th>balcony</th>\n",
       "      <th>price</th>\n",
       "    </tr>\n",
       "  </thead>\n",
       "  <tbody>\n",
       "    <tr>\n",
       "      <th>579</th>\n",
       "      <td>Plot  Area</td>\n",
       "      <td>Immediate Possession</td>\n",
       "      <td>Sarjapur  Road</td>\n",
       "      <td>NaN</td>\n",
       "      <td>Asiss B</td>\n",
       "      <td>1200 - 2400</td>\n",
       "      <td>NaN</td>\n",
       "      <td>NaN</td>\n",
       "      <td>34.185</td>\n",
       "    </tr>\n",
       "    <tr>\n",
       "      <th>1775</th>\n",
       "      <td>Plot  Area</td>\n",
       "      <td>Immediate Possession</td>\n",
       "      <td>IVC Road</td>\n",
       "      <td>NaN</td>\n",
       "      <td>Orana N</td>\n",
       "      <td>2000 - 5634</td>\n",
       "      <td>NaN</td>\n",
       "      <td>NaN</td>\n",
       "      <td>124.000</td>\n",
       "    </tr>\n",
       "    <tr>\n",
       "      <th>2264</th>\n",
       "      <td>Plot  Area</td>\n",
       "      <td>Immediate Possession</td>\n",
       "      <td>Banashankari</td>\n",
       "      <td>NaN</td>\n",
       "      <td>NaN</td>\n",
       "      <td>2400</td>\n",
       "      <td>NaN</td>\n",
       "      <td>NaN</td>\n",
       "      <td>460.000</td>\n",
       "    </tr>\n",
       "    <tr>\n",
       "      <th>2809</th>\n",
       "      <td>Plot  Area</td>\n",
       "      <td>Immediate Possession</td>\n",
       "      <td>Sarjapur  Road</td>\n",
       "      <td>NaN</td>\n",
       "      <td>AsdiaAr</td>\n",
       "      <td>1200 - 2400</td>\n",
       "      <td>NaN</td>\n",
       "      <td>NaN</td>\n",
       "      <td>28.785</td>\n",
       "    </tr>\n",
       "    <tr>\n",
       "      <th>2862</th>\n",
       "      <td>Plot  Area</td>\n",
       "      <td>Immediate Possession</td>\n",
       "      <td>Devanahalli</td>\n",
       "      <td>NaN</td>\n",
       "      <td>Ajleyor</td>\n",
       "      <td>1500 - 2400</td>\n",
       "      <td>NaN</td>\n",
       "      <td>NaN</td>\n",
       "      <td>46.800</td>\n",
       "    </tr>\n",
       "    <tr>\n",
       "      <th>5333</th>\n",
       "      <td>Plot  Area</td>\n",
       "      <td>Immediate Possession</td>\n",
       "      <td>Devanahalli</td>\n",
       "      <td>NaN</td>\n",
       "      <td>Emngs S</td>\n",
       "      <td>2100 - 5405</td>\n",
       "      <td>NaN</td>\n",
       "      <td>NaN</td>\n",
       "      <td>177.115</td>\n",
       "    </tr>\n",
       "    <tr>\n",
       "      <th>6423</th>\n",
       "      <td>Plot  Area</td>\n",
       "      <td>Immediate Possession</td>\n",
       "      <td>Whitefield</td>\n",
       "      <td>NaN</td>\n",
       "      <td>SRniaGa</td>\n",
       "      <td>2324</td>\n",
       "      <td>NaN</td>\n",
       "      <td>NaN</td>\n",
       "      <td>26.730</td>\n",
       "    </tr>\n",
       "    <tr>\n",
       "      <th>6636</th>\n",
       "      <td>Plot  Area</td>\n",
       "      <td>Immediate Possession</td>\n",
       "      <td>Jigani</td>\n",
       "      <td>NaN</td>\n",
       "      <td>S2enste</td>\n",
       "      <td>1500</td>\n",
       "      <td>NaN</td>\n",
       "      <td>NaN</td>\n",
       "      <td>25.490</td>\n",
       "    </tr>\n",
       "    <tr>\n",
       "      <th>6719</th>\n",
       "      <td>Plot  Area</td>\n",
       "      <td>Immediate Possession</td>\n",
       "      <td>Hoskote</td>\n",
       "      <td>NaN</td>\n",
       "      <td>SJowsn</td>\n",
       "      <td>800 - 2660</td>\n",
       "      <td>NaN</td>\n",
       "      <td>NaN</td>\n",
       "      <td>28.545</td>\n",
       "    </tr>\n",
       "    <tr>\n",
       "      <th>7680</th>\n",
       "      <td>Plot  Area</td>\n",
       "      <td>Immediate Possession</td>\n",
       "      <td>Kasavanhalli</td>\n",
       "      <td>NaN</td>\n",
       "      <td>NaN</td>\n",
       "      <td>5000</td>\n",
       "      <td>NaN</td>\n",
       "      <td>NaN</td>\n",
       "      <td>400.000</td>\n",
       "    </tr>\n",
       "    <tr>\n",
       "      <th>8306</th>\n",
       "      <td>Plot  Area</td>\n",
       "      <td>Immediate Possession</td>\n",
       "      <td>Anekal</td>\n",
       "      <td>NaN</td>\n",
       "      <td>Vaensnd</td>\n",
       "      <td>1453</td>\n",
       "      <td>NaN</td>\n",
       "      <td>NaN</td>\n",
       "      <td>16.500</td>\n",
       "    </tr>\n",
       "    <tr>\n",
       "      <th>8565</th>\n",
       "      <td>Plot  Area</td>\n",
       "      <td>Immediate Possession</td>\n",
       "      <td>Carmelaram</td>\n",
       "      <td>NaN</td>\n",
       "      <td>Ocezes</td>\n",
       "      <td>2000</td>\n",
       "      <td>NaN</td>\n",
       "      <td>NaN</td>\n",
       "      <td>120.000</td>\n",
       "    </tr>\n",
       "    <tr>\n",
       "      <th>8703</th>\n",
       "      <td>Plot  Area</td>\n",
       "      <td>Immediate Possession</td>\n",
       "      <td>Mysore Road</td>\n",
       "      <td>NaN</td>\n",
       "      <td>Naoden</td>\n",
       "      <td>1200 - 2400</td>\n",
       "      <td>NaN</td>\n",
       "      <td>NaN</td>\n",
       "      <td>42.300</td>\n",
       "    </tr>\n",
       "    <tr>\n",
       "      <th>10634</th>\n",
       "      <td>Plot  Area</td>\n",
       "      <td>Immediate Possession</td>\n",
       "      <td>Rajankunte</td>\n",
       "      <td>NaN</td>\n",
       "      <td>NaN</td>\n",
       "      <td>1575</td>\n",
       "      <td>NaN</td>\n",
       "      <td>NaN</td>\n",
       "      <td>31.110</td>\n",
       "    </tr>\n",
       "    <tr>\n",
       "      <th>11019</th>\n",
       "      <td>Plot  Area</td>\n",
       "      <td>Immediate Possession</td>\n",
       "      <td>Yelahanka</td>\n",
       "      <td>NaN</td>\n",
       "      <td>Saaveha</td>\n",
       "      <td>1200 - 1800</td>\n",
       "      <td>NaN</td>\n",
       "      <td>NaN</td>\n",
       "      <td>12.750</td>\n",
       "    </tr>\n",
       "    <tr>\n",
       "      <th>11569</th>\n",
       "      <td>Plot  Area</td>\n",
       "      <td>Immediate Possession</td>\n",
       "      <td>Hosur Road</td>\n",
       "      <td>NaN</td>\n",
       "      <td>AVeldun</td>\n",
       "      <td>1350</td>\n",
       "      <td>NaN</td>\n",
       "      <td>NaN</td>\n",
       "      <td>8.440</td>\n",
       "    </tr>\n",
       "  </tbody>\n",
       "</table>\n",
       "</div>"
      ],
      "text/plain": [
       "        area_type          availability        location size  society  \\\n",
       "579    Plot  Area  Immediate Possession  Sarjapur  Road  NaN  Asiss B   \n",
       "1775   Plot  Area  Immediate Possession        IVC Road  NaN  Orana N   \n",
       "2264   Plot  Area  Immediate Possession    Banashankari  NaN      NaN   \n",
       "2809   Plot  Area  Immediate Possession  Sarjapur  Road  NaN  AsdiaAr   \n",
       "2862   Plot  Area  Immediate Possession     Devanahalli  NaN  Ajleyor   \n",
       "5333   Plot  Area  Immediate Possession     Devanahalli  NaN  Emngs S   \n",
       "6423   Plot  Area  Immediate Possession      Whitefield  NaN  SRniaGa   \n",
       "6636   Plot  Area  Immediate Possession          Jigani  NaN  S2enste   \n",
       "6719   Plot  Area  Immediate Possession         Hoskote  NaN  SJowsn    \n",
       "7680   Plot  Area  Immediate Possession    Kasavanhalli  NaN      NaN   \n",
       "8306   Plot  Area  Immediate Possession          Anekal  NaN  Vaensnd   \n",
       "8565   Plot  Area  Immediate Possession      Carmelaram  NaN  Ocezes    \n",
       "8703   Plot  Area  Immediate Possession     Mysore Road  NaN  Naoden    \n",
       "10634  Plot  Area  Immediate Possession      Rajankunte  NaN      NaN   \n",
       "11019  Plot  Area  Immediate Possession       Yelahanka  NaN  Saaveha   \n",
       "11569  Plot  Area  Immediate Possession      Hosur Road  NaN  AVeldun   \n",
       "\n",
       "        total_sqft  bath  balcony    price  \n",
       "579    1200 - 2400   NaN      NaN   34.185  \n",
       "1775   2000 - 5634   NaN      NaN  124.000  \n",
       "2264          2400   NaN      NaN  460.000  \n",
       "2809   1200 - 2400   NaN      NaN   28.785  \n",
       "2862   1500 - 2400   NaN      NaN   46.800  \n",
       "5333   2100 - 5405   NaN      NaN  177.115  \n",
       "6423          2324   NaN      NaN   26.730  \n",
       "6636          1500   NaN      NaN   25.490  \n",
       "6719    800 - 2660   NaN      NaN   28.545  \n",
       "7680          5000   NaN      NaN  400.000  \n",
       "8306          1453   NaN      NaN   16.500  \n",
       "8565          2000   NaN      NaN  120.000  \n",
       "8703   1200 - 2400   NaN      NaN   42.300  \n",
       "10634         1575   NaN      NaN   31.110  \n",
       "11019  1200 - 1800   NaN      NaN   12.750  \n",
       "11569         1350   NaN      NaN    8.440  "
      ]
     },
     "execution_count": 34,
     "metadata": {},
     "output_type": "execute_result"
    }
   ],
   "source": [
    "df1[pd.isnull(df1[\"size\"])]"
   ]
  },
  {
   "cell_type": "markdown",
   "id": "49ce1612",
   "metadata": {},
   "source": [
    "##### Since all the values where size is not available have other NaN values. Even if I fill it with median it will not be beneficial and 16 is much small no. as compared to 13320 so i can safely drop the rows where size is NaN."
   ]
  },
  {
   "cell_type": "code",
   "execution_count": 35,
   "id": "fd2d20f5",
   "metadata": {},
   "outputs": [],
   "source": [
    "df1 = df1[df1['size'].notna()]"
   ]
  },
  {
   "cell_type": "markdown",
   "id": "a99e9821",
   "metadata": {},
   "source": [
    "###### bhk can be derived from size to keep just the integral part"
   ]
  },
  {
   "cell_type": "code",
   "execution_count": 36,
   "id": "fd20e1eb",
   "metadata": {},
   "outputs": [],
   "source": [
    "df1[\"bhk\"] = df1[\"size\"].apply(lambda x: int(x.split(\" \")[0]))"
   ]
  },
  {
   "cell_type": "code",
   "execution_count": 37,
   "id": "7a80d9d0",
   "metadata": {},
   "outputs": [
    {
     "data": {
      "text/html": [
       "<div>\n",
       "<style scoped>\n",
       "    .dataframe tbody tr th:only-of-type {\n",
       "        vertical-align: middle;\n",
       "    }\n",
       "\n",
       "    .dataframe tbody tr th {\n",
       "        vertical-align: top;\n",
       "    }\n",
       "\n",
       "    .dataframe thead th {\n",
       "        text-align: right;\n",
       "    }\n",
       "</style>\n",
       "<table border=\"1\" class=\"dataframe\">\n",
       "  <thead>\n",
       "    <tr style=\"text-align: right;\">\n",
       "      <th></th>\n",
       "      <th>area_type</th>\n",
       "      <th>availability</th>\n",
       "      <th>location</th>\n",
       "      <th>size</th>\n",
       "      <th>society</th>\n",
       "      <th>total_sqft</th>\n",
       "      <th>bath</th>\n",
       "      <th>balcony</th>\n",
       "      <th>price</th>\n",
       "      <th>bhk</th>\n",
       "    </tr>\n",
       "  </thead>\n",
       "  <tbody>\n",
       "    <tr>\n",
       "      <th>0</th>\n",
       "      <td>Super built-up  Area</td>\n",
       "      <td>19-Dec</td>\n",
       "      <td>Electronic City Phase II</td>\n",
       "      <td>2 BHK</td>\n",
       "      <td>Coomee</td>\n",
       "      <td>1056</td>\n",
       "      <td>2.0</td>\n",
       "      <td>1.0</td>\n",
       "      <td>39.07</td>\n",
       "      <td>2</td>\n",
       "    </tr>\n",
       "    <tr>\n",
       "      <th>1</th>\n",
       "      <td>Plot  Area</td>\n",
       "      <td>Ready To Move</td>\n",
       "      <td>Chikka Tirupathi</td>\n",
       "      <td>4 Bedroom</td>\n",
       "      <td>Theanmp</td>\n",
       "      <td>2600</td>\n",
       "      <td>5.0</td>\n",
       "      <td>3.0</td>\n",
       "      <td>120.00</td>\n",
       "      <td>4</td>\n",
       "    </tr>\n",
       "    <tr>\n",
       "      <th>2</th>\n",
       "      <td>Built-up  Area</td>\n",
       "      <td>Ready To Move</td>\n",
       "      <td>Uttarahalli</td>\n",
       "      <td>3 BHK</td>\n",
       "      <td>NaN</td>\n",
       "      <td>1440</td>\n",
       "      <td>2.0</td>\n",
       "      <td>3.0</td>\n",
       "      <td>62.00</td>\n",
       "      <td>3</td>\n",
       "    </tr>\n",
       "    <tr>\n",
       "      <th>3</th>\n",
       "      <td>Super built-up  Area</td>\n",
       "      <td>Ready To Move</td>\n",
       "      <td>Lingadheeranahalli</td>\n",
       "      <td>3 BHK</td>\n",
       "      <td>Soiewre</td>\n",
       "      <td>1521</td>\n",
       "      <td>3.0</td>\n",
       "      <td>1.0</td>\n",
       "      <td>95.00</td>\n",
       "      <td>3</td>\n",
       "    </tr>\n",
       "    <tr>\n",
       "      <th>4</th>\n",
       "      <td>Super built-up  Area</td>\n",
       "      <td>Ready To Move</td>\n",
       "      <td>Kothanur</td>\n",
       "      <td>2 BHK</td>\n",
       "      <td>NaN</td>\n",
       "      <td>1200</td>\n",
       "      <td>2.0</td>\n",
       "      <td>1.0</td>\n",
       "      <td>51.00</td>\n",
       "      <td>2</td>\n",
       "    </tr>\n",
       "    <tr>\n",
       "      <th>...</th>\n",
       "      <td>...</td>\n",
       "      <td>...</td>\n",
       "      <td>...</td>\n",
       "      <td>...</td>\n",
       "      <td>...</td>\n",
       "      <td>...</td>\n",
       "      <td>...</td>\n",
       "      <td>...</td>\n",
       "      <td>...</td>\n",
       "      <td>...</td>\n",
       "    </tr>\n",
       "    <tr>\n",
       "      <th>13315</th>\n",
       "      <td>Built-up  Area</td>\n",
       "      <td>Ready To Move</td>\n",
       "      <td>Whitefield</td>\n",
       "      <td>5 Bedroom</td>\n",
       "      <td>ArsiaEx</td>\n",
       "      <td>3453</td>\n",
       "      <td>4.0</td>\n",
       "      <td>0.0</td>\n",
       "      <td>231.00</td>\n",
       "      <td>5</td>\n",
       "    </tr>\n",
       "    <tr>\n",
       "      <th>13316</th>\n",
       "      <td>Super built-up  Area</td>\n",
       "      <td>Ready To Move</td>\n",
       "      <td>Richards Town</td>\n",
       "      <td>4 BHK</td>\n",
       "      <td>NaN</td>\n",
       "      <td>3600</td>\n",
       "      <td>5.0</td>\n",
       "      <td>NaN</td>\n",
       "      <td>400.00</td>\n",
       "      <td>4</td>\n",
       "    </tr>\n",
       "    <tr>\n",
       "      <th>13317</th>\n",
       "      <td>Built-up  Area</td>\n",
       "      <td>Ready To Move</td>\n",
       "      <td>Raja Rajeshwari Nagar</td>\n",
       "      <td>2 BHK</td>\n",
       "      <td>Mahla T</td>\n",
       "      <td>1141</td>\n",
       "      <td>2.0</td>\n",
       "      <td>1.0</td>\n",
       "      <td>60.00</td>\n",
       "      <td>2</td>\n",
       "    </tr>\n",
       "    <tr>\n",
       "      <th>13318</th>\n",
       "      <td>Super built-up  Area</td>\n",
       "      <td>18-Jun</td>\n",
       "      <td>Padmanabhanagar</td>\n",
       "      <td>4 BHK</td>\n",
       "      <td>SollyCl</td>\n",
       "      <td>4689</td>\n",
       "      <td>4.0</td>\n",
       "      <td>1.0</td>\n",
       "      <td>488.00</td>\n",
       "      <td>4</td>\n",
       "    </tr>\n",
       "    <tr>\n",
       "      <th>13319</th>\n",
       "      <td>Super built-up  Area</td>\n",
       "      <td>Ready To Move</td>\n",
       "      <td>Doddathoguru</td>\n",
       "      <td>1 BHK</td>\n",
       "      <td>NaN</td>\n",
       "      <td>550</td>\n",
       "      <td>1.0</td>\n",
       "      <td>1.0</td>\n",
       "      <td>17.00</td>\n",
       "      <td>1</td>\n",
       "    </tr>\n",
       "  </tbody>\n",
       "</table>\n",
       "<p>13304 rows × 10 columns</p>\n",
       "</div>"
      ],
      "text/plain": [
       "                  area_type   availability                  location  \\\n",
       "0      Super built-up  Area         19-Dec  Electronic City Phase II   \n",
       "1                Plot  Area  Ready To Move          Chikka Tirupathi   \n",
       "2            Built-up  Area  Ready To Move               Uttarahalli   \n",
       "3      Super built-up  Area  Ready To Move        Lingadheeranahalli   \n",
       "4      Super built-up  Area  Ready To Move                  Kothanur   \n",
       "...                     ...            ...                       ...   \n",
       "13315        Built-up  Area  Ready To Move                Whitefield   \n",
       "13316  Super built-up  Area  Ready To Move             Richards Town   \n",
       "13317        Built-up  Area  Ready To Move     Raja Rajeshwari Nagar   \n",
       "13318  Super built-up  Area         18-Jun           Padmanabhanagar   \n",
       "13319  Super built-up  Area  Ready To Move              Doddathoguru   \n",
       "\n",
       "            size  society total_sqft  bath  balcony   price  bhk  \n",
       "0          2 BHK  Coomee        1056   2.0      1.0   39.07    2  \n",
       "1      4 Bedroom  Theanmp       2600   5.0      3.0  120.00    4  \n",
       "2          3 BHK      NaN       1440   2.0      3.0   62.00    3  \n",
       "3          3 BHK  Soiewre       1521   3.0      1.0   95.00    3  \n",
       "4          2 BHK      NaN       1200   2.0      1.0   51.00    2  \n",
       "...          ...      ...        ...   ...      ...     ...  ...  \n",
       "13315  5 Bedroom  ArsiaEx       3453   4.0      0.0  231.00    5  \n",
       "13316      4 BHK      NaN       3600   5.0      NaN  400.00    4  \n",
       "13317      2 BHK  Mahla T       1141   2.0      1.0   60.00    2  \n",
       "13318      4 BHK  SollyCl       4689   4.0      1.0  488.00    4  \n",
       "13319      1 BHK      NaN        550   1.0      1.0   17.00    1  \n",
       "\n",
       "[13304 rows x 10 columns]"
      ]
     },
     "execution_count": 37,
     "metadata": {},
     "output_type": "execute_result"
    }
   ],
   "source": [
    "df1"
   ]
  },
  {
   "cell_type": "markdown",
   "id": "c5400a24",
   "metadata": {},
   "source": [
    "###### Now size feature can be dropped"
   ]
  },
  {
   "cell_type": "code",
   "execution_count": 38,
   "id": "4f72411e",
   "metadata": {},
   "outputs": [
    {
     "data": {
      "text/html": [
       "<div>\n",
       "<style scoped>\n",
       "    .dataframe tbody tr th:only-of-type {\n",
       "        vertical-align: middle;\n",
       "    }\n",
       "\n",
       "    .dataframe tbody tr th {\n",
       "        vertical-align: top;\n",
       "    }\n",
       "\n",
       "    .dataframe thead th {\n",
       "        text-align: right;\n",
       "    }\n",
       "</style>\n",
       "<table border=\"1\" class=\"dataframe\">\n",
       "  <thead>\n",
       "    <tr style=\"text-align: right;\">\n",
       "      <th></th>\n",
       "      <th>area_type</th>\n",
       "      <th>availability</th>\n",
       "      <th>location</th>\n",
       "      <th>society</th>\n",
       "      <th>total_sqft</th>\n",
       "      <th>bath</th>\n",
       "      <th>balcony</th>\n",
       "      <th>price</th>\n",
       "      <th>bhk</th>\n",
       "    </tr>\n",
       "  </thead>\n",
       "  <tbody>\n",
       "    <tr>\n",
       "      <th>0</th>\n",
       "      <td>Super built-up  Area</td>\n",
       "      <td>19-Dec</td>\n",
       "      <td>Electronic City Phase II</td>\n",
       "      <td>Coomee</td>\n",
       "      <td>1056</td>\n",
       "      <td>2.0</td>\n",
       "      <td>1.0</td>\n",
       "      <td>39.07</td>\n",
       "      <td>2</td>\n",
       "    </tr>\n",
       "    <tr>\n",
       "      <th>1</th>\n",
       "      <td>Plot  Area</td>\n",
       "      <td>Ready To Move</td>\n",
       "      <td>Chikka Tirupathi</td>\n",
       "      <td>Theanmp</td>\n",
       "      <td>2600</td>\n",
       "      <td>5.0</td>\n",
       "      <td>3.0</td>\n",
       "      <td>120.00</td>\n",
       "      <td>4</td>\n",
       "    </tr>\n",
       "    <tr>\n",
       "      <th>2</th>\n",
       "      <td>Built-up  Area</td>\n",
       "      <td>Ready To Move</td>\n",
       "      <td>Uttarahalli</td>\n",
       "      <td>NaN</td>\n",
       "      <td>1440</td>\n",
       "      <td>2.0</td>\n",
       "      <td>3.0</td>\n",
       "      <td>62.00</td>\n",
       "      <td>3</td>\n",
       "    </tr>\n",
       "    <tr>\n",
       "      <th>3</th>\n",
       "      <td>Super built-up  Area</td>\n",
       "      <td>Ready To Move</td>\n",
       "      <td>Lingadheeranahalli</td>\n",
       "      <td>Soiewre</td>\n",
       "      <td>1521</td>\n",
       "      <td>3.0</td>\n",
       "      <td>1.0</td>\n",
       "      <td>95.00</td>\n",
       "      <td>3</td>\n",
       "    </tr>\n",
       "    <tr>\n",
       "      <th>4</th>\n",
       "      <td>Super built-up  Area</td>\n",
       "      <td>Ready To Move</td>\n",
       "      <td>Kothanur</td>\n",
       "      <td>NaN</td>\n",
       "      <td>1200</td>\n",
       "      <td>2.0</td>\n",
       "      <td>1.0</td>\n",
       "      <td>51.00</td>\n",
       "      <td>2</td>\n",
       "    </tr>\n",
       "    <tr>\n",
       "      <th>...</th>\n",
       "      <td>...</td>\n",
       "      <td>...</td>\n",
       "      <td>...</td>\n",
       "      <td>...</td>\n",
       "      <td>...</td>\n",
       "      <td>...</td>\n",
       "      <td>...</td>\n",
       "      <td>...</td>\n",
       "      <td>...</td>\n",
       "    </tr>\n",
       "    <tr>\n",
       "      <th>13315</th>\n",
       "      <td>Built-up  Area</td>\n",
       "      <td>Ready To Move</td>\n",
       "      <td>Whitefield</td>\n",
       "      <td>ArsiaEx</td>\n",
       "      <td>3453</td>\n",
       "      <td>4.0</td>\n",
       "      <td>0.0</td>\n",
       "      <td>231.00</td>\n",
       "      <td>5</td>\n",
       "    </tr>\n",
       "    <tr>\n",
       "      <th>13316</th>\n",
       "      <td>Super built-up  Area</td>\n",
       "      <td>Ready To Move</td>\n",
       "      <td>Richards Town</td>\n",
       "      <td>NaN</td>\n",
       "      <td>3600</td>\n",
       "      <td>5.0</td>\n",
       "      <td>NaN</td>\n",
       "      <td>400.00</td>\n",
       "      <td>4</td>\n",
       "    </tr>\n",
       "    <tr>\n",
       "      <th>13317</th>\n",
       "      <td>Built-up  Area</td>\n",
       "      <td>Ready To Move</td>\n",
       "      <td>Raja Rajeshwari Nagar</td>\n",
       "      <td>Mahla T</td>\n",
       "      <td>1141</td>\n",
       "      <td>2.0</td>\n",
       "      <td>1.0</td>\n",
       "      <td>60.00</td>\n",
       "      <td>2</td>\n",
       "    </tr>\n",
       "    <tr>\n",
       "      <th>13318</th>\n",
       "      <td>Super built-up  Area</td>\n",
       "      <td>18-Jun</td>\n",
       "      <td>Padmanabhanagar</td>\n",
       "      <td>SollyCl</td>\n",
       "      <td>4689</td>\n",
       "      <td>4.0</td>\n",
       "      <td>1.0</td>\n",
       "      <td>488.00</td>\n",
       "      <td>4</td>\n",
       "    </tr>\n",
       "    <tr>\n",
       "      <th>13319</th>\n",
       "      <td>Super built-up  Area</td>\n",
       "      <td>Ready To Move</td>\n",
       "      <td>Doddathoguru</td>\n",
       "      <td>NaN</td>\n",
       "      <td>550</td>\n",
       "      <td>1.0</td>\n",
       "      <td>1.0</td>\n",
       "      <td>17.00</td>\n",
       "      <td>1</td>\n",
       "    </tr>\n",
       "  </tbody>\n",
       "</table>\n",
       "<p>13304 rows × 9 columns</p>\n",
       "</div>"
      ],
      "text/plain": [
       "                  area_type   availability                  location  society  \\\n",
       "0      Super built-up  Area         19-Dec  Electronic City Phase II  Coomee    \n",
       "1                Plot  Area  Ready To Move          Chikka Tirupathi  Theanmp   \n",
       "2            Built-up  Area  Ready To Move               Uttarahalli      NaN   \n",
       "3      Super built-up  Area  Ready To Move        Lingadheeranahalli  Soiewre   \n",
       "4      Super built-up  Area  Ready To Move                  Kothanur      NaN   \n",
       "...                     ...            ...                       ...      ...   \n",
       "13315        Built-up  Area  Ready To Move                Whitefield  ArsiaEx   \n",
       "13316  Super built-up  Area  Ready To Move             Richards Town      NaN   \n",
       "13317        Built-up  Area  Ready To Move     Raja Rajeshwari Nagar  Mahla T   \n",
       "13318  Super built-up  Area         18-Jun           Padmanabhanagar  SollyCl   \n",
       "13319  Super built-up  Area  Ready To Move              Doddathoguru      NaN   \n",
       "\n",
       "      total_sqft  bath  balcony   price  bhk  \n",
       "0           1056   2.0      1.0   39.07    2  \n",
       "1           2600   5.0      3.0  120.00    4  \n",
       "2           1440   2.0      3.0   62.00    3  \n",
       "3           1521   3.0      1.0   95.00    3  \n",
       "4           1200   2.0      1.0   51.00    2  \n",
       "...          ...   ...      ...     ...  ...  \n",
       "13315       3453   4.0      0.0  231.00    5  \n",
       "13316       3600   5.0      NaN  400.00    4  \n",
       "13317       1141   2.0      1.0   60.00    2  \n",
       "13318       4689   4.0      1.0  488.00    4  \n",
       "13319        550   1.0      1.0   17.00    1  \n",
       "\n",
       "[13304 rows x 9 columns]"
      ]
     },
     "execution_count": 38,
     "metadata": {},
     "output_type": "execute_result"
    }
   ],
   "source": [
    "df1.drop([\"size\"],inplace=True,axis =1)\n",
    "df1"
   ]
  },
  {
   "cell_type": "code",
   "execution_count": 39,
   "id": "9a634dca",
   "metadata": {},
   "outputs": [
    {
     "data": {
      "text/plain": [
       "area_type          0\n",
       "availability       0\n",
       "location           0\n",
       "society         5499\n",
       "total_sqft         0\n",
       "bath              57\n",
       "balcony          593\n",
       "price              0\n",
       "bhk                0\n",
       "dtype: int64"
      ]
     },
     "execution_count": 39,
     "metadata": {},
     "output_type": "execute_result"
    }
   ],
   "source": [
    "df1.isnull().sum()"
   ]
  },
  {
   "cell_type": "markdown",
   "id": "29475860",
   "metadata": {},
   "source": [
    "### 3.'Society'  has 5499 missing values so better to drop this feature -"
   ]
  },
  {
   "cell_type": "code",
   "execution_count": 40,
   "id": "945fae8b",
   "metadata": {},
   "outputs": [
    {
     "data": {
      "text/html": [
       "<div>\n",
       "<style scoped>\n",
       "    .dataframe tbody tr th:only-of-type {\n",
       "        vertical-align: middle;\n",
       "    }\n",
       "\n",
       "    .dataframe tbody tr th {\n",
       "        vertical-align: top;\n",
       "    }\n",
       "\n",
       "    .dataframe thead th {\n",
       "        text-align: right;\n",
       "    }\n",
       "</style>\n",
       "<table border=\"1\" class=\"dataframe\">\n",
       "  <thead>\n",
       "    <tr style=\"text-align: right;\">\n",
       "      <th></th>\n",
       "      <th>area_type</th>\n",
       "      <th>availability</th>\n",
       "      <th>location</th>\n",
       "      <th>total_sqft</th>\n",
       "      <th>bath</th>\n",
       "      <th>balcony</th>\n",
       "      <th>price</th>\n",
       "      <th>bhk</th>\n",
       "    </tr>\n",
       "  </thead>\n",
       "  <tbody>\n",
       "    <tr>\n",
       "      <th>0</th>\n",
       "      <td>Super built-up  Area</td>\n",
       "      <td>19-Dec</td>\n",
       "      <td>Electronic City Phase II</td>\n",
       "      <td>1056</td>\n",
       "      <td>2.0</td>\n",
       "      <td>1.0</td>\n",
       "      <td>39.07</td>\n",
       "      <td>2</td>\n",
       "    </tr>\n",
       "    <tr>\n",
       "      <th>1</th>\n",
       "      <td>Plot  Area</td>\n",
       "      <td>Ready To Move</td>\n",
       "      <td>Chikka Tirupathi</td>\n",
       "      <td>2600</td>\n",
       "      <td>5.0</td>\n",
       "      <td>3.0</td>\n",
       "      <td>120.00</td>\n",
       "      <td>4</td>\n",
       "    </tr>\n",
       "    <tr>\n",
       "      <th>2</th>\n",
       "      <td>Built-up  Area</td>\n",
       "      <td>Ready To Move</td>\n",
       "      <td>Uttarahalli</td>\n",
       "      <td>1440</td>\n",
       "      <td>2.0</td>\n",
       "      <td>3.0</td>\n",
       "      <td>62.00</td>\n",
       "      <td>3</td>\n",
       "    </tr>\n",
       "    <tr>\n",
       "      <th>3</th>\n",
       "      <td>Super built-up  Area</td>\n",
       "      <td>Ready To Move</td>\n",
       "      <td>Lingadheeranahalli</td>\n",
       "      <td>1521</td>\n",
       "      <td>3.0</td>\n",
       "      <td>1.0</td>\n",
       "      <td>95.00</td>\n",
       "      <td>3</td>\n",
       "    </tr>\n",
       "    <tr>\n",
       "      <th>4</th>\n",
       "      <td>Super built-up  Area</td>\n",
       "      <td>Ready To Move</td>\n",
       "      <td>Kothanur</td>\n",
       "      <td>1200</td>\n",
       "      <td>2.0</td>\n",
       "      <td>1.0</td>\n",
       "      <td>51.00</td>\n",
       "      <td>2</td>\n",
       "    </tr>\n",
       "    <tr>\n",
       "      <th>...</th>\n",
       "      <td>...</td>\n",
       "      <td>...</td>\n",
       "      <td>...</td>\n",
       "      <td>...</td>\n",
       "      <td>...</td>\n",
       "      <td>...</td>\n",
       "      <td>...</td>\n",
       "      <td>...</td>\n",
       "    </tr>\n",
       "    <tr>\n",
       "      <th>13315</th>\n",
       "      <td>Built-up  Area</td>\n",
       "      <td>Ready To Move</td>\n",
       "      <td>Whitefield</td>\n",
       "      <td>3453</td>\n",
       "      <td>4.0</td>\n",
       "      <td>0.0</td>\n",
       "      <td>231.00</td>\n",
       "      <td>5</td>\n",
       "    </tr>\n",
       "    <tr>\n",
       "      <th>13316</th>\n",
       "      <td>Super built-up  Area</td>\n",
       "      <td>Ready To Move</td>\n",
       "      <td>Richards Town</td>\n",
       "      <td>3600</td>\n",
       "      <td>5.0</td>\n",
       "      <td>NaN</td>\n",
       "      <td>400.00</td>\n",
       "      <td>4</td>\n",
       "    </tr>\n",
       "    <tr>\n",
       "      <th>13317</th>\n",
       "      <td>Built-up  Area</td>\n",
       "      <td>Ready To Move</td>\n",
       "      <td>Raja Rajeshwari Nagar</td>\n",
       "      <td>1141</td>\n",
       "      <td>2.0</td>\n",
       "      <td>1.0</td>\n",
       "      <td>60.00</td>\n",
       "      <td>2</td>\n",
       "    </tr>\n",
       "    <tr>\n",
       "      <th>13318</th>\n",
       "      <td>Super built-up  Area</td>\n",
       "      <td>18-Jun</td>\n",
       "      <td>Padmanabhanagar</td>\n",
       "      <td>4689</td>\n",
       "      <td>4.0</td>\n",
       "      <td>1.0</td>\n",
       "      <td>488.00</td>\n",
       "      <td>4</td>\n",
       "    </tr>\n",
       "    <tr>\n",
       "      <th>13319</th>\n",
       "      <td>Super built-up  Area</td>\n",
       "      <td>Ready To Move</td>\n",
       "      <td>Doddathoguru</td>\n",
       "      <td>550</td>\n",
       "      <td>1.0</td>\n",
       "      <td>1.0</td>\n",
       "      <td>17.00</td>\n",
       "      <td>1</td>\n",
       "    </tr>\n",
       "  </tbody>\n",
       "</table>\n",
       "<p>13304 rows × 8 columns</p>\n",
       "</div>"
      ],
      "text/plain": [
       "                  area_type   availability                  location  \\\n",
       "0      Super built-up  Area         19-Dec  Electronic City Phase II   \n",
       "1                Plot  Area  Ready To Move          Chikka Tirupathi   \n",
       "2            Built-up  Area  Ready To Move               Uttarahalli   \n",
       "3      Super built-up  Area  Ready To Move        Lingadheeranahalli   \n",
       "4      Super built-up  Area  Ready To Move                  Kothanur   \n",
       "...                     ...            ...                       ...   \n",
       "13315        Built-up  Area  Ready To Move                Whitefield   \n",
       "13316  Super built-up  Area  Ready To Move             Richards Town   \n",
       "13317        Built-up  Area  Ready To Move     Raja Rajeshwari Nagar   \n",
       "13318  Super built-up  Area         18-Jun           Padmanabhanagar   \n",
       "13319  Super built-up  Area  Ready To Move              Doddathoguru   \n",
       "\n",
       "      total_sqft  bath  balcony   price  bhk  \n",
       "0           1056   2.0      1.0   39.07    2  \n",
       "1           2600   5.0      3.0  120.00    4  \n",
       "2           1440   2.0      3.0   62.00    3  \n",
       "3           1521   3.0      1.0   95.00    3  \n",
       "4           1200   2.0      1.0   51.00    2  \n",
       "...          ...   ...      ...     ...  ...  \n",
       "13315       3453   4.0      0.0  231.00    5  \n",
       "13316       3600   5.0      NaN  400.00    4  \n",
       "13317       1141   2.0      1.0   60.00    2  \n",
       "13318       4689   4.0      1.0  488.00    4  \n",
       "13319        550   1.0      1.0   17.00    1  \n",
       "\n",
       "[13304 rows x 8 columns]"
      ]
     },
     "execution_count": 40,
     "metadata": {},
     "output_type": "execute_result"
    }
   ],
   "source": [
    "df1.drop([\"society\"],inplace=True,axis =1)\n",
    "df1"
   ]
  },
  {
   "cell_type": "code",
   "execution_count": 41,
   "id": "5674f63d",
   "metadata": {},
   "outputs": [
    {
     "data": {
      "text/plain": [
       "area_type         0\n",
       "availability      0\n",
       "location          0\n",
       "total_sqft        0\n",
       "bath             57\n",
       "balcony         593\n",
       "price             0\n",
       "bhk               0\n",
       "dtype: int64"
      ]
     },
     "execution_count": 41,
     "metadata": {},
     "output_type": "execute_result"
    }
   ],
   "source": [
    "df1.isnull().sum()"
   ]
  },
  {
   "cell_type": "markdown",
   "id": "dc1f97f4",
   "metadata": {},
   "source": [
    "### 4.'Bath'  has 57 missing values -"
   ]
  },
  {
   "cell_type": "code",
   "execution_count": 42,
   "id": "2899f3f4",
   "metadata": {},
   "outputs": [
    {
     "data": {
      "text/html": [
       "<div>\n",
       "<style scoped>\n",
       "    .dataframe tbody tr th:only-of-type {\n",
       "        vertical-align: middle;\n",
       "    }\n",
       "\n",
       "    .dataframe tbody tr th {\n",
       "        vertical-align: top;\n",
       "    }\n",
       "\n",
       "    .dataframe thead th {\n",
       "        text-align: right;\n",
       "    }\n",
       "</style>\n",
       "<table border=\"1\" class=\"dataframe\">\n",
       "  <thead>\n",
       "    <tr style=\"text-align: right;\">\n",
       "      <th></th>\n",
       "      <th>area_type</th>\n",
       "      <th>availability</th>\n",
       "      <th>location</th>\n",
       "      <th>total_sqft</th>\n",
       "      <th>bath</th>\n",
       "      <th>balcony</th>\n",
       "      <th>price</th>\n",
       "      <th>bhk</th>\n",
       "    </tr>\n",
       "  </thead>\n",
       "  <tbody>\n",
       "    <tr>\n",
       "      <th>56</th>\n",
       "      <td>Built-up  Area</td>\n",
       "      <td>20-Feb</td>\n",
       "      <td>Devanahalli</td>\n",
       "      <td>3010 - 3410</td>\n",
       "      <td>NaN</td>\n",
       "      <td>NaN</td>\n",
       "      <td>192.000</td>\n",
       "      <td>4</td>\n",
       "    </tr>\n",
       "    <tr>\n",
       "      <th>81</th>\n",
       "      <td>Built-up  Area</td>\n",
       "      <td>18-Oct</td>\n",
       "      <td>Hennur Road</td>\n",
       "      <td>2957 - 3450</td>\n",
       "      <td>NaN</td>\n",
       "      <td>NaN</td>\n",
       "      <td>224.500</td>\n",
       "      <td>4</td>\n",
       "    </tr>\n",
       "    <tr>\n",
       "      <th>224</th>\n",
       "      <td>Super built-up  Area</td>\n",
       "      <td>19-Dec</td>\n",
       "      <td>Devanahalli</td>\n",
       "      <td>1520 - 1740</td>\n",
       "      <td>NaN</td>\n",
       "      <td>NaN</td>\n",
       "      <td>74.820</td>\n",
       "      <td>3</td>\n",
       "    </tr>\n",
       "    <tr>\n",
       "      <th>344</th>\n",
       "      <td>Super built-up  Area</td>\n",
       "      <td>21-Dec</td>\n",
       "      <td>Kanakpura Road</td>\n",
       "      <td>525</td>\n",
       "      <td>NaN</td>\n",
       "      <td>NaN</td>\n",
       "      <td>21.530</td>\n",
       "      <td>1</td>\n",
       "    </tr>\n",
       "    <tr>\n",
       "      <th>669</th>\n",
       "      <td>Super built-up  Area</td>\n",
       "      <td>18-Dec</td>\n",
       "      <td>JP Nagar</td>\n",
       "      <td>4400 - 6640</td>\n",
       "      <td>NaN</td>\n",
       "      <td>NaN</td>\n",
       "      <td>375.000</td>\n",
       "      <td>5</td>\n",
       "    </tr>\n",
       "    <tr>\n",
       "      <th>702</th>\n",
       "      <td>Super built-up  Area</td>\n",
       "      <td>18-Dec</td>\n",
       "      <td>JP Nagar</td>\n",
       "      <td>4400 - 6800</td>\n",
       "      <td>NaN</td>\n",
       "      <td>NaN</td>\n",
       "      <td>548.500</td>\n",
       "      <td>5</td>\n",
       "    </tr>\n",
       "    <tr>\n",
       "      <th>801</th>\n",
       "      <td>Super built-up  Area</td>\n",
       "      <td>18-Dec</td>\n",
       "      <td>JP Nagar</td>\n",
       "      <td>4000 - 5249</td>\n",
       "      <td>NaN</td>\n",
       "      <td>NaN</td>\n",
       "      <td>453.000</td>\n",
       "      <td>4</td>\n",
       "    </tr>\n",
       "    <tr>\n",
       "      <th>941</th>\n",
       "      <td>Super built-up  Area</td>\n",
       "      <td>Ready To Move</td>\n",
       "      <td>Whitefield</td>\n",
       "      <td>3606 - 5091</td>\n",
       "      <td>NaN</td>\n",
       "      <td>NaN</td>\n",
       "      <td>304.000</td>\n",
       "      <td>4</td>\n",
       "    </tr>\n",
       "    <tr>\n",
       "      <th>1264</th>\n",
       "      <td>Built-up  Area</td>\n",
       "      <td>18-May</td>\n",
       "      <td>Hennur</td>\n",
       "      <td>2264</td>\n",
       "      <td>NaN</td>\n",
       "      <td>NaN</td>\n",
       "      <td>155.000</td>\n",
       "      <td>3</td>\n",
       "    </tr>\n",
       "    <tr>\n",
       "      <th>1267</th>\n",
       "      <td>Super built-up  Area</td>\n",
       "      <td>18-Jun</td>\n",
       "      <td>Yelahanka</td>\n",
       "      <td>1440 - 1884</td>\n",
       "      <td>NaN</td>\n",
       "      <td>NaN</td>\n",
       "      <td>67.980</td>\n",
       "      <td>3</td>\n",
       "    </tr>\n",
       "    <tr>\n",
       "      <th>1686</th>\n",
       "      <td>Super built-up  Area</td>\n",
       "      <td>21-Dec</td>\n",
       "      <td>Whitefield</td>\n",
       "      <td>660 - 670</td>\n",
       "      <td>NaN</td>\n",
       "      <td>NaN</td>\n",
       "      <td>28.585</td>\n",
       "      <td>1</td>\n",
       "    </tr>\n",
       "    <tr>\n",
       "      <th>1724</th>\n",
       "      <td>Super built-up  Area</td>\n",
       "      <td>Ready To Move</td>\n",
       "      <td>Thanisandra</td>\n",
       "      <td>620 - 933</td>\n",
       "      <td>NaN</td>\n",
       "      <td>NaN</td>\n",
       "      <td>48.145</td>\n",
       "      <td>1</td>\n",
       "    </tr>\n",
       "    <tr>\n",
       "      <th>1765</th>\n",
       "      <td>Super built-up  Area</td>\n",
       "      <td>19-Dec</td>\n",
       "      <td>Binny Pete</td>\n",
       "      <td>2695 - 2940</td>\n",
       "      <td>NaN</td>\n",
       "      <td>NaN</td>\n",
       "      <td>204.000</td>\n",
       "      <td>4</td>\n",
       "    </tr>\n",
       "    <tr>\n",
       "      <th>1852</th>\n",
       "      <td>Super built-up  Area</td>\n",
       "      <td>19-Jun</td>\n",
       "      <td>Yelahanka</td>\n",
       "      <td>3450 - 3472</td>\n",
       "      <td>NaN</td>\n",
       "      <td>NaN</td>\n",
       "      <td>173.000</td>\n",
       "      <td>4</td>\n",
       "    </tr>\n",
       "    <tr>\n",
       "      <th>2500</th>\n",
       "      <td>Super built-up  Area</td>\n",
       "      <td>22-May</td>\n",
       "      <td>Jakkur</td>\n",
       "      <td>2249.81 - 4112.19</td>\n",
       "      <td>NaN</td>\n",
       "      <td>NaN</td>\n",
       "      <td>260.500</td>\n",
       "      <td>4</td>\n",
       "    </tr>\n",
       "    <tr>\n",
       "      <th>2563</th>\n",
       "      <td>Super built-up  Area</td>\n",
       "      <td>Ready To Move</td>\n",
       "      <td>Rajaji Nagar</td>\n",
       "      <td>3436 - 3643</td>\n",
       "      <td>NaN</td>\n",
       "      <td>NaN</td>\n",
       "      <td>424.500</td>\n",
       "      <td>4</td>\n",
       "    </tr>\n",
       "    <tr>\n",
       "      <th>2944</th>\n",
       "      <td>Super built-up  Area</td>\n",
       "      <td>18-Dec</td>\n",
       "      <td>Kudlu Gate</td>\n",
       "      <td>1564 - 1850</td>\n",
       "      <td>NaN</td>\n",
       "      <td>NaN</td>\n",
       "      <td>99.745</td>\n",
       "      <td>3</td>\n",
       "    </tr>\n",
       "    <tr>\n",
       "      <th>2998</th>\n",
       "      <td>Super built-up  Area</td>\n",
       "      <td>19-May</td>\n",
       "      <td>Sarjapur  Road</td>\n",
       "      <td>1446 - 1506</td>\n",
       "      <td>NaN</td>\n",
       "      <td>NaN</td>\n",
       "      <td>98.940</td>\n",
       "      <td>3</td>\n",
       "    </tr>\n",
       "    <tr>\n",
       "      <th>3370</th>\n",
       "      <td>Super built-up  Area</td>\n",
       "      <td>Ready To Move</td>\n",
       "      <td>Kanakpura Road</td>\n",
       "      <td>1430 - 1630</td>\n",
       "      <td>NaN</td>\n",
       "      <td>NaN</td>\n",
       "      <td>66.400</td>\n",
       "      <td>3</td>\n",
       "    </tr>\n",
       "    <tr>\n",
       "      <th>3544</th>\n",
       "      <td>Super built-up  Area</td>\n",
       "      <td>19-Mar</td>\n",
       "      <td>Hennur Road</td>\n",
       "      <td>1482 - 1846</td>\n",
       "      <td>NaN</td>\n",
       "      <td>NaN</td>\n",
       "      <td>93.865</td>\n",
       "      <td>3</td>\n",
       "    </tr>\n",
       "    <tr>\n",
       "      <th>3598</th>\n",
       "      <td>Super built-up  Area</td>\n",
       "      <td>18-Jun</td>\n",
       "      <td>Haralur Road</td>\n",
       "      <td>2805 - 3565</td>\n",
       "      <td>NaN</td>\n",
       "      <td>NaN</td>\n",
       "      <td>175.000</td>\n",
       "      <td>4</td>\n",
       "    </tr>\n",
       "    <tr>\n",
       "      <th>3862</th>\n",
       "      <td>Super built-up  Area</td>\n",
       "      <td>Ready To Move</td>\n",
       "      <td>Jigani</td>\n",
       "      <td>3293 - 5314</td>\n",
       "      <td>NaN</td>\n",
       "      <td>NaN</td>\n",
       "      <td>226.000</td>\n",
       "      <td>4</td>\n",
       "    </tr>\n",
       "    <tr>\n",
       "      <th>4210</th>\n",
       "      <td>Super built-up  Area</td>\n",
       "      <td>Ready To Move</td>\n",
       "      <td>Malleshwaram</td>\n",
       "      <td>2215 - 2475</td>\n",
       "      <td>NaN</td>\n",
       "      <td>NaN</td>\n",
       "      <td>293.000</td>\n",
       "      <td>3</td>\n",
       "    </tr>\n",
       "    <tr>\n",
       "      <th>4346</th>\n",
       "      <td>Super built-up  Area</td>\n",
       "      <td>18-Dec</td>\n",
       "      <td>Whitefield</td>\n",
       "      <td>1650 - 2538</td>\n",
       "      <td>NaN</td>\n",
       "      <td>NaN</td>\n",
       "      <td>113.190</td>\n",
       "      <td>3</td>\n",
       "    </tr>\n",
       "    <tr>\n",
       "      <th>4843</th>\n",
       "      <td>Super built-up  Area</td>\n",
       "      <td>18-Mar</td>\n",
       "      <td>Bhoganhalli</td>\n",
       "      <td>1974 - 2171</td>\n",
       "      <td>NaN</td>\n",
       "      <td>NaN</td>\n",
       "      <td>111.000</td>\n",
       "      <td>4</td>\n",
       "    </tr>\n",
       "    <tr>\n",
       "      <th>4894</th>\n",
       "      <td>Super built-up  Area</td>\n",
       "      <td>Ready To Move</td>\n",
       "      <td>Bommanahalli</td>\n",
       "      <td>1360 - 1890</td>\n",
       "      <td>NaN</td>\n",
       "      <td>NaN</td>\n",
       "      <td>87.720</td>\n",
       "      <td>3</td>\n",
       "    </tr>\n",
       "    <tr>\n",
       "      <th>4995</th>\n",
       "      <td>Super built-up  Area</td>\n",
       "      <td>18-Mar</td>\n",
       "      <td>Hebbal</td>\n",
       "      <td>2466 - 2856</td>\n",
       "      <td>NaN</td>\n",
       "      <td>NaN</td>\n",
       "      <td>226.500</td>\n",
       "      <td>3</td>\n",
       "    </tr>\n",
       "    <tr>\n",
       "      <th>5464</th>\n",
       "      <td>Super built-up  Area</td>\n",
       "      <td>18-Sep</td>\n",
       "      <td>KR Puram</td>\n",
       "      <td>1310 - 1615</td>\n",
       "      <td>NaN</td>\n",
       "      <td>NaN</td>\n",
       "      <td>62.810</td>\n",
       "      <td>3</td>\n",
       "    </tr>\n",
       "    <tr>\n",
       "      <th>5498</th>\n",
       "      <td>Built-up  Area</td>\n",
       "      <td>Ready To Move</td>\n",
       "      <td>Chandapura</td>\n",
       "      <td>1782 - 2000</td>\n",
       "      <td>NaN</td>\n",
       "      <td>NaN</td>\n",
       "      <td>66.165</td>\n",
       "      <td>4</td>\n",
       "    </tr>\n",
       "    <tr>\n",
       "      <th>5747</th>\n",
       "      <td>Super built-up  Area</td>\n",
       "      <td>18-Apr</td>\n",
       "      <td>Kanakpura Road</td>\n",
       "      <td>525</td>\n",
       "      <td>NaN</td>\n",
       "      <td>NaN</td>\n",
       "      <td>27.000</td>\n",
       "      <td>1</td>\n",
       "    </tr>\n",
       "    <tr>\n",
       "      <th>5918</th>\n",
       "      <td>Super built-up  Area</td>\n",
       "      <td>Ready To Move</td>\n",
       "      <td>Sarjapur  Road</td>\n",
       "      <td>4260 - 4408</td>\n",
       "      <td>NaN</td>\n",
       "      <td>NaN</td>\n",
       "      <td>338.000</td>\n",
       "      <td>4</td>\n",
       "    </tr>\n",
       "    <tr>\n",
       "      <th>6256</th>\n",
       "      <td>Built-up  Area</td>\n",
       "      <td>Ready To Move</td>\n",
       "      <td>Electronic City Phase II</td>\n",
       "      <td>3500 - 3600</td>\n",
       "      <td>NaN</td>\n",
       "      <td>NaN</td>\n",
       "      <td>167.500</td>\n",
       "      <td>4</td>\n",
       "    </tr>\n",
       "    <tr>\n",
       "      <th>6343</th>\n",
       "      <td>Super built-up  Area</td>\n",
       "      <td>18-May</td>\n",
       "      <td>KR Puram</td>\n",
       "      <td>1482 - 1684</td>\n",
       "      <td>NaN</td>\n",
       "      <td>NaN</td>\n",
       "      <td>70.445</td>\n",
       "      <td>3</td>\n",
       "    </tr>\n",
       "    <tr>\n",
       "      <th>6481</th>\n",
       "      <td>Super built-up  Area</td>\n",
       "      <td>18-Jun</td>\n",
       "      <td>Chandapura</td>\n",
       "      <td>1100 - 1225</td>\n",
       "      <td>NaN</td>\n",
       "      <td>NaN</td>\n",
       "      <td>30.215</td>\n",
       "      <td>3</td>\n",
       "    </tr>\n",
       "    <tr>\n",
       "      <th>6778</th>\n",
       "      <td>Super built-up  Area</td>\n",
       "      <td>Ready To Move</td>\n",
       "      <td>Old Madras Road</td>\n",
       "      <td>4050 - 4075</td>\n",
       "      <td>NaN</td>\n",
       "      <td>NaN</td>\n",
       "      <td>341.000</td>\n",
       "      <td>4</td>\n",
       "    </tr>\n",
       "    <tr>\n",
       "      <th>6873</th>\n",
       "      <td>Super built-up  Area</td>\n",
       "      <td>18-Mar</td>\n",
       "      <td>JP Nagar</td>\n",
       "      <td>1750 - 2640</td>\n",
       "      <td>NaN</td>\n",
       "      <td>NaN</td>\n",
       "      <td>152.000</td>\n",
       "      <td>3</td>\n",
       "    </tr>\n",
       "    <tr>\n",
       "      <th>6971</th>\n",
       "      <td>Super built-up  Area</td>\n",
       "      <td>18-Dec</td>\n",
       "      <td>Whitefield</td>\n",
       "      <td>1390 - 1600</td>\n",
       "      <td>NaN</td>\n",
       "      <td>NaN</td>\n",
       "      <td>61.280</td>\n",
       "      <td>3</td>\n",
       "    </tr>\n",
       "    <tr>\n",
       "      <th>7398</th>\n",
       "      <td>Super built-up  Area</td>\n",
       "      <td>18-Dec</td>\n",
       "      <td>JP Nagar</td>\n",
       "      <td>3103 - 3890</td>\n",
       "      <td>NaN</td>\n",
       "      <td>NaN</td>\n",
       "      <td>237.500</td>\n",
       "      <td>3</td>\n",
       "    </tr>\n",
       "    <tr>\n",
       "      <th>7623</th>\n",
       "      <td>Super built-up  Area</td>\n",
       "      <td>Ready To Move</td>\n",
       "      <td>Electronics City Phase 1</td>\n",
       "      <td>1450 - 1595</td>\n",
       "      <td>NaN</td>\n",
       "      <td>NaN</td>\n",
       "      <td>60.750</td>\n",
       "      <td>3</td>\n",
       "    </tr>\n",
       "    <tr>\n",
       "      <th>7921</th>\n",
       "      <td>Super built-up  Area</td>\n",
       "      <td>18-Mar</td>\n",
       "      <td>Sarjapur  Road</td>\n",
       "      <td>1618 - 1929</td>\n",
       "      <td>NaN</td>\n",
       "      <td>NaN</td>\n",
       "      <td>85.125</td>\n",
       "      <td>3</td>\n",
       "    </tr>\n",
       "    <tr>\n",
       "      <th>8020</th>\n",
       "      <td>Super built-up  Area</td>\n",
       "      <td>22-May</td>\n",
       "      <td>Jakkur</td>\n",
       "      <td>2249.81 - 4112.19</td>\n",
       "      <td>NaN</td>\n",
       "      <td>NaN</td>\n",
       "      <td>229.000</td>\n",
       "      <td>4</td>\n",
       "    </tr>\n",
       "    <tr>\n",
       "      <th>8056</th>\n",
       "      <td>Super built-up  Area</td>\n",
       "      <td>Ready To Move</td>\n",
       "      <td>Jakkur</td>\n",
       "      <td>1610 - 1880</td>\n",
       "      <td>NaN</td>\n",
       "      <td>NaN</td>\n",
       "      <td>98.485</td>\n",
       "      <td>3</td>\n",
       "    </tr>\n",
       "    <tr>\n",
       "      <th>8275</th>\n",
       "      <td>Super built-up  Area</td>\n",
       "      <td>21-Dec</td>\n",
       "      <td>Kanakpura Road</td>\n",
       "      <td>525</td>\n",
       "      <td>NaN</td>\n",
       "      <td>NaN</td>\n",
       "      <td>29.250</td>\n",
       "      <td>1</td>\n",
       "    </tr>\n",
       "    <tr>\n",
       "      <th>8289</th>\n",
       "      <td>Super built-up  Area</td>\n",
       "      <td>18-Apr</td>\n",
       "      <td>Kanakpura Road</td>\n",
       "      <td>700 - 900</td>\n",
       "      <td>NaN</td>\n",
       "      <td>NaN</td>\n",
       "      <td>41.145</td>\n",
       "      <td>2</td>\n",
       "    </tr>\n",
       "    <tr>\n",
       "      <th>8472</th>\n",
       "      <td>Super built-up  Area</td>\n",
       "      <td>18-Dec</td>\n",
       "      <td>Sarjapur</td>\n",
       "      <td>1925 - 2680</td>\n",
       "      <td>NaN</td>\n",
       "      <td>NaN</td>\n",
       "      <td>80.590</td>\n",
       "      <td>4</td>\n",
       "    </tr>\n",
       "    <tr>\n",
       "      <th>8783</th>\n",
       "      <td>Super built-up  Area</td>\n",
       "      <td>18-Dec</td>\n",
       "      <td>Whitefield</td>\n",
       "      <td>1390 - 1600</td>\n",
       "      <td>NaN</td>\n",
       "      <td>NaN</td>\n",
       "      <td>60.550</td>\n",
       "      <td>3</td>\n",
       "    </tr>\n",
       "    <tr>\n",
       "      <th>9129</th>\n",
       "      <td>Super built-up  Area</td>\n",
       "      <td>18-May</td>\n",
       "      <td>Mysore Road</td>\n",
       "      <td>1410 - 1710</td>\n",
       "      <td>NaN</td>\n",
       "      <td>NaN</td>\n",
       "      <td>83.300</td>\n",
       "      <td>3</td>\n",
       "    </tr>\n",
       "    <tr>\n",
       "      <th>9437</th>\n",
       "      <td>Built-up  Area</td>\n",
       "      <td>18-May</td>\n",
       "      <td>Hennur</td>\n",
       "      <td>2557</td>\n",
       "      <td>NaN</td>\n",
       "      <td>NaN</td>\n",
       "      <td>170.000</td>\n",
       "      <td>4</td>\n",
       "    </tr>\n",
       "    <tr>\n",
       "      <th>9699</th>\n",
       "      <td>Super built-up  Area</td>\n",
       "      <td>18-Jul</td>\n",
       "      <td>Bannerghatta</td>\n",
       "      <td>1791 - 4000</td>\n",
       "      <td>NaN</td>\n",
       "      <td>NaN</td>\n",
       "      <td>246.000</td>\n",
       "      <td>4</td>\n",
       "    </tr>\n",
       "    <tr>\n",
       "      <th>10330</th>\n",
       "      <td>Super built-up  Area</td>\n",
       "      <td>Ready To Move</td>\n",
       "      <td>Kanakpura Road</td>\n",
       "      <td>1430 - 1630</td>\n",
       "      <td>NaN</td>\n",
       "      <td>NaN</td>\n",
       "      <td>70.990</td>\n",
       "      <td>3</td>\n",
       "    </tr>\n",
       "    <tr>\n",
       "      <th>10553</th>\n",
       "      <td>Built-up  Area</td>\n",
       "      <td>Ready To Move</td>\n",
       "      <td>Sarjapur  Road</td>\n",
       "      <td>3418</td>\n",
       "      <td>NaN</td>\n",
       "      <td>NaN</td>\n",
       "      <td>222.000</td>\n",
       "      <td>4</td>\n",
       "    </tr>\n",
       "    <tr>\n",
       "      <th>10726</th>\n",
       "      <td>Super built-up  Area</td>\n",
       "      <td>18-Mar</td>\n",
       "      <td>Sarjapur  Road</td>\n",
       "      <td>1618 - 1929</td>\n",
       "      <td>NaN</td>\n",
       "      <td>NaN</td>\n",
       "      <td>102.920</td>\n",
       "      <td>3</td>\n",
       "    </tr>\n",
       "    <tr>\n",
       "      <th>11297</th>\n",
       "      <td>Super built-up  Area</td>\n",
       "      <td>18-Dec</td>\n",
       "      <td>Hennur</td>\n",
       "      <td>3484 - 3550</td>\n",
       "      <td>NaN</td>\n",
       "      <td>NaN</td>\n",
       "      <td>161.500</td>\n",
       "      <td>4</td>\n",
       "    </tr>\n",
       "    <tr>\n",
       "      <th>11496</th>\n",
       "      <td>Super built-up  Area</td>\n",
       "      <td>21-Dec</td>\n",
       "      <td>Kanakpura Road</td>\n",
       "      <td>525</td>\n",
       "      <td>NaN</td>\n",
       "      <td>NaN</td>\n",
       "      <td>27.000</td>\n",
       "      <td>1</td>\n",
       "    </tr>\n",
       "    <tr>\n",
       "      <th>12768</th>\n",
       "      <td>Built-up  Area</td>\n",
       "      <td>18-Mar</td>\n",
       "      <td>Bettahalsoor</td>\n",
       "      <td>3210</td>\n",
       "      <td>NaN</td>\n",
       "      <td>NaN</td>\n",
       "      <td>353.000</td>\n",
       "      <td>5</td>\n",
       "    </tr>\n",
       "    <tr>\n",
       "      <th>12861</th>\n",
       "      <td>Super built-up  Area</td>\n",
       "      <td>21-Dec</td>\n",
       "      <td>KR Puram</td>\n",
       "      <td>2204 - 2362</td>\n",
       "      <td>NaN</td>\n",
       "      <td>NaN</td>\n",
       "      <td>121.000</td>\n",
       "      <td>4</td>\n",
       "    </tr>\n",
       "    <tr>\n",
       "      <th>13240</th>\n",
       "      <td>Super built-up  Area</td>\n",
       "      <td>Ready To Move</td>\n",
       "      <td>Devanahalli</td>\n",
       "      <td>1020 - 1130</td>\n",
       "      <td>NaN</td>\n",
       "      <td>NaN</td>\n",
       "      <td>52.570</td>\n",
       "      <td>1</td>\n",
       "    </tr>\n",
       "  </tbody>\n",
       "</table>\n",
       "</div>"
      ],
      "text/plain": [
       "                  area_type   availability                  location  \\\n",
       "56           Built-up  Area         20-Feb               Devanahalli   \n",
       "81           Built-up  Area         18-Oct               Hennur Road   \n",
       "224    Super built-up  Area         19-Dec               Devanahalli   \n",
       "344    Super built-up  Area         21-Dec            Kanakpura Road   \n",
       "669    Super built-up  Area         18-Dec                  JP Nagar   \n",
       "702    Super built-up  Area         18-Dec                  JP Nagar   \n",
       "801    Super built-up  Area         18-Dec                  JP Nagar   \n",
       "941    Super built-up  Area  Ready To Move                Whitefield   \n",
       "1264         Built-up  Area         18-May                    Hennur   \n",
       "1267   Super built-up  Area         18-Jun                 Yelahanka   \n",
       "1686   Super built-up  Area         21-Dec                Whitefield   \n",
       "1724   Super built-up  Area  Ready To Move               Thanisandra   \n",
       "1765   Super built-up  Area         19-Dec                Binny Pete   \n",
       "1852   Super built-up  Area         19-Jun                 Yelahanka   \n",
       "2500   Super built-up  Area         22-May                    Jakkur   \n",
       "2563   Super built-up  Area  Ready To Move              Rajaji Nagar   \n",
       "2944   Super built-up  Area         18-Dec                Kudlu Gate   \n",
       "2998   Super built-up  Area         19-May            Sarjapur  Road   \n",
       "3370   Super built-up  Area  Ready To Move            Kanakpura Road   \n",
       "3544   Super built-up  Area         19-Mar               Hennur Road   \n",
       "3598   Super built-up  Area         18-Jun              Haralur Road   \n",
       "3862   Super built-up  Area  Ready To Move                    Jigani   \n",
       "4210   Super built-up  Area  Ready To Move              Malleshwaram   \n",
       "4346   Super built-up  Area         18-Dec                Whitefield   \n",
       "4843   Super built-up  Area         18-Mar               Bhoganhalli   \n",
       "4894   Super built-up  Area  Ready To Move              Bommanahalli   \n",
       "4995   Super built-up  Area         18-Mar                    Hebbal   \n",
       "5464   Super built-up  Area         18-Sep                  KR Puram   \n",
       "5498         Built-up  Area  Ready To Move                Chandapura   \n",
       "5747   Super built-up  Area         18-Apr            Kanakpura Road   \n",
       "5918   Super built-up  Area  Ready To Move            Sarjapur  Road   \n",
       "6256         Built-up  Area  Ready To Move  Electronic City Phase II   \n",
       "6343   Super built-up  Area         18-May                  KR Puram   \n",
       "6481   Super built-up  Area         18-Jun                Chandapura   \n",
       "6778   Super built-up  Area  Ready To Move           Old Madras Road   \n",
       "6873   Super built-up  Area         18-Mar                  JP Nagar   \n",
       "6971   Super built-up  Area         18-Dec                Whitefield   \n",
       "7398   Super built-up  Area         18-Dec                  JP Nagar   \n",
       "7623   Super built-up  Area  Ready To Move  Electronics City Phase 1   \n",
       "7921   Super built-up  Area         18-Mar            Sarjapur  Road   \n",
       "8020   Super built-up  Area         22-May                    Jakkur   \n",
       "8056   Super built-up  Area  Ready To Move                    Jakkur   \n",
       "8275   Super built-up  Area         21-Dec            Kanakpura Road   \n",
       "8289   Super built-up  Area         18-Apr            Kanakpura Road   \n",
       "8472   Super built-up  Area         18-Dec                  Sarjapur   \n",
       "8783   Super built-up  Area         18-Dec                Whitefield   \n",
       "9129   Super built-up  Area         18-May               Mysore Road   \n",
       "9437         Built-up  Area         18-May                    Hennur   \n",
       "9699   Super built-up  Area         18-Jul              Bannerghatta   \n",
       "10330  Super built-up  Area  Ready To Move            Kanakpura Road   \n",
       "10553        Built-up  Area  Ready To Move            Sarjapur  Road   \n",
       "10726  Super built-up  Area         18-Mar            Sarjapur  Road   \n",
       "11297  Super built-up  Area         18-Dec                    Hennur   \n",
       "11496  Super built-up  Area         21-Dec            Kanakpura Road   \n",
       "12768        Built-up  Area         18-Mar              Bettahalsoor   \n",
       "12861  Super built-up  Area         21-Dec                  KR Puram   \n",
       "13240  Super built-up  Area  Ready To Move               Devanahalli   \n",
       "\n",
       "              total_sqft  bath  balcony    price  bhk  \n",
       "56           3010 - 3410   NaN      NaN  192.000    4  \n",
       "81           2957 - 3450   NaN      NaN  224.500    4  \n",
       "224          1520 - 1740   NaN      NaN   74.820    3  \n",
       "344                  525   NaN      NaN   21.530    1  \n",
       "669          4400 - 6640   NaN      NaN  375.000    5  \n",
       "702          4400 - 6800   NaN      NaN  548.500    5  \n",
       "801          4000 - 5249   NaN      NaN  453.000    4  \n",
       "941          3606 - 5091   NaN      NaN  304.000    4  \n",
       "1264                2264   NaN      NaN  155.000    3  \n",
       "1267         1440 - 1884   NaN      NaN   67.980    3  \n",
       "1686           660 - 670   NaN      NaN   28.585    1  \n",
       "1724           620 - 933   NaN      NaN   48.145    1  \n",
       "1765         2695 - 2940   NaN      NaN  204.000    4  \n",
       "1852         3450 - 3472   NaN      NaN  173.000    4  \n",
       "2500   2249.81 - 4112.19   NaN      NaN  260.500    4  \n",
       "2563         3436 - 3643   NaN      NaN  424.500    4  \n",
       "2944         1564 - 1850   NaN      NaN   99.745    3  \n",
       "2998         1446 - 1506   NaN      NaN   98.940    3  \n",
       "3370         1430 - 1630   NaN      NaN   66.400    3  \n",
       "3544         1482 - 1846   NaN      NaN   93.865    3  \n",
       "3598         2805 - 3565   NaN      NaN  175.000    4  \n",
       "3862         3293 - 5314   NaN      NaN  226.000    4  \n",
       "4210         2215 - 2475   NaN      NaN  293.000    3  \n",
       "4346         1650 - 2538   NaN      NaN  113.190    3  \n",
       "4843         1974 - 2171   NaN      NaN  111.000    4  \n",
       "4894         1360 - 1890   NaN      NaN   87.720    3  \n",
       "4995         2466 - 2856   NaN      NaN  226.500    3  \n",
       "5464         1310 - 1615   NaN      NaN   62.810    3  \n",
       "5498         1782 - 2000   NaN      NaN   66.165    4  \n",
       "5747                 525   NaN      NaN   27.000    1  \n",
       "5918         4260 - 4408   NaN      NaN  338.000    4  \n",
       "6256         3500 - 3600   NaN      NaN  167.500    4  \n",
       "6343         1482 - 1684   NaN      NaN   70.445    3  \n",
       "6481         1100 - 1225   NaN      NaN   30.215    3  \n",
       "6778         4050 - 4075   NaN      NaN  341.000    4  \n",
       "6873         1750 - 2640   NaN      NaN  152.000    3  \n",
       "6971         1390 - 1600   NaN      NaN   61.280    3  \n",
       "7398         3103 - 3890   NaN      NaN  237.500    3  \n",
       "7623         1450 - 1595   NaN      NaN   60.750    3  \n",
       "7921         1618 - 1929   NaN      NaN   85.125    3  \n",
       "8020   2249.81 - 4112.19   NaN      NaN  229.000    4  \n",
       "8056         1610 - 1880   NaN      NaN   98.485    3  \n",
       "8275                 525   NaN      NaN   29.250    1  \n",
       "8289           700 - 900   NaN      NaN   41.145    2  \n",
       "8472         1925 - 2680   NaN      NaN   80.590    4  \n",
       "8783         1390 - 1600   NaN      NaN   60.550    3  \n",
       "9129         1410 - 1710   NaN      NaN   83.300    3  \n",
       "9437                2557   NaN      NaN  170.000    4  \n",
       "9699         1791 - 4000   NaN      NaN  246.000    4  \n",
       "10330        1430 - 1630   NaN      NaN   70.990    3  \n",
       "10553               3418   NaN      NaN  222.000    4  \n",
       "10726        1618 - 1929   NaN      NaN  102.920    3  \n",
       "11297        3484 - 3550   NaN      NaN  161.500    4  \n",
       "11496                525   NaN      NaN   27.000    1  \n",
       "12768               3210   NaN      NaN  353.000    5  \n",
       "12861        2204 - 2362   NaN      NaN  121.000    4  \n",
       "13240        1020 - 1130   NaN      NaN   52.570    1  "
      ]
     },
     "execution_count": 42,
     "metadata": {},
     "output_type": "execute_result"
    }
   ],
   "source": [
    "df1[pd.isnull(df1[\"bath\"])]"
   ]
  },
  {
   "cell_type": "markdown",
   "id": "7bc13801",
   "metadata": {},
   "source": [
    "##### wherever bath is missing it can be populated with no. of bath which is most frequent for the given bhk. "
   ]
  },
  {
   "cell_type": "code",
   "execution_count": 43,
   "id": "c7570650",
   "metadata": {},
   "outputs": [
    {
     "data": {
      "text/plain": [
       "bhk  bath\n",
       "1    1.0      609\n",
       "     2.0       40\n",
       "2    2.0     5286\n",
       "     1.0      176\n",
       "     3.0       61\n",
       "             ... \n",
       "16   16.0       1\n",
       "18   18.0       1\n",
       "19   16.0       1\n",
       "27   27.0       1\n",
       "43   40.0       1\n",
       "Name: bath, Length: 80, dtype: int64"
      ]
     },
     "execution_count": 43,
     "metadata": {},
     "output_type": "execute_result"
    }
   ],
   "source": [
    "bhk_groupby_bathroom = df1.groupby(\"bhk\")[\"bath\"].value_counts()\n",
    "bhk_groupby_bathroom"
   ]
  },
  {
   "cell_type": "code",
   "execution_count": 44,
   "id": "0ec8f172",
   "metadata": {},
   "outputs": [],
   "source": [
    "def Fill_Bath(bhk_groupby_bathroom, row):\n",
    "    if pd.isnull(row[\"bath\"]):\n",
    "        return int(bhk_groupby_bathroom[row[\"bhk\"]].index[0]) \n",
    "    else:\n",
    "        return int(row[\"bath\"])"
   ]
  },
  {
   "cell_type": "code",
   "execution_count": 45,
   "id": "f7b2357a",
   "metadata": {},
   "outputs": [],
   "source": [
    "df1[\"bath\"] = df1.apply(lambda row: Fill_Bath(bhk_groupby_bathroom, row), axis=1)"
   ]
  },
  {
   "cell_type": "code",
   "execution_count": 46,
   "id": "3217746e",
   "metadata": {},
   "outputs": [
    {
     "data": {
      "text/plain": [
       "area_type         0\n",
       "availability      0\n",
       "location          0\n",
       "total_sqft        0\n",
       "bath              0\n",
       "balcony         593\n",
       "price             0\n",
       "bhk               0\n",
       "dtype: int64"
      ]
     },
     "execution_count": 46,
     "metadata": {},
     "output_type": "execute_result"
    }
   ],
   "source": [
    "df1.isnull().sum()"
   ]
  },
  {
   "cell_type": "markdown",
   "id": "37047b5f",
   "metadata": {},
   "source": [
    "### 5.'Balcony'  has 593 missing values -"
   ]
  },
  {
   "cell_type": "markdown",
   "id": "d3cb9ba0",
   "metadata": {},
   "source": [
    "##### missing values in balcony can be populated in similar fashion as values in bathroom according to bhk"
   ]
  },
  {
   "cell_type": "code",
   "execution_count": 47,
   "id": "eb15cb58",
   "metadata": {},
   "outputs": [
    {
     "data": {
      "text/plain": [
       "bhk  balcony\n",
       "1    1.0         425\n",
       "     0.0         186\n",
       "     2.0          35\n",
       "     3.0           2\n",
       "2    1.0        2735\n",
       "     2.0        2062\n",
       "     0.0         355\n",
       "     3.0         328\n",
       "3    2.0        2331\n",
       "     1.0        1245\n",
       "     3.0         861\n",
       "     0.0         219\n",
       "4    2.0         458\n",
       "     1.0         324\n",
       "     3.0         287\n",
       "     0.0         169\n",
       "5    2.0         100\n",
       "     1.0          95\n",
       "     3.0          65\n",
       "     0.0          39\n",
       "6    2.0          69\n",
       "     3.0          57\n",
       "     1.0          39\n",
       "     0.0          27\n",
       "7    3.0          33\n",
       "     2.0          27\n",
       "     1.0          15\n",
       "     0.0          10\n",
       "8    2.0          23\n",
       "     3.0          20\n",
       "     0.0          15\n",
       "     1.0          10\n",
       "9    3.0          14\n",
       "     1.0           9\n",
       "     2.0           7\n",
       "     0.0           4\n",
       "10   3.0           3\n",
       "11   3.0           2\n",
       "     0.0           1\n",
       "12   2.0           1\n",
       "13   0.0           1\n",
       "14   0.0           1\n",
       "27   0.0           1\n",
       "43   0.0           1\n",
       "Name: balcony, dtype: int64"
      ]
     },
     "execution_count": 47,
     "metadata": {},
     "output_type": "execute_result"
    }
   ],
   "source": [
    "bhk_groupby_balcony = df1.groupby(\"bhk\")[\"balcony\"].value_counts()\n",
    "bhk_groupby_balcony"
   ]
  },
  {
   "cell_type": "code",
   "execution_count": 48,
   "id": "61f589ea",
   "metadata": {},
   "outputs": [],
   "source": [
    "def Fill_Balcony(bhk_groupby_balcony, row):\n",
    "    if pd.isnull(row[\"balcony\"]):\n",
    "        return int(bhk_groupby_bathroom[row[\"bhk\"]].index[0]) \n",
    "    else:\n",
    "        return int(row[\"balcony\"])"
   ]
  },
  {
   "cell_type": "code",
   "execution_count": 49,
   "id": "978f9197",
   "metadata": {},
   "outputs": [],
   "source": [
    "df1[\"balcony\"] = df1.apply(lambda row: Fill_Balcony(bhk_groupby_balcony, row), axis=1)"
   ]
  },
  {
   "cell_type": "code",
   "execution_count": 50,
   "id": "9e179862",
   "metadata": {},
   "outputs": [
    {
     "data": {
      "text/plain": [
       "area_type       0\n",
       "availability    0\n",
       "location        0\n",
       "total_sqft      0\n",
       "bath            0\n",
       "balcony         0\n",
       "price           0\n",
       "bhk             0\n",
       "dtype: int64"
      ]
     },
     "execution_count": 50,
     "metadata": {},
     "output_type": "execute_result"
    }
   ],
   "source": [
    "df1.isnull().sum()"
   ]
  },
  {
   "cell_type": "markdown",
   "id": "ef3a2fb5",
   "metadata": {},
   "source": [
    "#####  All missing values handled"
   ]
  },
  {
   "cell_type": "markdown",
   "id": "830854d9",
   "metadata": {},
   "source": [
    "# Data cleaning -"
   ]
  },
  {
   "cell_type": "markdown",
   "id": "acb1cd75",
   "metadata": {},
   "source": [
    "## 1.Availability - "
   ]
  },
  {
   "cell_type": "code",
   "execution_count": 51,
   "id": "3b9907b0",
   "metadata": {},
   "outputs": [
    {
     "data": {
      "text/plain": [
       "array(['19-Dec', 'Ready To Move', '18-May', '18-Feb', '18-Nov', '20-Dec',\n",
       "       '17-Oct', '21-Dec', '19-Sep', '20-Sep', '18-Mar', '20-Feb',\n",
       "       '18-Apr', '20-Aug', '18-Oct', '19-Mar', '17-Sep', '18-Dec',\n",
       "       '17-Aug', '19-Apr', '18-Jun', '22-Dec', '22-Jan', '18-Aug',\n",
       "       '19-Jan', '17-Jul', '18-Jul', '21-Jun', '20-May', '19-Aug',\n",
       "       '18-Sep', '17-May', '17-Jun', '21-May', '18-Jan', '20-Mar',\n",
       "       '17-Dec', '16-Mar', '19-Jun', '22-Jun', '19-Jul', '21-Feb',\n",
       "       '19-May', '17-Nov', '20-Oct', '20-Jun', '19-Feb', '21-Oct',\n",
       "       '21-Jan', '17-Mar', '17-Apr', '22-May', '19-Oct', '21-Jul',\n",
       "       '21-Nov', '21-Mar', '16-Dec', '22-Mar', '20-Jan', '21-Sep',\n",
       "       '21-Aug', '14-Nov', '19-Nov', '15-Nov', '16-Jul', '15-Jun',\n",
       "       '17-Feb', '20-Nov', '20-Jul', '16-Sep', '15-Oct', '15-Dec',\n",
       "       '16-Oct', '22-Nov', '15-Aug', '17-Jan', '16-Nov', '20-Apr',\n",
       "       '16-Jan', '14-Jul'], dtype=object)"
      ]
     },
     "execution_count": 51,
     "metadata": {},
     "output_type": "execute_result"
    }
   ],
   "source": [
    "df1[\"availability\"].unique()"
   ]
  },
  {
   "cell_type": "markdown",
   "id": "99c7624f",
   "metadata": {},
   "source": [
    "##### There are many dates which can be relabelled as \"soon to be vacated\" "
   ]
  },
  {
   "cell_type": "code",
   "execution_count": 52,
   "id": "1b16bbf7",
   "metadata": {},
   "outputs": [],
   "source": [
    "def Relabel_Availability(x):\n",
    "    values = x.split(\"-\")\n",
    "    try:\n",
    "        if len(values) > 1:\n",
    "            return \"Soon to be Vacated\"\n",
    "        else:\n",
    "            return x\n",
    "    except:\n",
    "            return \"\""
   ]
  },
  {
   "cell_type": "code",
   "execution_count": 53,
   "id": "fda1c200",
   "metadata": {},
   "outputs": [
    {
     "data": {
      "text/html": [
       "<div>\n",
       "<style scoped>\n",
       "    .dataframe tbody tr th:only-of-type {\n",
       "        vertical-align: middle;\n",
       "    }\n",
       "\n",
       "    .dataframe tbody tr th {\n",
       "        vertical-align: top;\n",
       "    }\n",
       "\n",
       "    .dataframe thead th {\n",
       "        text-align: right;\n",
       "    }\n",
       "</style>\n",
       "<table border=\"1\" class=\"dataframe\">\n",
       "  <thead>\n",
       "    <tr style=\"text-align: right;\">\n",
       "      <th></th>\n",
       "      <th>area_type</th>\n",
       "      <th>availability</th>\n",
       "      <th>location</th>\n",
       "      <th>total_sqft</th>\n",
       "      <th>bath</th>\n",
       "      <th>balcony</th>\n",
       "      <th>price</th>\n",
       "      <th>bhk</th>\n",
       "    </tr>\n",
       "  </thead>\n",
       "  <tbody>\n",
       "    <tr>\n",
       "      <th>0</th>\n",
       "      <td>Super built-up  Area</td>\n",
       "      <td>Soon to be Vacated</td>\n",
       "      <td>Electronic City Phase II</td>\n",
       "      <td>1056</td>\n",
       "      <td>2</td>\n",
       "      <td>1</td>\n",
       "      <td>39.07</td>\n",
       "      <td>2</td>\n",
       "    </tr>\n",
       "    <tr>\n",
       "      <th>1</th>\n",
       "      <td>Plot  Area</td>\n",
       "      <td>Ready To Move</td>\n",
       "      <td>Chikka Tirupathi</td>\n",
       "      <td>2600</td>\n",
       "      <td>5</td>\n",
       "      <td>3</td>\n",
       "      <td>120.00</td>\n",
       "      <td>4</td>\n",
       "    </tr>\n",
       "    <tr>\n",
       "      <th>2</th>\n",
       "      <td>Built-up  Area</td>\n",
       "      <td>Ready To Move</td>\n",
       "      <td>Uttarahalli</td>\n",
       "      <td>1440</td>\n",
       "      <td>2</td>\n",
       "      <td>3</td>\n",
       "      <td>62.00</td>\n",
       "      <td>3</td>\n",
       "    </tr>\n",
       "    <tr>\n",
       "      <th>3</th>\n",
       "      <td>Super built-up  Area</td>\n",
       "      <td>Ready To Move</td>\n",
       "      <td>Lingadheeranahalli</td>\n",
       "      <td>1521</td>\n",
       "      <td>3</td>\n",
       "      <td>1</td>\n",
       "      <td>95.00</td>\n",
       "      <td>3</td>\n",
       "    </tr>\n",
       "    <tr>\n",
       "      <th>4</th>\n",
       "      <td>Super built-up  Area</td>\n",
       "      <td>Ready To Move</td>\n",
       "      <td>Kothanur</td>\n",
       "      <td>1200</td>\n",
       "      <td>2</td>\n",
       "      <td>1</td>\n",
       "      <td>51.00</td>\n",
       "      <td>2</td>\n",
       "    </tr>\n",
       "    <tr>\n",
       "      <th>...</th>\n",
       "      <td>...</td>\n",
       "      <td>...</td>\n",
       "      <td>...</td>\n",
       "      <td>...</td>\n",
       "      <td>...</td>\n",
       "      <td>...</td>\n",
       "      <td>...</td>\n",
       "      <td>...</td>\n",
       "    </tr>\n",
       "    <tr>\n",
       "      <th>13315</th>\n",
       "      <td>Built-up  Area</td>\n",
       "      <td>Ready To Move</td>\n",
       "      <td>Whitefield</td>\n",
       "      <td>3453</td>\n",
       "      <td>4</td>\n",
       "      <td>0</td>\n",
       "      <td>231.00</td>\n",
       "      <td>5</td>\n",
       "    </tr>\n",
       "    <tr>\n",
       "      <th>13316</th>\n",
       "      <td>Super built-up  Area</td>\n",
       "      <td>Ready To Move</td>\n",
       "      <td>Richards Town</td>\n",
       "      <td>3600</td>\n",
       "      <td>5</td>\n",
       "      <td>4</td>\n",
       "      <td>400.00</td>\n",
       "      <td>4</td>\n",
       "    </tr>\n",
       "    <tr>\n",
       "      <th>13317</th>\n",
       "      <td>Built-up  Area</td>\n",
       "      <td>Ready To Move</td>\n",
       "      <td>Raja Rajeshwari Nagar</td>\n",
       "      <td>1141</td>\n",
       "      <td>2</td>\n",
       "      <td>1</td>\n",
       "      <td>60.00</td>\n",
       "      <td>2</td>\n",
       "    </tr>\n",
       "    <tr>\n",
       "      <th>13318</th>\n",
       "      <td>Super built-up  Area</td>\n",
       "      <td>Soon to be Vacated</td>\n",
       "      <td>Padmanabhanagar</td>\n",
       "      <td>4689</td>\n",
       "      <td>4</td>\n",
       "      <td>1</td>\n",
       "      <td>488.00</td>\n",
       "      <td>4</td>\n",
       "    </tr>\n",
       "    <tr>\n",
       "      <th>13319</th>\n",
       "      <td>Super built-up  Area</td>\n",
       "      <td>Ready To Move</td>\n",
       "      <td>Doddathoguru</td>\n",
       "      <td>550</td>\n",
       "      <td>1</td>\n",
       "      <td>1</td>\n",
       "      <td>17.00</td>\n",
       "      <td>1</td>\n",
       "    </tr>\n",
       "  </tbody>\n",
       "</table>\n",
       "<p>13304 rows × 8 columns</p>\n",
       "</div>"
      ],
      "text/plain": [
       "                  area_type        availability                  location  \\\n",
       "0      Super built-up  Area  Soon to be Vacated  Electronic City Phase II   \n",
       "1                Plot  Area       Ready To Move          Chikka Tirupathi   \n",
       "2            Built-up  Area       Ready To Move               Uttarahalli   \n",
       "3      Super built-up  Area       Ready To Move        Lingadheeranahalli   \n",
       "4      Super built-up  Area       Ready To Move                  Kothanur   \n",
       "...                     ...                 ...                       ...   \n",
       "13315        Built-up  Area       Ready To Move                Whitefield   \n",
       "13316  Super built-up  Area       Ready To Move             Richards Town   \n",
       "13317        Built-up  Area       Ready To Move     Raja Rajeshwari Nagar   \n",
       "13318  Super built-up  Area  Soon to be Vacated           Padmanabhanagar   \n",
       "13319  Super built-up  Area       Ready To Move              Doddathoguru   \n",
       "\n",
       "      total_sqft  bath  balcony   price  bhk  \n",
       "0           1056     2        1   39.07    2  \n",
       "1           2600     5        3  120.00    4  \n",
       "2           1440     2        3   62.00    3  \n",
       "3           1521     3        1   95.00    3  \n",
       "4           1200     2        1   51.00    2  \n",
       "...          ...   ...      ...     ...  ...  \n",
       "13315       3453     4        0  231.00    5  \n",
       "13316       3600     5        4  400.00    4  \n",
       "13317       1141     2        1   60.00    2  \n",
       "13318       4689     4        1  488.00    4  \n",
       "13319        550     1        1   17.00    1  \n",
       "\n",
       "[13304 rows x 8 columns]"
      ]
     },
     "execution_count": 53,
     "metadata": {},
     "output_type": "execute_result"
    }
   ],
   "source": [
    "df1[\"availability\"] = df1[\"availability\"].apply(Relabel_Availability) # to deal with dates\n",
    "df1"
   ]
  },
  {
   "cell_type": "code",
   "execution_count": 54,
   "id": "e78cfc0a",
   "metadata": {},
   "outputs": [
    {
     "data": {
      "text/plain": [
       "Ready To Move         10581\n",
       "Soon to be Vacated     2723\n",
       "Name: availability, dtype: int64"
      ]
     },
     "execution_count": 54,
     "metadata": {},
     "output_type": "execute_result"
    }
   ],
   "source": [
    "df1[\"availability\"].value_counts()"
   ]
  },
  {
   "cell_type": "markdown",
   "id": "026254e5",
   "metadata": {},
   "source": [
    "## 2. Location - "
   ]
  },
  {
   "cell_type": "markdown",
   "id": "748e3805",
   "metadata": {},
   "source": [
    "#### Location less than 10 can be reballed as \"others\" as seen in exploratory analysis phase"
   ]
  },
  {
   "cell_type": "code",
   "execution_count": 55,
   "id": "4098c1bf",
   "metadata": {},
   "outputs": [
    {
     "data": {
      "text/plain": [
       "Gunjur Palya               10\n",
       "BTM 1st Stage              10\n",
       "Naganathapura              10\n",
       "1st Block Koramangala      10\n",
       "Nagadevanahalli            10\n",
       "                           ..\n",
       "AGB Layout                  1\n",
       "B Y Raveshwara Nagar        1\n",
       "Banashankari 2 nd Stage     1\n",
       "Sunkan palya                1\n",
       "Bande Nallasandra           1\n",
       "Name: location, Length: 1064, dtype: int64"
      ]
     },
     "execution_count": 55,
     "metadata": {},
     "output_type": "execute_result"
    }
   ],
   "source": [
    "location_count_less_than_10=location_count[location_count<=10] #significantly can change total no. of unique parameters in location\n",
    "location_count_less_than_10"
   ]
  },
  {
   "cell_type": "code",
   "execution_count": 56,
   "id": "2162d18b",
   "metadata": {},
   "outputs": [],
   "source": [
    "df1.location = df1.location.apply(lambda x:'other' if x in location_count_less_than_10 else x) \n",
    "#named \"other\" to location which were count is less than 10"
   ]
  },
  {
   "cell_type": "code",
   "execution_count": 57,
   "id": "a0b59db3",
   "metadata": {},
   "outputs": [
    {
     "data": {
      "text/plain": [
       "other               2898\n",
       "Whitefield           539\n",
       "Sarjapur  Road       397\n",
       "Electronic City      302\n",
       "Kanakpura Road       273\n",
       "                    ... \n",
       "Narayanapura          11\n",
       "Nehru Nagar           11\n",
       "HAL 2nd Stage         11\n",
       "Thyagaraja Nagar      11\n",
       "LB Shastri Nagar      11\n",
       "Name: location, Length: 242, dtype: int64"
      ]
     },
     "execution_count": 57,
     "metadata": {},
     "output_type": "execute_result"
    }
   ],
   "source": [
    "df1[\"location\"].value_counts()"
   ]
  },
  {
   "cell_type": "code",
   "execution_count": 58,
   "id": "6b1a23a3",
   "metadata": {},
   "outputs": [
    {
     "data": {
      "text/html": [
       "<div>\n",
       "<style scoped>\n",
       "    .dataframe tbody tr th:only-of-type {\n",
       "        vertical-align: middle;\n",
       "    }\n",
       "\n",
       "    .dataframe tbody tr th {\n",
       "        vertical-align: top;\n",
       "    }\n",
       "\n",
       "    .dataframe thead th {\n",
       "        text-align: right;\n",
       "    }\n",
       "</style>\n",
       "<table border=\"1\" class=\"dataframe\">\n",
       "  <thead>\n",
       "    <tr style=\"text-align: right;\">\n",
       "      <th></th>\n",
       "      <th>area_type</th>\n",
       "      <th>availability</th>\n",
       "      <th>location</th>\n",
       "      <th>total_sqft</th>\n",
       "      <th>bath</th>\n",
       "      <th>balcony</th>\n",
       "      <th>price</th>\n",
       "      <th>bhk</th>\n",
       "    </tr>\n",
       "  </thead>\n",
       "  <tbody>\n",
       "    <tr>\n",
       "      <th>0</th>\n",
       "      <td>Super built-up  Area</td>\n",
       "      <td>Soon to be Vacated</td>\n",
       "      <td>Electronic City Phase II</td>\n",
       "      <td>1056</td>\n",
       "      <td>2</td>\n",
       "      <td>1</td>\n",
       "      <td>39.07</td>\n",
       "      <td>2</td>\n",
       "    </tr>\n",
       "    <tr>\n",
       "      <th>1</th>\n",
       "      <td>Plot  Area</td>\n",
       "      <td>Ready To Move</td>\n",
       "      <td>Chikka Tirupathi</td>\n",
       "      <td>2600</td>\n",
       "      <td>5</td>\n",
       "      <td>3</td>\n",
       "      <td>120.00</td>\n",
       "      <td>4</td>\n",
       "    </tr>\n",
       "    <tr>\n",
       "      <th>2</th>\n",
       "      <td>Built-up  Area</td>\n",
       "      <td>Ready To Move</td>\n",
       "      <td>Uttarahalli</td>\n",
       "      <td>1440</td>\n",
       "      <td>2</td>\n",
       "      <td>3</td>\n",
       "      <td>62.00</td>\n",
       "      <td>3</td>\n",
       "    </tr>\n",
       "    <tr>\n",
       "      <th>3</th>\n",
       "      <td>Super built-up  Area</td>\n",
       "      <td>Ready To Move</td>\n",
       "      <td>Lingadheeranahalli</td>\n",
       "      <td>1521</td>\n",
       "      <td>3</td>\n",
       "      <td>1</td>\n",
       "      <td>95.00</td>\n",
       "      <td>3</td>\n",
       "    </tr>\n",
       "    <tr>\n",
       "      <th>4</th>\n",
       "      <td>Super built-up  Area</td>\n",
       "      <td>Ready To Move</td>\n",
       "      <td>Kothanur</td>\n",
       "      <td>1200</td>\n",
       "      <td>2</td>\n",
       "      <td>1</td>\n",
       "      <td>51.00</td>\n",
       "      <td>2</td>\n",
       "    </tr>\n",
       "    <tr>\n",
       "      <th>...</th>\n",
       "      <td>...</td>\n",
       "      <td>...</td>\n",
       "      <td>...</td>\n",
       "      <td>...</td>\n",
       "      <td>...</td>\n",
       "      <td>...</td>\n",
       "      <td>...</td>\n",
       "      <td>...</td>\n",
       "    </tr>\n",
       "    <tr>\n",
       "      <th>13315</th>\n",
       "      <td>Built-up  Area</td>\n",
       "      <td>Ready To Move</td>\n",
       "      <td>Whitefield</td>\n",
       "      <td>3453</td>\n",
       "      <td>4</td>\n",
       "      <td>0</td>\n",
       "      <td>231.00</td>\n",
       "      <td>5</td>\n",
       "    </tr>\n",
       "    <tr>\n",
       "      <th>13316</th>\n",
       "      <td>Super built-up  Area</td>\n",
       "      <td>Ready To Move</td>\n",
       "      <td>other</td>\n",
       "      <td>3600</td>\n",
       "      <td>5</td>\n",
       "      <td>4</td>\n",
       "      <td>400.00</td>\n",
       "      <td>4</td>\n",
       "    </tr>\n",
       "    <tr>\n",
       "      <th>13317</th>\n",
       "      <td>Built-up  Area</td>\n",
       "      <td>Ready To Move</td>\n",
       "      <td>Raja Rajeshwari Nagar</td>\n",
       "      <td>1141</td>\n",
       "      <td>2</td>\n",
       "      <td>1</td>\n",
       "      <td>60.00</td>\n",
       "      <td>2</td>\n",
       "    </tr>\n",
       "    <tr>\n",
       "      <th>13318</th>\n",
       "      <td>Super built-up  Area</td>\n",
       "      <td>Soon to be Vacated</td>\n",
       "      <td>Padmanabhanagar</td>\n",
       "      <td>4689</td>\n",
       "      <td>4</td>\n",
       "      <td>1</td>\n",
       "      <td>488.00</td>\n",
       "      <td>4</td>\n",
       "    </tr>\n",
       "    <tr>\n",
       "      <th>13319</th>\n",
       "      <td>Super built-up  Area</td>\n",
       "      <td>Ready To Move</td>\n",
       "      <td>Doddathoguru</td>\n",
       "      <td>550</td>\n",
       "      <td>1</td>\n",
       "      <td>1</td>\n",
       "      <td>17.00</td>\n",
       "      <td>1</td>\n",
       "    </tr>\n",
       "  </tbody>\n",
       "</table>\n",
       "<p>13304 rows × 8 columns</p>\n",
       "</div>"
      ],
      "text/plain": [
       "                  area_type        availability                  location  \\\n",
       "0      Super built-up  Area  Soon to be Vacated  Electronic City Phase II   \n",
       "1                Plot  Area       Ready To Move          Chikka Tirupathi   \n",
       "2            Built-up  Area       Ready To Move               Uttarahalli   \n",
       "3      Super built-up  Area       Ready To Move        Lingadheeranahalli   \n",
       "4      Super built-up  Area       Ready To Move                  Kothanur   \n",
       "...                     ...                 ...                       ...   \n",
       "13315        Built-up  Area       Ready To Move                Whitefield   \n",
       "13316  Super built-up  Area       Ready To Move                     other   \n",
       "13317        Built-up  Area       Ready To Move     Raja Rajeshwari Nagar   \n",
       "13318  Super built-up  Area  Soon to be Vacated           Padmanabhanagar   \n",
       "13319  Super built-up  Area       Ready To Move              Doddathoguru   \n",
       "\n",
       "      total_sqft  bath  balcony   price  bhk  \n",
       "0           1056     2        1   39.07    2  \n",
       "1           2600     5        3  120.00    4  \n",
       "2           1440     2        3   62.00    3  \n",
       "3           1521     3        1   95.00    3  \n",
       "4           1200     2        1   51.00    2  \n",
       "...          ...   ...      ...     ...  ...  \n",
       "13315       3453     4        0  231.00    5  \n",
       "13316       3600     5        4  400.00    4  \n",
       "13317       1141     2        1   60.00    2  \n",
       "13318       4689     4        1  488.00    4  \n",
       "13319        550     1        1   17.00    1  \n",
       "\n",
       "[13304 rows x 8 columns]"
      ]
     },
     "execution_count": 58,
     "metadata": {},
     "output_type": "execute_result"
    }
   ],
   "source": [
    "df1"
   ]
  },
  {
   "cell_type": "markdown",
   "id": "e4be17c4",
   "metadata": {},
   "source": [
    "##  3. Total_ sqft -"
   ]
  },
  {
   "cell_type": "markdown",
   "id": "10341c86",
   "metadata": {},
   "source": [
    "###### Some values were in range so we have to clean it as seen in exploratory analysis phase."
   ]
  },
  {
   "cell_type": "code",
   "execution_count": 59,
   "id": "83572077",
   "metadata": {},
   "outputs": [
    {
     "data": {
      "text/html": [
       "<div>\n",
       "<style scoped>\n",
       "    .dataframe tbody tr th:only-of-type {\n",
       "        vertical-align: middle;\n",
       "    }\n",
       "\n",
       "    .dataframe tbody tr th {\n",
       "        vertical-align: top;\n",
       "    }\n",
       "\n",
       "    .dataframe thead th {\n",
       "        text-align: right;\n",
       "    }\n",
       "</style>\n",
       "<table border=\"1\" class=\"dataframe\">\n",
       "  <thead>\n",
       "    <tr style=\"text-align: right;\">\n",
       "      <th></th>\n",
       "      <th>area_type</th>\n",
       "      <th>availability</th>\n",
       "      <th>location</th>\n",
       "      <th>total_sqft</th>\n",
       "      <th>bath</th>\n",
       "      <th>balcony</th>\n",
       "      <th>price</th>\n",
       "      <th>bhk</th>\n",
       "    </tr>\n",
       "  </thead>\n",
       "  <tbody>\n",
       "    <tr>\n",
       "      <th>5382</th>\n",
       "      <td>Super built-up  Area</td>\n",
       "      <td>Soon to be Vacated</td>\n",
       "      <td>Whitefield</td>\n",
       "      <td>524 - 894</td>\n",
       "      <td>1</td>\n",
       "      <td>0</td>\n",
       "      <td>34.735</td>\n",
       "      <td>1</td>\n",
       "    </tr>\n",
       "    <tr>\n",
       "      <th>3285</th>\n",
       "      <td>Plot  Area</td>\n",
       "      <td>Soon to be Vacated</td>\n",
       "      <td>Whitefield</td>\n",
       "      <td>500Sq. Yards</td>\n",
       "      <td>4</td>\n",
       "      <td>2</td>\n",
       "      <td>378.000</td>\n",
       "      <td>4</td>\n",
       "    </tr>\n",
       "    <tr>\n",
       "      <th>1400</th>\n",
       "      <td>Super built-up  Area</td>\n",
       "      <td>Ready To Move</td>\n",
       "      <td>Chamrajpet</td>\n",
       "      <td>716Sq. Meter</td>\n",
       "      <td>9</td>\n",
       "      <td>1</td>\n",
       "      <td>296.000</td>\n",
       "      <td>9</td>\n",
       "    </tr>\n",
       "    <tr>\n",
       "      <th>6592</th>\n",
       "      <td>Built-up  Area</td>\n",
       "      <td>Ready To Move</td>\n",
       "      <td>other</td>\n",
       "      <td>697Sq. Meter</td>\n",
       "      <td>4</td>\n",
       "      <td>2</td>\n",
       "      <td>211.000</td>\n",
       "      <td>4</td>\n",
       "    </tr>\n",
       "    <tr>\n",
       "      <th>702</th>\n",
       "      <td>Super built-up  Area</td>\n",
       "      <td>Soon to be Vacated</td>\n",
       "      <td>JP Nagar</td>\n",
       "      <td>4400 - 6800</td>\n",
       "      <td>5</td>\n",
       "      <td>5</td>\n",
       "      <td>548.500</td>\n",
       "      <td>5</td>\n",
       "    </tr>\n",
       "    <tr>\n",
       "      <th>2916</th>\n",
       "      <td>Super built-up  Area</td>\n",
       "      <td>Soon to be Vacated</td>\n",
       "      <td>Thanisandra</td>\n",
       "      <td>934 - 1437</td>\n",
       "      <td>2</td>\n",
       "      <td>0</td>\n",
       "      <td>58.680</td>\n",
       "      <td>2</td>\n",
       "    </tr>\n",
       "    <tr>\n",
       "      <th>8056</th>\n",
       "      <td>Super built-up  Area</td>\n",
       "      <td>Ready To Move</td>\n",
       "      <td>Jakkur</td>\n",
       "      <td>1610 - 1880</td>\n",
       "      <td>3</td>\n",
       "      <td>3</td>\n",
       "      <td>98.485</td>\n",
       "      <td>3</td>\n",
       "    </tr>\n",
       "    <tr>\n",
       "      <th>137</th>\n",
       "      <td>Super built-up  Area</td>\n",
       "      <td>Soon to be Vacated</td>\n",
       "      <td>8th Phase JP Nagar</td>\n",
       "      <td>1042 - 1105</td>\n",
       "      <td>2</td>\n",
       "      <td>0</td>\n",
       "      <td>54.005</td>\n",
       "      <td>2</td>\n",
       "    </tr>\n",
       "    <tr>\n",
       "      <th>5631</th>\n",
       "      <td>Super built-up  Area</td>\n",
       "      <td>Ready To Move</td>\n",
       "      <td>Thanisandra</td>\n",
       "      <td>204Sq. Meter</td>\n",
       "      <td>4</td>\n",
       "      <td>2</td>\n",
       "      <td>185.000</td>\n",
       "      <td>3</td>\n",
       "    </tr>\n",
       "    <tr>\n",
       "      <th>9434</th>\n",
       "      <td>Super built-up  Area</td>\n",
       "      <td>Ready To Move</td>\n",
       "      <td>Bannerghatta Road</td>\n",
       "      <td>1160 - 1315</td>\n",
       "      <td>2</td>\n",
       "      <td>0</td>\n",
       "      <td>49.490</td>\n",
       "      <td>2</td>\n",
       "    </tr>\n",
       "    <tr>\n",
       "      <th>8236</th>\n",
       "      <td>Super built-up  Area</td>\n",
       "      <td>Ready To Move</td>\n",
       "      <td>Budigere</td>\n",
       "      <td>664 - 722</td>\n",
       "      <td>1</td>\n",
       "      <td>0</td>\n",
       "      <td>27.375</td>\n",
       "      <td>1</td>\n",
       "    </tr>\n",
       "    <tr>\n",
       "      <th>6303</th>\n",
       "      <td>Built-up  Area</td>\n",
       "      <td>Ready To Move</td>\n",
       "      <td>JP Nagar</td>\n",
       "      <td>84.53Sq. Meter</td>\n",
       "      <td>3</td>\n",
       "      <td>1</td>\n",
       "      <td>69.340</td>\n",
       "      <td>3</td>\n",
       "    </tr>\n",
       "    <tr>\n",
       "      <th>2500</th>\n",
       "      <td>Super built-up  Area</td>\n",
       "      <td>Soon to be Vacated</td>\n",
       "      <td>Jakkur</td>\n",
       "      <td>2249.81 - 4112.19</td>\n",
       "      <td>4</td>\n",
       "      <td>4</td>\n",
       "      <td>260.500</td>\n",
       "      <td>4</td>\n",
       "    </tr>\n",
       "    <tr>\n",
       "      <th>2575</th>\n",
       "      <td>Super built-up  Area</td>\n",
       "      <td>Soon to be Vacated</td>\n",
       "      <td>Whitefield</td>\n",
       "      <td>2830 - 2882</td>\n",
       "      <td>5</td>\n",
       "      <td>0</td>\n",
       "      <td>145.500</td>\n",
       "      <td>4</td>\n",
       "    </tr>\n",
       "    <tr>\n",
       "      <th>1178</th>\n",
       "      <td>Super built-up  Area</td>\n",
       "      <td>Soon to be Vacated</td>\n",
       "      <td>Yelahanka</td>\n",
       "      <td>1445 - 1455</td>\n",
       "      <td>3</td>\n",
       "      <td>0</td>\n",
       "      <td>65.255</td>\n",
       "      <td>3</td>\n",
       "    </tr>\n",
       "    <tr>\n",
       "      <th>1712</th>\n",
       "      <td>Plot  Area</td>\n",
       "      <td>Ready To Move</td>\n",
       "      <td>other</td>\n",
       "      <td>1500Sq. Meter</td>\n",
       "      <td>3</td>\n",
       "      <td>1</td>\n",
       "      <td>95.000</td>\n",
       "      <td>3</td>\n",
       "    </tr>\n",
       "    <tr>\n",
       "      <th>648</th>\n",
       "      <td>Built-up  Area</td>\n",
       "      <td>Ready To Move</td>\n",
       "      <td>Arekere</td>\n",
       "      <td>4125Perch</td>\n",
       "      <td>9</td>\n",
       "      <td>9</td>\n",
       "      <td>265.000</td>\n",
       "      <td>9</td>\n",
       "    </tr>\n",
       "    <tr>\n",
       "      <th>4289</th>\n",
       "      <td>Super built-up  Area</td>\n",
       "      <td>Ready To Move</td>\n",
       "      <td>Yeshwanthpur</td>\n",
       "      <td>540 - 670</td>\n",
       "      <td>1</td>\n",
       "      <td>0</td>\n",
       "      <td>41.745</td>\n",
       "      <td>1</td>\n",
       "    </tr>\n",
       "    <tr>\n",
       "      <th>11285</th>\n",
       "      <td>Super built-up  Area</td>\n",
       "      <td>Soon to be Vacated</td>\n",
       "      <td>Whitefield</td>\n",
       "      <td>1235 - 1410</td>\n",
       "      <td>3</td>\n",
       "      <td>0</td>\n",
       "      <td>40.985</td>\n",
       "      <td>3</td>\n",
       "    </tr>\n",
       "    <tr>\n",
       "      <th>4190</th>\n",
       "      <td>Carpet  Area</td>\n",
       "      <td>Soon to be Vacated</td>\n",
       "      <td>Kanakpura Road</td>\n",
       "      <td>381 - 535</td>\n",
       "      <td>1</td>\n",
       "      <td>0</td>\n",
       "      <td>19.695</td>\n",
       "      <td>1</td>\n",
       "    </tr>\n",
       "    <tr>\n",
       "      <th>9129</th>\n",
       "      <td>Super built-up  Area</td>\n",
       "      <td>Soon to be Vacated</td>\n",
       "      <td>Mysore Road</td>\n",
       "      <td>1410 - 1710</td>\n",
       "      <td>3</td>\n",
       "      <td>3</td>\n",
       "      <td>83.300</td>\n",
       "      <td>3</td>\n",
       "    </tr>\n",
       "    <tr>\n",
       "      <th>850</th>\n",
       "      <td>Super built-up  Area</td>\n",
       "      <td>Soon to be Vacated</td>\n",
       "      <td>Bannerghatta Road</td>\n",
       "      <td>1115 - 1130</td>\n",
       "      <td>2</td>\n",
       "      <td>0</td>\n",
       "      <td>58.935</td>\n",
       "      <td>2</td>\n",
       "    </tr>\n",
       "    <tr>\n",
       "      <th>2431</th>\n",
       "      <td>Super built-up  Area</td>\n",
       "      <td>Ready To Move</td>\n",
       "      <td>EPIP Zone</td>\n",
       "      <td>2710 - 3360</td>\n",
       "      <td>5</td>\n",
       "      <td>0</td>\n",
       "      <td>200.000</td>\n",
       "      <td>4</td>\n",
       "    </tr>\n",
       "    <tr>\n",
       "      <th>3544</th>\n",
       "      <td>Super built-up  Area</td>\n",
       "      <td>Soon to be Vacated</td>\n",
       "      <td>Hennur Road</td>\n",
       "      <td>1482 - 1846</td>\n",
       "      <td>3</td>\n",
       "      <td>3</td>\n",
       "      <td>93.865</td>\n",
       "      <td>3</td>\n",
       "    </tr>\n",
       "    <tr>\n",
       "      <th>4346</th>\n",
       "      <td>Super built-up  Area</td>\n",
       "      <td>Soon to be Vacated</td>\n",
       "      <td>Whitefield</td>\n",
       "      <td>1650 - 2538</td>\n",
       "      <td>3</td>\n",
       "      <td>3</td>\n",
       "      <td>113.190</td>\n",
       "      <td>3</td>\n",
       "    </tr>\n",
       "    <tr>\n",
       "      <th>12435</th>\n",
       "      <td>Super built-up  Area</td>\n",
       "      <td>Soon to be Vacated</td>\n",
       "      <td>Banashankari Stage VI</td>\n",
       "      <td>1400 - 1421</td>\n",
       "      <td>2</td>\n",
       "      <td>0</td>\n",
       "      <td>70.385</td>\n",
       "      <td>3</td>\n",
       "    </tr>\n",
       "    <tr>\n",
       "      <th>12252</th>\n",
       "      <td>Built-up  Area</td>\n",
       "      <td>Ready To Move</td>\n",
       "      <td>other</td>\n",
       "      <td>24Sq. Meter</td>\n",
       "      <td>5</td>\n",
       "      <td>0</td>\n",
       "      <td>75.000</td>\n",
       "      <td>5</td>\n",
       "    </tr>\n",
       "    <tr>\n",
       "      <th>2998</th>\n",
       "      <td>Super built-up  Area</td>\n",
       "      <td>Soon to be Vacated</td>\n",
       "      <td>Sarjapur  Road</td>\n",
       "      <td>1446 - 1506</td>\n",
       "      <td>3</td>\n",
       "      <td>3</td>\n",
       "      <td>98.940</td>\n",
       "      <td>3</td>\n",
       "    </tr>\n",
       "    <tr>\n",
       "      <th>4843</th>\n",
       "      <td>Super built-up  Area</td>\n",
       "      <td>Soon to be Vacated</td>\n",
       "      <td>Bhoganhalli</td>\n",
       "      <td>1974 - 2171</td>\n",
       "      <td>4</td>\n",
       "      <td>4</td>\n",
       "      <td>111.000</td>\n",
       "      <td>4</td>\n",
       "    </tr>\n",
       "    <tr>\n",
       "      <th>2563</th>\n",
       "      <td>Super built-up  Area</td>\n",
       "      <td>Ready To Move</td>\n",
       "      <td>Rajaji Nagar</td>\n",
       "      <td>3436 - 3643</td>\n",
       "      <td>4</td>\n",
       "      <td>4</td>\n",
       "      <td>424.500</td>\n",
       "      <td>4</td>\n",
       "    </tr>\n",
       "  </tbody>\n",
       "</table>\n",
       "</div>"
      ],
      "text/plain": [
       "                  area_type        availability               location  \\\n",
       "5382   Super built-up  Area  Soon to be Vacated             Whitefield   \n",
       "3285             Plot  Area  Soon to be Vacated             Whitefield   \n",
       "1400   Super built-up  Area       Ready To Move             Chamrajpet   \n",
       "6592         Built-up  Area       Ready To Move                  other   \n",
       "702    Super built-up  Area  Soon to be Vacated               JP Nagar   \n",
       "2916   Super built-up  Area  Soon to be Vacated            Thanisandra   \n",
       "8056   Super built-up  Area       Ready To Move                 Jakkur   \n",
       "137    Super built-up  Area  Soon to be Vacated     8th Phase JP Nagar   \n",
       "5631   Super built-up  Area       Ready To Move            Thanisandra   \n",
       "9434   Super built-up  Area       Ready To Move      Bannerghatta Road   \n",
       "8236   Super built-up  Area       Ready To Move               Budigere   \n",
       "6303         Built-up  Area       Ready To Move               JP Nagar   \n",
       "2500   Super built-up  Area  Soon to be Vacated                 Jakkur   \n",
       "2575   Super built-up  Area  Soon to be Vacated             Whitefield   \n",
       "1178   Super built-up  Area  Soon to be Vacated              Yelahanka   \n",
       "1712             Plot  Area       Ready To Move                  other   \n",
       "648          Built-up  Area       Ready To Move                Arekere   \n",
       "4289   Super built-up  Area       Ready To Move           Yeshwanthpur   \n",
       "11285  Super built-up  Area  Soon to be Vacated             Whitefield   \n",
       "4190           Carpet  Area  Soon to be Vacated         Kanakpura Road   \n",
       "9129   Super built-up  Area  Soon to be Vacated            Mysore Road   \n",
       "850    Super built-up  Area  Soon to be Vacated      Bannerghatta Road   \n",
       "2431   Super built-up  Area       Ready To Move              EPIP Zone   \n",
       "3544   Super built-up  Area  Soon to be Vacated            Hennur Road   \n",
       "4346   Super built-up  Area  Soon to be Vacated             Whitefield   \n",
       "12435  Super built-up  Area  Soon to be Vacated  Banashankari Stage VI   \n",
       "12252        Built-up  Area       Ready To Move                  other   \n",
       "2998   Super built-up  Area  Soon to be Vacated         Sarjapur  Road   \n",
       "4843   Super built-up  Area  Soon to be Vacated            Bhoganhalli   \n",
       "2563   Super built-up  Area       Ready To Move           Rajaji Nagar   \n",
       "\n",
       "              total_sqft  bath  balcony    price  bhk  \n",
       "5382           524 - 894     1        0   34.735    1  \n",
       "3285        500Sq. Yards     4        2  378.000    4  \n",
       "1400        716Sq. Meter     9        1  296.000    9  \n",
       "6592        697Sq. Meter     4        2  211.000    4  \n",
       "702          4400 - 6800     5        5  548.500    5  \n",
       "2916          934 - 1437     2        0   58.680    2  \n",
       "8056         1610 - 1880     3        3   98.485    3  \n",
       "137          1042 - 1105     2        0   54.005    2  \n",
       "5631        204Sq. Meter     4        2  185.000    3  \n",
       "9434         1160 - 1315     2        0   49.490    2  \n",
       "8236           664 - 722     1        0   27.375    1  \n",
       "6303      84.53Sq. Meter     3        1   69.340    3  \n",
       "2500   2249.81 - 4112.19     4        4  260.500    4  \n",
       "2575         2830 - 2882     5        0  145.500    4  \n",
       "1178         1445 - 1455     3        0   65.255    3  \n",
       "1712       1500Sq. Meter     3        1   95.000    3  \n",
       "648            4125Perch     9        9  265.000    9  \n",
       "4289           540 - 670     1        0   41.745    1  \n",
       "11285        1235 - 1410     3        0   40.985    3  \n",
       "4190           381 - 535     1        0   19.695    1  \n",
       "9129         1410 - 1710     3        3   83.300    3  \n",
       "850          1115 - 1130     2        0   58.935    2  \n",
       "2431         2710 - 3360     5        0  200.000    4  \n",
       "3544         1482 - 1846     3        3   93.865    3  \n",
       "4346         1650 - 2538     3        3  113.190    3  \n",
       "12435        1400 - 1421     2        0   70.385    3  \n",
       "12252        24Sq. Meter     5        0   75.000    5  \n",
       "2998         1446 - 1506     3        3   98.940    3  \n",
       "4843         1974 - 2171     4        4  111.000    4  \n",
       "2563         3436 - 3643     4        4  424.500    4  "
      ]
     },
     "execution_count": 59,
     "metadata": {},
     "output_type": "execute_result"
    }
   ],
   "source": [
    "def IsFloat(x):\n",
    "    try:\n",
    "        float(x)\n",
    "    except:\n",
    "        return False\n",
    "    return True\n",
    "\n",
    "df1[~df1[\"total_sqft\"].apply(IsFloat)].sample(30)"
   ]
  },
  {
   "cell_type": "markdown",
   "id": "6efddb98",
   "metadata": {},
   "source": [
    "###### Some values are in different units as well so need to convert them to sqft"
   ]
  },
  {
   "cell_type": "code",
   "execution_count": 60,
   "id": "c3b942c5",
   "metadata": {},
   "outputs": [],
   "source": [
    "metrics = []\n",
    "\n",
    "def ConvertToSqFt(x, metric):\n",
    "    if metric == \"Acres\":\n",
    "        return x * 43560\n",
    "    elif metric == \"Cents\":\n",
    "        return x * 435.6\n",
    "    elif metric == \"Grounds\":\n",
    "        return x * 2400\n",
    "    elif metric == \"Guntha\":\n",
    "        return x * 1088.98\n",
    "    elif metric == \"Perch\":\n",
    "        return x * 272.25\n",
    "    elif metric == \"Sq. Meter\":\n",
    "        return x * 10.7639\n",
    "    elif metric == \"Sq. Yards\":\n",
    "        return x * 9\n",
    "    else:\n",
    "        return NaN\n",
    "\n",
    "\n",
    "def extract_total_sqft(x):\n",
    "    if IsFloat(x):\n",
    "        return float(x)\n",
    "    try:\n",
    "        tokens = x.split('-')\n",
    "        if len(tokens) == 2:\n",
    "            return (float(tokens[0]) + float(tokens[1]))/2\n",
    "    except:\n",
    "        if x==np.nan:\n",
    "               return np.nan\n",
    "        else:\n",
    "            for i in range(len(x)-1,-1,-1):\n",
    "                if IsFloat(x[0:i]):\n",
    "                    return ConvertToSqFt(float(x[0:i]), x[i:])\n",
    "    \n",
    "    "
   ]
  },
  {
   "cell_type": "code",
   "execution_count": 61,
   "id": "a019fb20",
   "metadata": {},
   "outputs": [],
   "source": [
    "df1[\"total_sqft\"] = df1[\"total_sqft\"].apply(extract_total_sqft)\n"
   ]
  },
  {
   "cell_type": "code",
   "execution_count": 62,
   "id": "fac36f38",
   "metadata": {},
   "outputs": [
    {
     "data": {
      "text/html": [
       "<div>\n",
       "<style scoped>\n",
       "    .dataframe tbody tr th:only-of-type {\n",
       "        vertical-align: middle;\n",
       "    }\n",
       "\n",
       "    .dataframe tbody tr th {\n",
       "        vertical-align: top;\n",
       "    }\n",
       "\n",
       "    .dataframe thead th {\n",
       "        text-align: right;\n",
       "    }\n",
       "</style>\n",
       "<table border=\"1\" class=\"dataframe\">\n",
       "  <thead>\n",
       "    <tr style=\"text-align: right;\">\n",
       "      <th></th>\n",
       "      <th>area_type</th>\n",
       "      <th>availability</th>\n",
       "      <th>location</th>\n",
       "      <th>total_sqft</th>\n",
       "      <th>bath</th>\n",
       "      <th>balcony</th>\n",
       "      <th>price</th>\n",
       "      <th>bhk</th>\n",
       "    </tr>\n",
       "  </thead>\n",
       "  <tbody>\n",
       "    <tr>\n",
       "      <th>7291</th>\n",
       "      <td>Super built-up  Area</td>\n",
       "      <td>Soon to be Vacated</td>\n",
       "      <td>Marathahalli</td>\n",
       "      <td>2122.0</td>\n",
       "      <td>3</td>\n",
       "      <td>2</td>\n",
       "      <td>125.00</td>\n",
       "      <td>3</td>\n",
       "    </tr>\n",
       "    <tr>\n",
       "      <th>7461</th>\n",
       "      <td>Built-up  Area</td>\n",
       "      <td>Ready To Move</td>\n",
       "      <td>Margondanahalli</td>\n",
       "      <td>1140.0</td>\n",
       "      <td>2</td>\n",
       "      <td>1</td>\n",
       "      <td>60.00</td>\n",
       "      <td>2</td>\n",
       "    </tr>\n",
       "    <tr>\n",
       "      <th>10942</th>\n",
       "      <td>Super built-up  Area</td>\n",
       "      <td>Ready To Move</td>\n",
       "      <td>other</td>\n",
       "      <td>1276.0</td>\n",
       "      <td>2</td>\n",
       "      <td>0</td>\n",
       "      <td>146.00</td>\n",
       "      <td>2</td>\n",
       "    </tr>\n",
       "    <tr>\n",
       "      <th>5492</th>\n",
       "      <td>Super built-up  Area</td>\n",
       "      <td>Ready To Move</td>\n",
       "      <td>Bellandur</td>\n",
       "      <td>982.0</td>\n",
       "      <td>2</td>\n",
       "      <td>2</td>\n",
       "      <td>55.00</td>\n",
       "      <td>2</td>\n",
       "    </tr>\n",
       "    <tr>\n",
       "      <th>5991</th>\n",
       "      <td>Built-up  Area</td>\n",
       "      <td>Ready To Move</td>\n",
       "      <td>Thubarahalli</td>\n",
       "      <td>1216.0</td>\n",
       "      <td>2</td>\n",
       "      <td>1</td>\n",
       "      <td>80.00</td>\n",
       "      <td>2</td>\n",
       "    </tr>\n",
       "    <tr>\n",
       "      <th>3814</th>\n",
       "      <td>Super built-up  Area</td>\n",
       "      <td>Ready To Move</td>\n",
       "      <td>Chandapura</td>\n",
       "      <td>1107.0</td>\n",
       "      <td>2</td>\n",
       "      <td>1</td>\n",
       "      <td>43.00</td>\n",
       "      <td>3</td>\n",
       "    </tr>\n",
       "    <tr>\n",
       "      <th>1322</th>\n",
       "      <td>Super built-up  Area</td>\n",
       "      <td>Soon to be Vacated</td>\n",
       "      <td>Kothannur</td>\n",
       "      <td>1275.0</td>\n",
       "      <td>2</td>\n",
       "      <td>2</td>\n",
       "      <td>43.85</td>\n",
       "      <td>3</td>\n",
       "    </tr>\n",
       "    <tr>\n",
       "      <th>13019</th>\n",
       "      <td>Plot  Area</td>\n",
       "      <td>Ready To Move</td>\n",
       "      <td>HAL 2nd Stage</td>\n",
       "      <td>2040.0</td>\n",
       "      <td>4</td>\n",
       "      <td>1</td>\n",
       "      <td>500.00</td>\n",
       "      <td>5</td>\n",
       "    </tr>\n",
       "    <tr>\n",
       "      <th>13143</th>\n",
       "      <td>Super built-up  Area</td>\n",
       "      <td>Soon to be Vacated</td>\n",
       "      <td>other</td>\n",
       "      <td>1100.0</td>\n",
       "      <td>2</td>\n",
       "      <td>2</td>\n",
       "      <td>64.08</td>\n",
       "      <td>2</td>\n",
       "    </tr>\n",
       "    <tr>\n",
       "      <th>1714</th>\n",
       "      <td>Plot  Area</td>\n",
       "      <td>Ready To Move</td>\n",
       "      <td>R.T. Nagar</td>\n",
       "      <td>1200.0</td>\n",
       "      <td>2</td>\n",
       "      <td>1</td>\n",
       "      <td>120.00</td>\n",
       "      <td>2</td>\n",
       "    </tr>\n",
       "    <tr>\n",
       "      <th>517</th>\n",
       "      <td>Super built-up  Area</td>\n",
       "      <td>Ready To Move</td>\n",
       "      <td>Begur Road</td>\n",
       "      <td>1584.0</td>\n",
       "      <td>3</td>\n",
       "      <td>3</td>\n",
       "      <td>65.00</td>\n",
       "      <td>3</td>\n",
       "    </tr>\n",
       "    <tr>\n",
       "      <th>5568</th>\n",
       "      <td>Super built-up  Area</td>\n",
       "      <td>Soon to be Vacated</td>\n",
       "      <td>Whitefield</td>\n",
       "      <td>1235.0</td>\n",
       "      <td>2</td>\n",
       "      <td>2</td>\n",
       "      <td>47.00</td>\n",
       "      <td>2</td>\n",
       "    </tr>\n",
       "    <tr>\n",
       "      <th>2784</th>\n",
       "      <td>Super built-up  Area</td>\n",
       "      <td>Ready To Move</td>\n",
       "      <td>BTM 2nd Stage</td>\n",
       "      <td>1200.0</td>\n",
       "      <td>2</td>\n",
       "      <td>2</td>\n",
       "      <td>80.00</td>\n",
       "      <td>2</td>\n",
       "    </tr>\n",
       "    <tr>\n",
       "      <th>12953</th>\n",
       "      <td>Super built-up  Area</td>\n",
       "      <td>Ready To Move</td>\n",
       "      <td>Whitefield</td>\n",
       "      <td>1362.0</td>\n",
       "      <td>2</td>\n",
       "      <td>3</td>\n",
       "      <td>85.00</td>\n",
       "      <td>2</td>\n",
       "    </tr>\n",
       "    <tr>\n",
       "      <th>7867</th>\n",
       "      <td>Super built-up  Area</td>\n",
       "      <td>Ready To Move</td>\n",
       "      <td>Whitefield</td>\n",
       "      <td>1190.0</td>\n",
       "      <td>2</td>\n",
       "      <td>2</td>\n",
       "      <td>41.00</td>\n",
       "      <td>2</td>\n",
       "    </tr>\n",
       "    <tr>\n",
       "      <th>3004</th>\n",
       "      <td>Super built-up  Area</td>\n",
       "      <td>Soon to be Vacated</td>\n",
       "      <td>Whitefield</td>\n",
       "      <td>3850.0</td>\n",
       "      <td>5</td>\n",
       "      <td>3</td>\n",
       "      <td>316.00</td>\n",
       "      <td>3</td>\n",
       "    </tr>\n",
       "    <tr>\n",
       "      <th>11634</th>\n",
       "      <td>Super built-up  Area</td>\n",
       "      <td>Ready To Move</td>\n",
       "      <td>Horamavu Agara</td>\n",
       "      <td>1220.0</td>\n",
       "      <td>2</td>\n",
       "      <td>2</td>\n",
       "      <td>39.00</td>\n",
       "      <td>2</td>\n",
       "    </tr>\n",
       "    <tr>\n",
       "      <th>9753</th>\n",
       "      <td>Built-up  Area</td>\n",
       "      <td>Soon to be Vacated</td>\n",
       "      <td>Bommasandra Industrial Area</td>\n",
       "      <td>1125.0</td>\n",
       "      <td>2</td>\n",
       "      <td>1</td>\n",
       "      <td>32.49</td>\n",
       "      <td>2</td>\n",
       "    </tr>\n",
       "    <tr>\n",
       "      <th>8577</th>\n",
       "      <td>Super built-up  Area</td>\n",
       "      <td>Soon to be Vacated</td>\n",
       "      <td>Jakkur</td>\n",
       "      <td>1798.0</td>\n",
       "      <td>3</td>\n",
       "      <td>1</td>\n",
       "      <td>110.00</td>\n",
       "      <td>3</td>\n",
       "    </tr>\n",
       "    <tr>\n",
       "      <th>10678</th>\n",
       "      <td>Super built-up  Area</td>\n",
       "      <td>Ready To Move</td>\n",
       "      <td>other</td>\n",
       "      <td>1055.0</td>\n",
       "      <td>2</td>\n",
       "      <td>1</td>\n",
       "      <td>43.00</td>\n",
       "      <td>2</td>\n",
       "    </tr>\n",
       "  </tbody>\n",
       "</table>\n",
       "</div>"
      ],
      "text/plain": [
       "                  area_type        availability                     location  \\\n",
       "7291   Super built-up  Area  Soon to be Vacated                 Marathahalli   \n",
       "7461         Built-up  Area       Ready To Move              Margondanahalli   \n",
       "10942  Super built-up  Area       Ready To Move                        other   \n",
       "5492   Super built-up  Area       Ready To Move                    Bellandur   \n",
       "5991         Built-up  Area       Ready To Move                 Thubarahalli   \n",
       "3814   Super built-up  Area       Ready To Move                   Chandapura   \n",
       "1322   Super built-up  Area  Soon to be Vacated                    Kothannur   \n",
       "13019            Plot  Area       Ready To Move                HAL 2nd Stage   \n",
       "13143  Super built-up  Area  Soon to be Vacated                        other   \n",
       "1714             Plot  Area       Ready To Move                   R.T. Nagar   \n",
       "517    Super built-up  Area       Ready To Move                   Begur Road   \n",
       "5568   Super built-up  Area  Soon to be Vacated                   Whitefield   \n",
       "2784   Super built-up  Area       Ready To Move                BTM 2nd Stage   \n",
       "12953  Super built-up  Area       Ready To Move                   Whitefield   \n",
       "7867   Super built-up  Area       Ready To Move                   Whitefield   \n",
       "3004   Super built-up  Area  Soon to be Vacated                   Whitefield   \n",
       "11634  Super built-up  Area       Ready To Move               Horamavu Agara   \n",
       "9753         Built-up  Area  Soon to be Vacated  Bommasandra Industrial Area   \n",
       "8577   Super built-up  Area  Soon to be Vacated                       Jakkur   \n",
       "10678  Super built-up  Area       Ready To Move                        other   \n",
       "\n",
       "       total_sqft  bath  balcony   price  bhk  \n",
       "7291       2122.0     3        2  125.00    3  \n",
       "7461       1140.0     2        1   60.00    2  \n",
       "10942      1276.0     2        0  146.00    2  \n",
       "5492        982.0     2        2   55.00    2  \n",
       "5991       1216.0     2        1   80.00    2  \n",
       "3814       1107.0     2        1   43.00    3  \n",
       "1322       1275.0     2        2   43.85    3  \n",
       "13019      2040.0     4        1  500.00    5  \n",
       "13143      1100.0     2        2   64.08    2  \n",
       "1714       1200.0     2        1  120.00    2  \n",
       "517        1584.0     3        3   65.00    3  \n",
       "5568       1235.0     2        2   47.00    2  \n",
       "2784       1200.0     2        2   80.00    2  \n",
       "12953      1362.0     2        3   85.00    2  \n",
       "7867       1190.0     2        2   41.00    2  \n",
       "3004       3850.0     5        3  316.00    3  \n",
       "11634      1220.0     2        2   39.00    2  \n",
       "9753       1125.0     2        1   32.49    2  \n",
       "8577       1798.0     3        1  110.00    3  \n",
       "10678      1055.0     2        1   43.00    2  "
      ]
     },
     "execution_count": 62,
     "metadata": {},
     "output_type": "execute_result"
    }
   ],
   "source": [
    "df1.sample(20)"
   ]
  },
  {
   "cell_type": "markdown",
   "id": "a428d355",
   "metadata": {},
   "source": [
    "# Outlier removal"
   ]
  },
  {
   "cell_type": "code",
   "execution_count": 63,
   "id": "a2153d0c",
   "metadata": {},
   "outputs": [],
   "source": [
    "df1[\"price_per_sqft\"] = df1[\"price\"] * 100000 / df1[\"total_sqft\"]\n"
   ]
  },
  {
   "cell_type": "code",
   "execution_count": 64,
   "id": "a2f48df4",
   "metadata": {},
   "outputs": [],
   "source": [
    "df1[\"sqft_per_bhk\"] = df1[\"total_sqft\"] / df1[\"bhk\"]\n"
   ]
  },
  {
   "cell_type": "markdown",
   "id": "209309a3",
   "metadata": {},
   "source": [
    "##### these features will help to remove outliers as seen in exploratory analysis phase"
   ]
  },
  {
   "cell_type": "code",
   "execution_count": 65,
   "id": "3181ab1d",
   "metadata": {},
   "outputs": [
    {
     "data": {
      "text/html": [
       "<div>\n",
       "<style scoped>\n",
       "    .dataframe tbody tr th:only-of-type {\n",
       "        vertical-align: middle;\n",
       "    }\n",
       "\n",
       "    .dataframe tbody tr th {\n",
       "        vertical-align: top;\n",
       "    }\n",
       "\n",
       "    .dataframe thead th {\n",
       "        text-align: right;\n",
       "    }\n",
       "</style>\n",
       "<table border=\"1\" class=\"dataframe\">\n",
       "  <thead>\n",
       "    <tr style=\"text-align: right;\">\n",
       "      <th></th>\n",
       "      <th>area_type</th>\n",
       "      <th>availability</th>\n",
       "      <th>location</th>\n",
       "      <th>total_sqft</th>\n",
       "      <th>bath</th>\n",
       "      <th>balcony</th>\n",
       "      <th>price</th>\n",
       "      <th>bhk</th>\n",
       "      <th>price_per_sqft</th>\n",
       "      <th>sqft_per_bhk</th>\n",
       "    </tr>\n",
       "  </thead>\n",
       "  <tbody>\n",
       "    <tr>\n",
       "      <th>0</th>\n",
       "      <td>Super built-up  Area</td>\n",
       "      <td>Soon to be Vacated</td>\n",
       "      <td>Electronic City Phase II</td>\n",
       "      <td>1056.0</td>\n",
       "      <td>2</td>\n",
       "      <td>1</td>\n",
       "      <td>39.07</td>\n",
       "      <td>2</td>\n",
       "      <td>3699.810606</td>\n",
       "      <td>528.00</td>\n",
       "    </tr>\n",
       "    <tr>\n",
       "      <th>1</th>\n",
       "      <td>Plot  Area</td>\n",
       "      <td>Ready To Move</td>\n",
       "      <td>Chikka Tirupathi</td>\n",
       "      <td>2600.0</td>\n",
       "      <td>5</td>\n",
       "      <td>3</td>\n",
       "      <td>120.00</td>\n",
       "      <td>4</td>\n",
       "      <td>4615.384615</td>\n",
       "      <td>650.00</td>\n",
       "    </tr>\n",
       "    <tr>\n",
       "      <th>2</th>\n",
       "      <td>Built-up  Area</td>\n",
       "      <td>Ready To Move</td>\n",
       "      <td>Uttarahalli</td>\n",
       "      <td>1440.0</td>\n",
       "      <td>2</td>\n",
       "      <td>3</td>\n",
       "      <td>62.00</td>\n",
       "      <td>3</td>\n",
       "      <td>4305.555556</td>\n",
       "      <td>480.00</td>\n",
       "    </tr>\n",
       "    <tr>\n",
       "      <th>3</th>\n",
       "      <td>Super built-up  Area</td>\n",
       "      <td>Ready To Move</td>\n",
       "      <td>Lingadheeranahalli</td>\n",
       "      <td>1521.0</td>\n",
       "      <td>3</td>\n",
       "      <td>1</td>\n",
       "      <td>95.00</td>\n",
       "      <td>3</td>\n",
       "      <td>6245.890861</td>\n",
       "      <td>507.00</td>\n",
       "    </tr>\n",
       "    <tr>\n",
       "      <th>4</th>\n",
       "      <td>Super built-up  Area</td>\n",
       "      <td>Ready To Move</td>\n",
       "      <td>Kothanur</td>\n",
       "      <td>1200.0</td>\n",
       "      <td>2</td>\n",
       "      <td>1</td>\n",
       "      <td>51.00</td>\n",
       "      <td>2</td>\n",
       "      <td>4250.000000</td>\n",
       "      <td>600.00</td>\n",
       "    </tr>\n",
       "    <tr>\n",
       "      <th>...</th>\n",
       "      <td>...</td>\n",
       "      <td>...</td>\n",
       "      <td>...</td>\n",
       "      <td>...</td>\n",
       "      <td>...</td>\n",
       "      <td>...</td>\n",
       "      <td>...</td>\n",
       "      <td>...</td>\n",
       "      <td>...</td>\n",
       "      <td>...</td>\n",
       "    </tr>\n",
       "    <tr>\n",
       "      <th>13315</th>\n",
       "      <td>Built-up  Area</td>\n",
       "      <td>Ready To Move</td>\n",
       "      <td>Whitefield</td>\n",
       "      <td>3453.0</td>\n",
       "      <td>4</td>\n",
       "      <td>0</td>\n",
       "      <td>231.00</td>\n",
       "      <td>5</td>\n",
       "      <td>6689.834926</td>\n",
       "      <td>690.60</td>\n",
       "    </tr>\n",
       "    <tr>\n",
       "      <th>13316</th>\n",
       "      <td>Super built-up  Area</td>\n",
       "      <td>Ready To Move</td>\n",
       "      <td>other</td>\n",
       "      <td>3600.0</td>\n",
       "      <td>5</td>\n",
       "      <td>4</td>\n",
       "      <td>400.00</td>\n",
       "      <td>4</td>\n",
       "      <td>11111.111111</td>\n",
       "      <td>900.00</td>\n",
       "    </tr>\n",
       "    <tr>\n",
       "      <th>13317</th>\n",
       "      <td>Built-up  Area</td>\n",
       "      <td>Ready To Move</td>\n",
       "      <td>Raja Rajeshwari Nagar</td>\n",
       "      <td>1141.0</td>\n",
       "      <td>2</td>\n",
       "      <td>1</td>\n",
       "      <td>60.00</td>\n",
       "      <td>2</td>\n",
       "      <td>5258.545136</td>\n",
       "      <td>570.50</td>\n",
       "    </tr>\n",
       "    <tr>\n",
       "      <th>13318</th>\n",
       "      <td>Super built-up  Area</td>\n",
       "      <td>Soon to be Vacated</td>\n",
       "      <td>Padmanabhanagar</td>\n",
       "      <td>4689.0</td>\n",
       "      <td>4</td>\n",
       "      <td>1</td>\n",
       "      <td>488.00</td>\n",
       "      <td>4</td>\n",
       "      <td>10407.336319</td>\n",
       "      <td>1172.25</td>\n",
       "    </tr>\n",
       "    <tr>\n",
       "      <th>13319</th>\n",
       "      <td>Super built-up  Area</td>\n",
       "      <td>Ready To Move</td>\n",
       "      <td>Doddathoguru</td>\n",
       "      <td>550.0</td>\n",
       "      <td>1</td>\n",
       "      <td>1</td>\n",
       "      <td>17.00</td>\n",
       "      <td>1</td>\n",
       "      <td>3090.909091</td>\n",
       "      <td>550.00</td>\n",
       "    </tr>\n",
       "  </tbody>\n",
       "</table>\n",
       "<p>13304 rows × 10 columns</p>\n",
       "</div>"
      ],
      "text/plain": [
       "                  area_type        availability                  location  \\\n",
       "0      Super built-up  Area  Soon to be Vacated  Electronic City Phase II   \n",
       "1                Plot  Area       Ready To Move          Chikka Tirupathi   \n",
       "2            Built-up  Area       Ready To Move               Uttarahalli   \n",
       "3      Super built-up  Area       Ready To Move        Lingadheeranahalli   \n",
       "4      Super built-up  Area       Ready To Move                  Kothanur   \n",
       "...                     ...                 ...                       ...   \n",
       "13315        Built-up  Area       Ready To Move                Whitefield   \n",
       "13316  Super built-up  Area       Ready To Move                     other   \n",
       "13317        Built-up  Area       Ready To Move     Raja Rajeshwari Nagar   \n",
       "13318  Super built-up  Area  Soon to be Vacated           Padmanabhanagar   \n",
       "13319  Super built-up  Area       Ready To Move              Doddathoguru   \n",
       "\n",
       "       total_sqft  bath  balcony   price  bhk  price_per_sqft  sqft_per_bhk  \n",
       "0          1056.0     2        1   39.07    2     3699.810606        528.00  \n",
       "1          2600.0     5        3  120.00    4     4615.384615        650.00  \n",
       "2          1440.0     2        3   62.00    3     4305.555556        480.00  \n",
       "3          1521.0     3        1   95.00    3     6245.890861        507.00  \n",
       "4          1200.0     2        1   51.00    2     4250.000000        600.00  \n",
       "...           ...   ...      ...     ...  ...             ...           ...  \n",
       "13315      3453.0     4        0  231.00    5     6689.834926        690.60  \n",
       "13316      3600.0     5        4  400.00    4    11111.111111        900.00  \n",
       "13317      1141.0     2        1   60.00    2     5258.545136        570.50  \n",
       "13318      4689.0     4        1  488.00    4    10407.336319       1172.25  \n",
       "13319       550.0     1        1   17.00    1     3090.909091        550.00  \n",
       "\n",
       "[13304 rows x 10 columns]"
      ]
     },
     "execution_count": 65,
     "metadata": {},
     "output_type": "execute_result"
    }
   ],
   "source": [
    "df1"
   ]
  },
  {
   "cell_type": "markdown",
   "id": "d6bbf5c8",
   "metadata": {},
   "source": [
    "#### 1. Sqft per bhk -"
   ]
  },
  {
   "cell_type": "code",
   "execution_count": 66,
   "id": "b9e5d0f5",
   "metadata": {},
   "outputs": [
    {
     "data": {
      "text/plain": [
       "count    13258.000000\n",
       "mean       574.420590\n",
       "std        387.584212\n",
       "min          0.250000\n",
       "25%        473.333333\n",
       "50%        552.250000\n",
       "75%        625.000000\n",
       "max      26136.000000\n",
       "Name: sqft_per_bhk, dtype: float64"
      ]
     },
     "execution_count": 66,
     "metadata": {},
     "output_type": "execute_result"
    }
   ],
   "source": [
    "df1[\"sqft_per_bhk\"].describe()\n"
   ]
  },
  {
   "cell_type": "code",
   "execution_count": 67,
   "id": "d3ce26eb",
   "metadata": {},
   "outputs": [
    {
     "name": "stderr",
     "output_type": "stream",
     "text": [
      "/home/nitinsaini/.local/lib/python3.8/site-packages/seaborn/distributions.py:2619: FutureWarning: `distplot` is a deprecated function and will be removed in a future version. Please adapt your code to use either `displot` (a figure-level function with similar flexibility) or `histplot` (an axes-level function for histograms).\n",
      "  warnings.warn(msg, FutureWarning)\n"
     ]
    },
    {
     "data": {
      "text/plain": [
       "<AxesSubplot:xlabel='sqft_per_bhk', ylabel='Density'>"
      ]
     },
     "execution_count": 67,
     "metadata": {},
     "output_type": "execute_result"
    },
    {
     "data": {
      "image/png": "[encoded data removed]",
      "text/plain": [
       "<Figure size 432x288 with 1 Axes>"
      ]
     },
     "metadata": {
      "needs_background": "light"
     },
     "output_type": "display_data"
    }
   ],
   "source": [
    "sns.distplot(df1[\"sqft_per_bhk\"], hist=True, kde=True, \n",
    "             bins=100, color = 'blue',\n",
    "             hist_kws={'edgecolor':'black'})"
   ]
  },
  {
   "cell_type": "code",
   "execution_count": 68,
   "id": "5f0a3122",
   "metadata": {},
   "outputs": [
    {
     "data": {
      "text/plain": [
       "area_type         25\n",
       "availability      25\n",
       "location          25\n",
       "total_sqft        25\n",
       "bath              25\n",
       "balcony           25\n",
       "price             25\n",
       "bhk               25\n",
       "price_per_sqft    25\n",
       "sqft_per_bhk      25\n",
       "dtype: int64"
      ]
     },
     "execution_count": 68,
     "metadata": {},
     "output_type": "execute_result"
    }
   ],
   "source": [
    "df1[df1[\"sqft_per_bhk\"] > 2500].count()"
   ]
  },
  {
   "cell_type": "markdown",
   "id": "f8b41a04",
   "metadata": {},
   "source": [
    "###### sqft per bhk greater than 2500 is definately an outlier we can remove those to look more closely at the graph"
   ]
  },
  {
   "cell_type": "code",
   "execution_count": 69,
   "id": "249b83bc",
   "metadata": {},
   "outputs": [],
   "source": [
    "df1 = df1[~(df1[\"sqft_per_bhk\"] > 2500)]"
   ]
  },
  {
   "cell_type": "code",
   "execution_count": 70,
   "id": "835903a7",
   "metadata": {},
   "outputs": [
    {
     "name": "stderr",
     "output_type": "stream",
     "text": [
      "/home/nitinsaini/.local/lib/python3.8/site-packages/seaborn/distributions.py:2619: FutureWarning: `distplot` is a deprecated function and will be removed in a future version. Please adapt your code to use either `displot` (a figure-level function with similar flexibility) or `histplot` (an axes-level function for histograms).\n",
      "  warnings.warn(msg, FutureWarning)\n"
     ]
    },
    {
     "data": {
      "text/plain": [
       "<AxesSubplot:xlabel='sqft_per_bhk', ylabel='Density'>"
      ]
     },
     "execution_count": 70,
     "metadata": {},
     "output_type": "execute_result"
    },
    {
     "data": {
      "image/png": "[encoded data removed]",
      "text/plain": [
       "<Figure size 432x288 with 1 Axes>"
      ]
     },
     "metadata": {
      "needs_background": "light"
     },
     "output_type": "display_data"
    }
   ],
   "source": [
    "\n",
    "sns.distplot(df1[\"sqft_per_bhk\"], hist=True, kde=True, \n",
    "             bins=100, color = 'blue',\n",
    "             hist_kws={'edgecolor':'black'})"
   ]
  },
  {
   "cell_type": "code",
   "execution_count": 71,
   "id": "9af05b8e",
   "metadata": {},
   "outputs": [
    {
     "data": {
      "text/plain": [
       "area_type         111\n",
       "availability      111\n",
       "location          111\n",
       "total_sqft        111\n",
       "bath              111\n",
       "balcony           111\n",
       "price             111\n",
       "bhk               111\n",
       "price_per_sqft    111\n",
       "sqft_per_bhk      111\n",
       "dtype: int64"
      ]
     },
     "execution_count": 71,
     "metadata": {},
     "output_type": "execute_result"
    }
   ],
   "source": [
    "df1[df1[\"sqft_per_bhk\"] > 1300].count()\n"
   ]
  },
  {
   "cell_type": "code",
   "execution_count": 72,
   "id": "ec0f7ad7",
   "metadata": {},
   "outputs": [
    {
     "data": {
      "text/plain": [
       "area_type         612\n",
       "availability      612\n",
       "location          612\n",
       "total_sqft        612\n",
       "bath              612\n",
       "balcony           612\n",
       "price             612\n",
       "bhk               612\n",
       "price_per_sqft    612\n",
       "sqft_per_bhk      612\n",
       "dtype: int64"
      ]
     },
     "execution_count": 72,
     "metadata": {},
     "output_type": "execute_result"
    }
   ],
   "source": [
    "df1[df1[\"sqft_per_bhk\"] < 250].count()"
   ]
  },
  {
   "cell_type": "code",
   "execution_count": 73,
   "id": "9a5ae9fb",
   "metadata": {},
   "outputs": [],
   "source": [
    "df1 = df1[~(df1[\"sqft_per_bhk\"] > 1300)]\n",
    "df1 = df1[~(df1[\"sqft_per_bhk\"] < 250)]"
   ]
  },
  {
   "cell_type": "code",
   "execution_count": 74,
   "id": "9b643693",
   "metadata": {},
   "outputs": [
    {
     "name": "stderr",
     "output_type": "stream",
     "text": [
      "/home/nitinsaini/.local/lib/python3.8/site-packages/seaborn/distributions.py:2619: FutureWarning: `distplot` is a deprecated function and will be removed in a future version. Please adapt your code to use either `displot` (a figure-level function with similar flexibility) or `histplot` (an axes-level function for histograms).\n",
      "  warnings.warn(msg, FutureWarning)\n"
     ]
    },
    {
     "data": {
      "text/plain": [
       "<AxesSubplot:xlabel='sqft_per_bhk', ylabel='Density'>"
      ]
     },
     "execution_count": 74,
     "metadata": {},
     "output_type": "execute_result"
    },
    {
     "data": {
      "image/png": "[encoded data removed]",
      "text/plain": [
       "<Figure size 432x288 with 1 Axes>"
      ]
     },
     "metadata": {
      "needs_background": "light"
     },
     "output_type": "display_data"
    }
   ],
   "source": [
    "\n",
    "sns.distplot(df1[\"sqft_per_bhk\"], hist=True, kde=True, \n",
    "             bins=100, color = 'blue',\n",
    "             hist_kws={'edgecolor':'black'})"
   ]
  },
  {
   "cell_type": "markdown",
   "id": "cd38abb1",
   "metadata": {},
   "source": [
    "##### I have considered values above 1300 and below 250 as outliers by looking at the distribution"
   ]
  },
  {
   "cell_type": "markdown",
   "id": "1338faac",
   "metadata": {},
   "source": [
    "##### 2.Total sqft- "
   ]
  },
  {
   "cell_type": "code",
   "execution_count": 75,
   "id": "6b3c50b8",
   "metadata": {},
   "outputs": [
    {
     "data": {
      "text/plain": [
       "count    12510.000000\n",
       "mean      1522.075558\n",
       "std        753.337462\n",
       "min        250.000000\n",
       "25%       1110.000000\n",
       "50%       1296.000000\n",
       "75%       1689.000000\n",
       "max      12000.000000\n",
       "Name: total_sqft, dtype: float64"
      ]
     },
     "execution_count": 75,
     "metadata": {},
     "output_type": "execute_result"
    }
   ],
   "source": [
    "df1[\"total_sqft\"].describe()"
   ]
  },
  {
   "cell_type": "code",
   "execution_count": 76,
   "id": "08ba5013",
   "metadata": {},
   "outputs": [
    {
     "name": "stderr",
     "output_type": "stream",
     "text": [
      "/home/nitinsaini/.local/lib/python3.8/site-packages/seaborn/distributions.py:2619: FutureWarning: `distplot` is a deprecated function and will be removed in a future version. Please adapt your code to use either `displot` (a figure-level function with similar flexibility) or `histplot` (an axes-level function for histograms).\n",
      "  warnings.warn(msg, FutureWarning)\n"
     ]
    },
    {
     "data": {
      "text/plain": [
       "<AxesSubplot:xlabel='total_sqft', ylabel='Density'>"
      ]
     },
     "execution_count": 76,
     "metadata": {},
     "output_type": "execute_result"
    },
    {
     "data": {
      "image/png": "[encoded data removed]",
      "text/plain": [
       "<Figure size 432x288 with 1 Axes>"
      ]
     },
     "metadata": {
      "needs_background": "light"
     },
     "output_type": "display_data"
    }
   ],
   "source": [
    "sns.distplot(df1[\"total_sqft\"], hist=True, kde=True, \n",
    "             bins=100, color = 'blue',\n",
    "             hist_kws={'edgecolor':'black'})"
   ]
  },
  {
   "cell_type": "code",
   "execution_count": 77,
   "id": "0b678087",
   "metadata": {},
   "outputs": [
    {
     "data": {
      "text/plain": [
       "area_type         24\n",
       "availability      24\n",
       "location          24\n",
       "total_sqft        24\n",
       "bath              24\n",
       "balcony           24\n",
       "price             24\n",
       "bhk               24\n",
       "price_per_sqft    24\n",
       "sqft_per_bhk      24\n",
       "dtype: int64"
      ]
     },
     "execution_count": 77,
     "metadata": {},
     "output_type": "execute_result"
    }
   ],
   "source": [
    "df1[(df1[\"total_sqft\"]>5500)].count()"
   ]
  },
  {
   "cell_type": "code",
   "execution_count": 78,
   "id": "89fae000",
   "metadata": {},
   "outputs": [],
   "source": [
    "df1 = df1[(df1[\"total_sqft\"] < 5500)]\n"
   ]
  },
  {
   "cell_type": "markdown",
   "id": "de1022e5",
   "metadata": {},
   "source": [
    "###### I have considered total sqft above 5500 as outlier by looking at the distribution"
   ]
  },
  {
   "cell_type": "markdown",
   "id": "54c8387a",
   "metadata": {},
   "source": [
    "###### 3. price_per_sqft- "
   ]
  },
  {
   "cell_type": "code",
   "execution_count": 79,
   "id": "a9070852",
   "metadata": {},
   "outputs": [
    {
     "data": {
      "text/plain": [
       "count     12486.000000\n",
       "mean       6290.016768\n",
       "std        4076.996020\n",
       "min         500.000000\n",
       "25%        4215.474643\n",
       "50%        5296.196422\n",
       "75%        6924.391099\n",
       "max      176470.588235\n",
       "Name: price_per_sqft, dtype: float64"
      ]
     },
     "execution_count": 79,
     "metadata": {},
     "output_type": "execute_result"
    }
   ],
   "source": [
    "df1[\"price_per_sqft\"].describe()"
   ]
  },
  {
   "cell_type": "code",
   "execution_count": 80,
   "id": "ea649a66",
   "metadata": {},
   "outputs": [
    {
     "name": "stderr",
     "output_type": "stream",
     "text": [
      "/home/nitinsaini/.local/lib/python3.8/site-packages/seaborn/distributions.py:2619: FutureWarning: `distplot` is a deprecated function and will be removed in a future version. Please adapt your code to use either `displot` (a figure-level function with similar flexibility) or `histplot` (an axes-level function for histograms).\n",
      "  warnings.warn(msg, FutureWarning)\n"
     ]
    },
    {
     "data": {
      "text/plain": [
       "<AxesSubplot:xlabel='price_per_sqft', ylabel='Density'>"
      ]
     },
     "execution_count": 80,
     "metadata": {},
     "output_type": "execute_result"
    },
    {
     "data": {
      "image/png": "[encoded data removed]",
      "text/plain": [
       "<Figure size 432x288 with 1 Axes>"
      ]
     },
     "metadata": {
      "needs_background": "light"
     },
     "output_type": "display_data"
    }
   ],
   "source": [
    "sns.distplot(df1[\"price_per_sqft\"], hist=True, kde=True, \n",
    "             bins=100, color = 'blue',\n",
    "             hist_kws={'edgecolor':'black'})"
   ]
  },
  {
   "cell_type": "code",
   "execution_count": 81,
   "id": "b6eb0a9b",
   "metadata": {},
   "outputs": [
    {
     "data": {
      "text/plain": [
       "area_type         137\n",
       "availability      137\n",
       "location          137\n",
       "total_sqft        137\n",
       "bath              137\n",
       "balcony           137\n",
       "price             137\n",
       "bhk               137\n",
       "price_per_sqft    137\n",
       "sqft_per_bhk      137\n",
       "dtype: int64"
      ]
     },
     "execution_count": 81,
     "metadata": {},
     "output_type": "execute_result"
    }
   ],
   "source": [
    "df1[(df1[\"price_per_sqft\"] >20000)].count()"
   ]
  },
  {
   "cell_type": "code",
   "execution_count": 82,
   "id": "dff2269a",
   "metadata": {},
   "outputs": [],
   "source": [
    "df1 = df1[(df1[\"price_per_sqft\"] < 20000)]\n"
   ]
  },
  {
   "cell_type": "code",
   "execution_count": 83,
   "id": "0d9fe499",
   "metadata": {},
   "outputs": [
    {
     "name": "stderr",
     "output_type": "stream",
     "text": [
      "/home/nitinsaini/.local/lib/python3.8/site-packages/seaborn/distributions.py:2619: FutureWarning: `distplot` is a deprecated function and will be removed in a future version. Please adapt your code to use either `displot` (a figure-level function with similar flexibility) or `histplot` (an axes-level function for histograms).\n",
      "  warnings.warn(msg, FutureWarning)\n"
     ]
    },
    {
     "data": {
      "text/plain": [
       "<AxesSubplot:xlabel='price_per_sqft', ylabel='Density'>"
      ]
     },
     "execution_count": 83,
     "metadata": {},
     "output_type": "execute_result"
    },
    {
     "data": {
      "image/png": "[encoded data removed]",
      "text/plain": [
       "<Figure size 432x288 with 1 Axes>"
      ]
     },
     "metadata": {
      "needs_background": "light"
     },
     "output_type": "display_data"
    }
   ],
   "source": [
    "sns.distplot(df1[\"price_per_sqft\"], hist=True, kde=True, \n",
    "             bins=100, color = 'blue',\n",
    "             hist_kws={'edgecolor':'black'})"
   ]
  },
  {
   "cell_type": "markdown",
   "id": "4828103b",
   "metadata": {},
   "source": [
    "###### I have considered price per sqft greater than 20000 as an outlier by looking at the distribution"
   ]
  },
  {
   "cell_type": "markdown",
   "id": "7de29fef",
   "metadata": {},
   "source": [
    "##### 4. Bath -"
   ]
  },
  {
   "cell_type": "markdown",
   "id": "40c5f3ec",
   "metadata": {},
   "source": [
    "Generally number of bathrooms per BHK are (no of BHK) + 2.\n",
    "So we can consider those houses where bathrooms are greater than bhk +2 as outliers"
   ]
  },
  {
   "cell_type": "code",
   "execution_count": 84,
   "id": "ba1377b6",
   "metadata": {},
   "outputs": [
    {
     "data": {
      "text/html": [
       "<div>\n",
       "<style scoped>\n",
       "    .dataframe tbody tr th:only-of-type {\n",
       "        vertical-align: middle;\n",
       "    }\n",
       "\n",
       "    .dataframe tbody tr th {\n",
       "        vertical-align: top;\n",
       "    }\n",
       "\n",
       "    .dataframe thead th {\n",
       "        text-align: right;\n",
       "    }\n",
       "</style>\n",
       "<table border=\"1\" class=\"dataframe\">\n",
       "  <thead>\n",
       "    <tr style=\"text-align: right;\">\n",
       "      <th></th>\n",
       "      <th>area_type</th>\n",
       "      <th>availability</th>\n",
       "      <th>location</th>\n",
       "      <th>total_sqft</th>\n",
       "      <th>bath</th>\n",
       "      <th>balcony</th>\n",
       "      <th>price</th>\n",
       "      <th>bhk</th>\n",
       "      <th>price_per_sqft</th>\n",
       "      <th>sqft_per_bhk</th>\n",
       "    </tr>\n",
       "  </thead>\n",
       "  <tbody>\n",
       "    <tr>\n",
       "      <th>1078</th>\n",
       "      <td>Plot  Area</td>\n",
       "      <td>Ready To Move</td>\n",
       "      <td>other</td>\n",
       "      <td>3300.0</td>\n",
       "      <td>14</td>\n",
       "      <td>9</td>\n",
       "      <td>500.0</td>\n",
       "      <td>9</td>\n",
       "      <td>15151.515152</td>\n",
       "      <td>366.666667</td>\n",
       "    </tr>\n",
       "    <tr>\n",
       "      <th>7709</th>\n",
       "      <td>Built-up  Area</td>\n",
       "      <td>Ready To Move</td>\n",
       "      <td>Chikkabanavar</td>\n",
       "      <td>2460.0</td>\n",
       "      <td>7</td>\n",
       "      <td>2</td>\n",
       "      <td>80.0</td>\n",
       "      <td>4</td>\n",
       "      <td>3252.032520</td>\n",
       "      <td>615.000000</td>\n",
       "    </tr>\n",
       "    <tr>\n",
       "      <th>11645</th>\n",
       "      <td>Plot  Area</td>\n",
       "      <td>Ready To Move</td>\n",
       "      <td>Chamrajpet</td>\n",
       "      <td>1500.0</td>\n",
       "      <td>9</td>\n",
       "      <td>3</td>\n",
       "      <td>230.0</td>\n",
       "      <td>6</td>\n",
       "      <td>15333.333333</td>\n",
       "      <td>250.000000</td>\n",
       "    </tr>\n",
       "    <tr>\n",
       "      <th>12103</th>\n",
       "      <td>Super built-up  Area</td>\n",
       "      <td>Ready To Move</td>\n",
       "      <td>Thanisandra</td>\n",
       "      <td>1806.0</td>\n",
       "      <td>6</td>\n",
       "      <td>2</td>\n",
       "      <td>116.0</td>\n",
       "      <td>3</td>\n",
       "      <td>6423.034330</td>\n",
       "      <td>602.000000</td>\n",
       "    </tr>\n",
       "  </tbody>\n",
       "</table>\n",
       "</div>"
      ],
      "text/plain": [
       "                  area_type   availability       location  total_sqft  bath  \\\n",
       "1078             Plot  Area  Ready To Move          other      3300.0    14   \n",
       "7709         Built-up  Area  Ready To Move  Chikkabanavar      2460.0     7   \n",
       "11645            Plot  Area  Ready To Move     Chamrajpet      1500.0     9   \n",
       "12103  Super built-up  Area  Ready To Move    Thanisandra      1806.0     6   \n",
       "\n",
       "       balcony  price  bhk  price_per_sqft  sqft_per_bhk  \n",
       "1078         9  500.0    9    15151.515152    366.666667  \n",
       "7709         2   80.0    4     3252.032520    615.000000  \n",
       "11645        3  230.0    6    15333.333333    250.000000  \n",
       "12103        2  116.0    3     6423.034330    602.000000  "
      ]
     },
     "execution_count": 84,
     "metadata": {},
     "output_type": "execute_result"
    }
   ],
   "source": [
    "df1[df1.bath > df1.bhk + 2]"
   ]
  },
  {
   "cell_type": "code",
   "execution_count": 85,
   "id": "4c3a2e35",
   "metadata": {},
   "outputs": [
    {
     "data": {
      "text/plain": [
       "(12202, 10)"
      ]
     },
     "execution_count": 85,
     "metadata": {},
     "output_type": "execute_result"
    }
   ],
   "source": [
    "df1 = df1[df1.bath < df1.bhk+2]\n",
    "df1.shape"
   ]
  },
  {
   "cell_type": "markdown",
   "id": "2ea89223",
   "metadata": {},
   "source": [
    "## Dropping feature based on correlation"
   ]
  },
  {
   "cell_type": "code",
   "execution_count": 86,
   "id": "c2ff63de",
   "metadata": {},
   "outputs": [
    {
     "data": {
      "text/plain": [
       "price             1.000000\n",
       "total_sqft        0.794224\n",
       "price_per_sqft    0.776217\n",
       "bath              0.620425\n",
       "bhk               0.573897\n",
       "sqft_per_bhk      0.497774\n",
       "balcony           0.248381\n",
       "Name: price, dtype: float64"
      ]
     },
     "execution_count": 86,
     "metadata": {},
     "output_type": "execute_result"
    }
   ],
   "source": [
    "df1.corr()[\"price\"].sort_values(ascending=False)"
   ]
  },
  {
   "cell_type": "code",
   "execution_count": 87,
   "id": "ecfe08d4",
   "metadata": {},
   "outputs": [],
   "source": [
    "df1.drop([\"price_per_sqft\", \"sqft_per_bhk\", \"balcony\"], axis = 1, inplace = True)\n"
   ]
  },
  {
   "cell_type": "code",
   "execution_count": 88,
   "id": "b8c5bbf0",
   "metadata": {},
   "outputs": [],
   "source": [
    "price = df1[\"price\"]\n",
    "df1.drop([\"price\"], axis = 1, inplace = True)"
   ]
  },
  {
   "cell_type": "code",
   "execution_count": 89,
   "id": "d20e2d8b",
   "metadata": {},
   "outputs": [],
   "source": [
    "df1 = df1[[\"total_sqft\", \"bhk\", \"bath\", \"availability\", \"area_type\", \"location\"]]\n"
   ]
  },
  {
   "cell_type": "markdown",
   "id": "5d0dd524",
   "metadata": {},
   "source": [
    "# Encoding Categorical Data:"
   ]
  },
  {
   "cell_type": "code",
   "execution_count": 90,
   "id": "7725ac86",
   "metadata": {},
   "outputs": [],
   "source": [
    "le1 = LabelEncoder()\n",
    "housing_availability = le1.fit_transform(df1.iloc[:,3])"
   ]
  },
  {
   "cell_type": "code",
   "execution_count": 91,
   "id": "f1b1abce",
   "metadata": {},
   "outputs": [],
   "source": [
    "le2 = LabelEncoder()\n",
    "housing_area_type = le2.fit_transform(df1.iloc[:,4])"
   ]
  },
  {
   "cell_type": "code",
   "execution_count": 92,
   "id": "f89d8487",
   "metadata": {},
   "outputs": [],
   "source": [
    "le3 = LabelEncoder()\n",
    "housing_location = le3.fit_transform(df1.iloc[:,5])"
   ]
  },
  {
   "cell_type": "code",
   "execution_count": 93,
   "id": "121ad92a",
   "metadata": {},
   "outputs": [],
   "source": [
    "ohe1 = OneHotEncoder()\n",
    "housing_availability = ohe1.fit_transform(housing_availability.reshape(-1,1))\n",
    "housing_availability = pd.DataFrame(housing_availability.toarray(), columns=le1.classes_)"
   ]
  },
  {
   "cell_type": "code",
   "execution_count": 94,
   "id": "9f1217c4",
   "metadata": {},
   "outputs": [],
   "source": [
    "ohe2 = OneHotEncoder()\n",
    "housing_area_type = ohe2.fit_transform(housing_area_type.reshape(-1,1))\n",
    "housing_area_type = pd.DataFrame(housing_area_type.toarray(), columns=le2.classes_)"
   ]
  },
  {
   "cell_type": "code",
   "execution_count": 95,
   "id": "7f869bab",
   "metadata": {},
   "outputs": [],
   "source": [
    "ohe3 = OneHotEncoder()\n",
    "housing_location = ohe3.fit_transform(housing_location.reshape(-1,1))\n",
    "housing_location = pd.DataFrame(housing_location.toarray(), columns=le3.classes_)"
   ]
  },
  {
   "cell_type": "markdown",
   "id": "b56fcaf7",
   "metadata": {},
   "source": [
    "# Preparing data for model"
   ]
  },
  {
   "cell_type": "code",
   "execution_count": 96,
   "id": "75119891",
   "metadata": {},
   "outputs": [],
   "source": [
    "housing_availability.drop([housing_availability.columns[len(housing_availability.columns)-1]], axis=1, inplace = True)\n",
    "housing_area_type.drop([housing_area_type.columns[len(housing_area_type.columns)-1]], axis=1, inplace = True)\n",
    "housing_location.drop([housing_location.columns[len(housing_location.columns)-1]], axis=1, inplace = True)"
   ]
  },
  {
   "cell_type": "code",
   "execution_count": 97,
   "id": "91f18c00",
   "metadata": {},
   "outputs": [],
   "source": [
    "housing_num_features = df1.iloc[:, 0:3].reset_index()\n",
    "housing_num_features.drop([\"index\"], axis = 1, inplace = True)"
   ]
  },
  {
   "cell_type": "code",
   "execution_count": 98,
   "id": "7830482a",
   "metadata": {},
   "outputs": [],
   "source": [
    "std_scaler = StandardScaler()\n",
    "housing_num_scaled_features = pd.DataFrame(std_scaler.fit_transform(housing_num_features), columns=housing_num_features.columns)"
   ]
  },
  {
   "cell_type": "code",
   "execution_count": 99,
   "id": "899b8085",
   "metadata": {},
   "outputs": [],
   "source": [
    "housing_for_model = pd.concat([housing_num_scaled_features, housing_availability, housing_area_type, housing_location], axis=1)\n"
   ]
  },
  {
   "cell_type": "code",
   "execution_count": 100,
   "id": "09affbac",
   "metadata": {},
   "outputs": [
    {
     "data": {
      "text/html": [
       "<div>\n",
       "<style scoped>\n",
       "    .dataframe tbody tr th:only-of-type {\n",
       "        vertical-align: middle;\n",
       "    }\n",
       "\n",
       "    .dataframe tbody tr th {\n",
       "        vertical-align: top;\n",
       "    }\n",
       "\n",
       "    .dataframe thead th {\n",
       "        text-align: right;\n",
       "    }\n",
       "</style>\n",
       "<table border=\"1\" class=\"dataframe\">\n",
       "  <thead>\n",
       "    <tr style=\"text-align: right;\">\n",
       "      <th></th>\n",
       "      <th>total_sqft</th>\n",
       "      <th>bhk</th>\n",
       "      <th>bath</th>\n",
       "      <th>Ready To Move</th>\n",
       "      <th>Built-up  Area</th>\n",
       "      <th>Carpet  Area</th>\n",
       "      <th>Plot  Area</th>\n",
       "      <th>Devarachikkanahalli</th>\n",
       "      <th>1st Block Jayanagar</th>\n",
       "      <th>1st Phase JP Nagar</th>\n",
       "      <th>...</th>\n",
       "      <th>Vijayanagar</th>\n",
       "      <th>Vishveshwarya Layout</th>\n",
       "      <th>Vishwapriya Layout</th>\n",
       "      <th>Vittasandra</th>\n",
       "      <th>Whitefield</th>\n",
       "      <th>Yelachenahalli</th>\n",
       "      <th>Yelahanka</th>\n",
       "      <th>Yelahanka New Town</th>\n",
       "      <th>Yelenahalli</th>\n",
       "      <th>Yeshwanthpur</th>\n",
       "    </tr>\n",
       "  </thead>\n",
       "  <tbody>\n",
       "    <tr>\n",
       "      <th>0</th>\n",
       "      <td>-0.628033</td>\n",
       "      <td>-0.661964</td>\n",
       "      <td>-0.517113</td>\n",
       "      <td>0.0</td>\n",
       "      <td>0.0</td>\n",
       "      <td>0.0</td>\n",
       "      <td>0.0</td>\n",
       "      <td>0.0</td>\n",
       "      <td>0.0</td>\n",
       "      <td>0.0</td>\n",
       "      <td>...</td>\n",
       "      <td>0.0</td>\n",
       "      <td>0.0</td>\n",
       "      <td>0.0</td>\n",
       "      <td>0.0</td>\n",
       "      <td>0.0</td>\n",
       "      <td>0.0</td>\n",
       "      <td>0.0</td>\n",
       "      <td>0.0</td>\n",
       "      <td>0.0</td>\n",
       "      <td>0.0</td>\n",
       "    </tr>\n",
       "    <tr>\n",
       "      <th>1</th>\n",
       "      <td>1.614511</td>\n",
       "      <td>1.479984</td>\n",
       "      <td>2.598332</td>\n",
       "      <td>1.0</td>\n",
       "      <td>0.0</td>\n",
       "      <td>0.0</td>\n",
       "      <td>1.0</td>\n",
       "      <td>0.0</td>\n",
       "      <td>0.0</td>\n",
       "      <td>0.0</td>\n",
       "      <td>...</td>\n",
       "      <td>0.0</td>\n",
       "      <td>0.0</td>\n",
       "      <td>0.0</td>\n",
       "      <td>0.0</td>\n",
       "      <td>0.0</td>\n",
       "      <td>0.0</td>\n",
       "      <td>0.0</td>\n",
       "      <td>0.0</td>\n",
       "      <td>0.0</td>\n",
       "      <td>0.0</td>\n",
       "    </tr>\n",
       "    <tr>\n",
       "      <th>2</th>\n",
       "      <td>-0.070302</td>\n",
       "      <td>0.409010</td>\n",
       "      <td>-0.517113</td>\n",
       "      <td>1.0</td>\n",
       "      <td>1.0</td>\n",
       "      <td>0.0</td>\n",
       "      <td>0.0</td>\n",
       "      <td>0.0</td>\n",
       "      <td>0.0</td>\n",
       "      <td>0.0</td>\n",
       "      <td>...</td>\n",
       "      <td>0.0</td>\n",
       "      <td>0.0</td>\n",
       "      <td>0.0</td>\n",
       "      <td>0.0</td>\n",
       "      <td>0.0</td>\n",
       "      <td>0.0</td>\n",
       "      <td>0.0</td>\n",
       "      <td>0.0</td>\n",
       "      <td>0.0</td>\n",
       "      <td>0.0</td>\n",
       "    </tr>\n",
       "    <tr>\n",
       "      <th>3</th>\n",
       "      <td>0.047344</td>\n",
       "      <td>0.409010</td>\n",
       "      <td>0.521368</td>\n",
       "      <td>1.0</td>\n",
       "      <td>0.0</td>\n",
       "      <td>0.0</td>\n",
       "      <td>0.0</td>\n",
       "      <td>0.0</td>\n",
       "      <td>0.0</td>\n",
       "      <td>0.0</td>\n",
       "      <td>...</td>\n",
       "      <td>0.0</td>\n",
       "      <td>0.0</td>\n",
       "      <td>0.0</td>\n",
       "      <td>0.0</td>\n",
       "      <td>0.0</td>\n",
       "      <td>0.0</td>\n",
       "      <td>0.0</td>\n",
       "      <td>0.0</td>\n",
       "      <td>0.0</td>\n",
       "      <td>0.0</td>\n",
       "    </tr>\n",
       "    <tr>\n",
       "      <th>4</th>\n",
       "      <td>-0.418884</td>\n",
       "      <td>-0.661964</td>\n",
       "      <td>-0.517113</td>\n",
       "      <td>1.0</td>\n",
       "      <td>0.0</td>\n",
       "      <td>0.0</td>\n",
       "      <td>0.0</td>\n",
       "      <td>0.0</td>\n",
       "      <td>0.0</td>\n",
       "      <td>0.0</td>\n",
       "      <td>...</td>\n",
       "      <td>0.0</td>\n",
       "      <td>0.0</td>\n",
       "      <td>0.0</td>\n",
       "      <td>0.0</td>\n",
       "      <td>0.0</td>\n",
       "      <td>0.0</td>\n",
       "      <td>0.0</td>\n",
       "      <td>0.0</td>\n",
       "      <td>0.0</td>\n",
       "      <td>0.0</td>\n",
       "    </tr>\n",
       "    <tr>\n",
       "      <th>...</th>\n",
       "      <td>...</td>\n",
       "      <td>...</td>\n",
       "      <td>...</td>\n",
       "      <td>...</td>\n",
       "      <td>...</td>\n",
       "      <td>...</td>\n",
       "      <td>...</td>\n",
       "      <td>...</td>\n",
       "      <td>...</td>\n",
       "      <td>...</td>\n",
       "      <td>...</td>\n",
       "      <td>...</td>\n",
       "      <td>...</td>\n",
       "      <td>...</td>\n",
       "      <td>...</td>\n",
       "      <td>...</td>\n",
       "      <td>...</td>\n",
       "      <td>...</td>\n",
       "      <td>...</td>\n",
       "      <td>...</td>\n",
       "      <td>...</td>\n",
       "    </tr>\n",
       "    <tr>\n",
       "      <th>12197</th>\n",
       "      <td>2.853430</td>\n",
       "      <td>2.550958</td>\n",
       "      <td>1.559850</td>\n",
       "      <td>1.0</td>\n",
       "      <td>1.0</td>\n",
       "      <td>0.0</td>\n",
       "      <td>0.0</td>\n",
       "      <td>0.0</td>\n",
       "      <td>0.0</td>\n",
       "      <td>0.0</td>\n",
       "      <td>...</td>\n",
       "      <td>0.0</td>\n",
       "      <td>0.0</td>\n",
       "      <td>0.0</td>\n",
       "      <td>0.0</td>\n",
       "      <td>1.0</td>\n",
       "      <td>0.0</td>\n",
       "      <td>0.0</td>\n",
       "      <td>0.0</td>\n",
       "      <td>0.0</td>\n",
       "      <td>0.0</td>\n",
       "    </tr>\n",
       "    <tr>\n",
       "      <th>12198</th>\n",
       "      <td>3.066936</td>\n",
       "      <td>1.479984</td>\n",
       "      <td>2.598332</td>\n",
       "      <td>1.0</td>\n",
       "      <td>0.0</td>\n",
       "      <td>0.0</td>\n",
       "      <td>0.0</td>\n",
       "      <td>0.0</td>\n",
       "      <td>0.0</td>\n",
       "      <td>0.0</td>\n",
       "      <td>...</td>\n",
       "      <td>0.0</td>\n",
       "      <td>0.0</td>\n",
       "      <td>0.0</td>\n",
       "      <td>0.0</td>\n",
       "      <td>0.0</td>\n",
       "      <td>0.0</td>\n",
       "      <td>0.0</td>\n",
       "      <td>0.0</td>\n",
       "      <td>0.0</td>\n",
       "      <td>0.0</td>\n",
       "    </tr>\n",
       "    <tr>\n",
       "      <th>12199</th>\n",
       "      <td>-0.504577</td>\n",
       "      <td>-0.661964</td>\n",
       "      <td>-0.517113</td>\n",
       "      <td>1.0</td>\n",
       "      <td>1.0</td>\n",
       "      <td>0.0</td>\n",
       "      <td>0.0</td>\n",
       "      <td>0.0</td>\n",
       "      <td>0.0</td>\n",
       "      <td>0.0</td>\n",
       "      <td>...</td>\n",
       "      <td>0.0</td>\n",
       "      <td>0.0</td>\n",
       "      <td>0.0</td>\n",
       "      <td>0.0</td>\n",
       "      <td>0.0</td>\n",
       "      <td>0.0</td>\n",
       "      <td>0.0</td>\n",
       "      <td>0.0</td>\n",
       "      <td>0.0</td>\n",
       "      <td>0.0</td>\n",
       "    </tr>\n",
       "    <tr>\n",
       "      <th>12200</th>\n",
       "      <td>4.648627</td>\n",
       "      <td>1.479984</td>\n",
       "      <td>1.559850</td>\n",
       "      <td>0.0</td>\n",
       "      <td>0.0</td>\n",
       "      <td>0.0</td>\n",
       "      <td>0.0</td>\n",
       "      <td>0.0</td>\n",
       "      <td>0.0</td>\n",
       "      <td>0.0</td>\n",
       "      <td>...</td>\n",
       "      <td>0.0</td>\n",
       "      <td>0.0</td>\n",
       "      <td>0.0</td>\n",
       "      <td>0.0</td>\n",
       "      <td>0.0</td>\n",
       "      <td>0.0</td>\n",
       "      <td>0.0</td>\n",
       "      <td>0.0</td>\n",
       "      <td>0.0</td>\n",
       "      <td>0.0</td>\n",
       "    </tr>\n",
       "    <tr>\n",
       "      <th>12201</th>\n",
       "      <td>-1.362961</td>\n",
       "      <td>-1.732938</td>\n",
       "      <td>-1.555595</td>\n",
       "      <td>1.0</td>\n",
       "      <td>0.0</td>\n",
       "      <td>0.0</td>\n",
       "      <td>0.0</td>\n",
       "      <td>0.0</td>\n",
       "      <td>0.0</td>\n",
       "      <td>0.0</td>\n",
       "      <td>...</td>\n",
       "      <td>0.0</td>\n",
       "      <td>0.0</td>\n",
       "      <td>0.0</td>\n",
       "      <td>0.0</td>\n",
       "      <td>0.0</td>\n",
       "      <td>0.0</td>\n",
       "      <td>0.0</td>\n",
       "      <td>0.0</td>\n",
       "      <td>0.0</td>\n",
       "      <td>0.0</td>\n",
       "    </tr>\n",
       "  </tbody>\n",
       "</table>\n",
       "<p>12202 rows × 248 columns</p>\n",
       "</div>"
      ],
      "text/plain": [
       "       total_sqft       bhk      bath  Ready To Move  Built-up  Area  \\\n",
       "0       -0.628033 -0.661964 -0.517113            0.0             0.0   \n",
       "1        1.614511  1.479984  2.598332            1.0             0.0   \n",
       "2       -0.070302  0.409010 -0.517113            1.0             1.0   \n",
       "3        0.047344  0.409010  0.521368            1.0             0.0   \n",
       "4       -0.418884 -0.661964 -0.517113            1.0             0.0   \n",
       "...           ...       ...       ...            ...             ...   \n",
       "12197    2.853430  2.550958  1.559850            1.0             1.0   \n",
       "12198    3.066936  1.479984  2.598332            1.0             0.0   \n",
       "12199   -0.504577 -0.661964 -0.517113            1.0             1.0   \n",
       "12200    4.648627  1.479984  1.559850            0.0             0.0   \n",
       "12201   -1.362961 -1.732938 -1.555595            1.0             0.0   \n",
       "\n",
       "       Carpet  Area  Plot  Area   Devarachikkanahalli  1st Block Jayanagar  \\\n",
       "0               0.0         0.0                   0.0                  0.0   \n",
       "1               0.0         1.0                   0.0                  0.0   \n",
       "2               0.0         0.0                   0.0                  0.0   \n",
       "3               0.0         0.0                   0.0                  0.0   \n",
       "4               0.0         0.0                   0.0                  0.0   \n",
       "...             ...         ...                   ...                  ...   \n",
       "12197           0.0         0.0                   0.0                  0.0   \n",
       "12198           0.0         0.0                   0.0                  0.0   \n",
       "12199           0.0         0.0                   0.0                  0.0   \n",
       "12200           0.0         0.0                   0.0                  0.0   \n",
       "12201           0.0         0.0                   0.0                  0.0   \n",
       "\n",
       "       1st Phase JP Nagar  ...  Vijayanagar  Vishveshwarya Layout  \\\n",
       "0                     0.0  ...          0.0                   0.0   \n",
       "1                     0.0  ...          0.0                   0.0   \n",
       "2                     0.0  ...          0.0                   0.0   \n",
       "3                     0.0  ...          0.0                   0.0   \n",
       "4                     0.0  ...          0.0                   0.0   \n",
       "...                   ...  ...          ...                   ...   \n",
       "12197                 0.0  ...          0.0                   0.0   \n",
       "12198                 0.0  ...          0.0                   0.0   \n",
       "12199                 0.0  ...          0.0                   0.0   \n",
       "12200                 0.0  ...          0.0                   0.0   \n",
       "12201                 0.0  ...          0.0                   0.0   \n",
       "\n",
       "       Vishwapriya Layout  Vittasandra  Whitefield  Yelachenahalli  Yelahanka  \\\n",
       "0                     0.0          0.0         0.0             0.0        0.0   \n",
       "1                     0.0          0.0         0.0             0.0        0.0   \n",
       "2                     0.0          0.0         0.0             0.0        0.0   \n",
       "3                     0.0          0.0         0.0             0.0        0.0   \n",
       "4                     0.0          0.0         0.0             0.0        0.0   \n",
       "...                   ...          ...         ...             ...        ...   \n",
       "12197                 0.0          0.0         1.0             0.0        0.0   \n",
       "12198                 0.0          0.0         0.0             0.0        0.0   \n",
       "12199                 0.0          0.0         0.0             0.0        0.0   \n",
       "12200                 0.0          0.0         0.0             0.0        0.0   \n",
       "12201                 0.0          0.0         0.0             0.0        0.0   \n",
       "\n",
       "       Yelahanka New Town  Yelenahalli  Yeshwanthpur  \n",
       "0                     0.0          0.0           0.0  \n",
       "1                     0.0          0.0           0.0  \n",
       "2                     0.0          0.0           0.0  \n",
       "3                     0.0          0.0           0.0  \n",
       "4                     0.0          0.0           0.0  \n",
       "...                   ...          ...           ...  \n",
       "12197                 0.0          0.0           0.0  \n",
       "12198                 0.0          0.0           0.0  \n",
       "12199                 0.0          0.0           0.0  \n",
       "12200                 0.0          0.0           0.0  \n",
       "12201                 0.0          0.0           0.0  \n",
       "\n",
       "[12202 rows x 248 columns]"
      ]
     },
     "execution_count": 100,
     "metadata": {},
     "output_type": "execute_result"
    }
   ],
   "source": [
    "housing_for_model\n"
   ]
  },
  {
   "cell_type": "markdown",
   "id": "de77c547",
   "metadata": {},
   "source": [
    "## Splitting the dataset into training and test set "
   ]
  },
  {
   "cell_type": "code",
   "execution_count": 101,
   "id": "5f3c4c28",
   "metadata": {},
   "outputs": [],
   "source": [
    "X, y = housing_for_model.values, price.values\n",
    "X_train, X_test, y_train, y_test = train_test_split(housing_for_model, price, test_size = 0.2, random_state = 42)"
   ]
  },
  {
   "cell_type": "markdown",
   "id": "0fe3dce2",
   "metadata": {},
   "source": [
    "# Comparing different models for best accuracy possible:"
   ]
  },
  {
   "cell_type": "code",
   "execution_count": 104,
   "id": "e04812ad",
   "metadata": {},
   "outputs": [],
   "source": [
    "from sklearn.linear_model import LinearRegression, Lasso, Ridge\n",
    "from sklearn.ensemble import RandomForestRegressor\n",
    "from sklearn.ensemble import AdaBoostRegressor\n",
    "from sklearn.ensemble import GradientBoostingRegressor\n",
    "from xgboost import XGBRegressor\n",
    "from sklearn.model_selection import GridSearchCV, ShuffleSplit\n",
    "from sklearn.tree import DecisionTreeRegressor\n",
    "from sklearn.metrics import r2_score, mean_squared_error"
   ]
  },
  {
   "cell_type": "markdown",
   "id": "b71a49fe",
   "metadata": {},
   "source": [
    "### 1. Linear Regression Model:"
   ]
  },
  {
   "cell_type": "code",
   "execution_count": 105,
   "id": "d3bc61d7",
   "metadata": {},
   "outputs": [
    {
     "data": {
      "text/plain": [
       "0.6942504638060516"
      ]
     },
     "execution_count": 105,
     "metadata": {},
     "output_type": "execute_result"
    }
   ],
   "source": [
    "lin_reg = LinearRegression()\n",
    "lin_reg.fit(X_train, y_train)\n",
    "lin_reg.score(X_test, y_test)"
   ]
  },
  {
   "cell_type": "markdown",
   "id": "a8b6878b",
   "metadata": {},
   "source": [
    "### 2. Ridge regression Model:"
   ]
  },
  {
   "cell_type": "code",
   "execution_count": 106,
   "id": "4edf6e11",
   "metadata": {},
   "outputs": [
    {
     "data": {
      "text/plain": [
       "0.6946258820604462"
      ]
     },
     "execution_count": 106,
     "metadata": {},
     "output_type": "execute_result"
    }
   ],
   "source": [
    "ridge_reg = Ridge(alpha = 0.1)\n",
    "ridge_reg.fit(X_train, y_train)\n",
    "ridge_reg.score(X_test, y_test)"
   ]
  },
  {
   "cell_type": "markdown",
   "id": "3248fab5",
   "metadata": {},
   "source": [
    "### 3. Lasso Regression Model:"
   ]
  },
  {
   "cell_type": "code",
   "execution_count": 107,
   "id": "eee99698",
   "metadata": {},
   "outputs": [
    {
     "data": {
      "text/plain": [
       "0.6769503579209183"
      ]
     },
     "execution_count": 107,
     "metadata": {},
     "output_type": "execute_result"
    }
   ],
   "source": [
    "\n",
    "lasso_reg = Lasso(alpha = 0.1)\n",
    "lasso_reg.fit(X_train, y_train)\n",
    "lasso_reg.score(X_test, y_test)"
   ]
  },
  {
   "cell_type": "markdown",
   "id": "56b6d6c7",
   "metadata": {},
   "source": [
    "### 4. Decision Tree Regression Model:"
   ]
  },
  {
   "cell_type": "code",
   "execution_count": 108,
   "id": "b2836aba",
   "metadata": {},
   "outputs": [
    {
     "data": {
      "text/plain": [
       "0.5001177163471427"
      ]
     },
     "execution_count": 108,
     "metadata": {},
     "output_type": "execute_result"
    }
   ],
   "source": [
    "dt_reg = DecisionTreeRegressor()\n",
    "dt_reg.fit(X_train, y_train)\n",
    "dt_reg.score(X_test, y_test)\n"
   ]
  },
  {
   "cell_type": "markdown",
   "id": "5b7a1edb",
   "metadata": {},
   "source": [
    "### 5. Random Forest Regression Model:"
   ]
  },
  {
   "cell_type": "code",
   "execution_count": 109,
   "id": "582a1dc0",
   "metadata": {},
   "outputs": [
    {
     "data": {
      "text/plain": [
       "0.6911481314049299"
      ]
     },
     "execution_count": 109,
     "metadata": {},
     "output_type": "execute_result"
    }
   ],
   "source": [
    "# rf_reg = RandomForestRegressor(n_estimators=200)\n",
    "# rf_reg.fit(X_train, y_train)\n",
    "# rf_reg.score(X_test, y_test)"
   ]
  },
  {
   "cell_type": "markdown",
   "id": "c68a6a2c",
   "metadata": {},
   "source": [
    "### 6. XG Boost Regression Model:"
   ]
  },
  {
   "cell_type": "code",
   "execution_count": 110,
   "id": "d9f0f7e0",
   "metadata": {},
   "outputs": [
    {
     "data": {
      "text/plain": [
       "0.7325651709912588"
      ]
     },
     "execution_count": 110,
     "metadata": {},
     "output_type": "execute_result"
    }
   ],
   "source": [
    "xgb_reg = XGBRegressor()\n",
    "xgb_reg.fit(X_train, y_train)\n",
    "xgb_reg.score(X_test, y_test)"
   ]
  },
  {
   "cell_type": "markdown",
   "id": "d38a27b0",
   "metadata": {},
   "source": [
    "## Hypertuning of parameters"
   ]
  },
  {
   "cell_type": "code",
   "execution_count": 111,
   "id": "7b5ea1be",
   "metadata": {},
   "outputs": [],
   "source": [
    "def find_best_model_using_gridsearchcv(X, y):\n",
    "    algos = {\n",
    "        'linear_regression' : {\n",
    "            'model': LinearRegression(),\n",
    "            'params': {\n",
    "                'normalize': [True, False]\n",
    "            }\n",
    "        },\n",
    "        'lasso': {\n",
    "            'model': Lasso(),\n",
    "            'params': {\n",
    "                'alpha': [0.1, 0.3, 0.5, 0.7, 0.9],\n",
    "                'selection': ['random', 'cyclic']\n",
    "            }\n",
    "        },\n",
    "        'ridge': {\n",
    "            'model': Ridge(),\n",
    "            'params': {\n",
    "                'alpha': [0.1, 0.3, 0.5, 0.7, 0.9]\n",
    "            }\n",
    "        },\n",
    "        'random_forest': {\n",
    "            'model': RandomForestRegressor(),\n",
    "            'params': {\n",
    "                'n_estimators': [10, 20, 500], 'max_depth': [2, 4, 6, 8], \n",
    "            }\n",
    "        },\n",
    "        'xgboost': {\n",
    "            'model': XGBRegressor(),\n",
    "            'params': {\n",
    "                'n_estimators': [100, 200, 300], \n",
    "            }\n",
    "        }\n",
    "\n",
    "    }\n",
    "    scores = []\n",
    "    cv = ShuffleSplit(n_splits=5, test_size=0.2, random_state=0)\n",
    "    for algo_name, config in algos.items():\n",
    "        gs =  GridSearchCV(config['model'], config['params'], cv=cv, return_train_score=False)\n",
    "        gs.fit(X,y)\n",
    "        scores.append({\n",
    "            'model': algo_name,\n",
    "            'best_score': gs.best_score_,\n",
    "            'best_params': gs.best_params_\n",
    "        })\n",
    "\n",
    "    return pd.DataFrame(scores,columns=['model','best_score','best_params'])\n",
    "\n",
    "#find_best_model_using_gridsearchcv(X, y)"
   ]
  },
  {
   "cell_type": "code",
   "execution_count": 112,
   "id": "4902ab2a",
   "metadata": {},
   "outputs": [
    {
     "data": {
      "text/plain": [
       "0.6942504638060516"
      ]
     },
     "execution_count": 112,
     "metadata": {},
     "output_type": "execute_result"
    }
   ],
   "source": [
    "lin_reg = LinearRegression()\n",
    "lin_reg.fit(X_train, y_train)\n",
    "lin_reg.score(X_test, y_test)"
   ]
  },
  {
   "cell_type": "code",
   "execution_count": 113,
   "id": "741e254a",
   "metadata": {},
   "outputs": [
    {
     "data": {
      "text/plain": [
       "0.6946258820604462"
      ]
     },
     "execution_count": 113,
     "metadata": {},
     "output_type": "execute_result"
    }
   ],
   "source": [
    "ridge_reg = Ridge(alpha = 0.1)\n",
    "ridge_reg.fit(X_train, y_train)\n",
    "ridge_reg.score(X_test, y_test)"
   ]
  },
  {
   "cell_type": "code",
   "execution_count": 114,
   "id": "4ce19de7",
   "metadata": {},
   "outputs": [
    {
     "data": {
      "text/plain": [
       "0.6769503579209183"
      ]
     },
     "execution_count": 114,
     "metadata": {},
     "output_type": "execute_result"
    }
   ],
   "source": [
    "\n",
    "lasso_reg = Lasso(alpha = 0.1)\n",
    "lasso_reg.fit(X_train, y_train)\n",
    "lasso_reg.score(X_test, y_test)"
   ]
  },
  {
   "cell_type": "code",
   "execution_count": 115,
   "id": "58de6687",
   "metadata": {},
   "outputs": [
    {
     "data": {
      "text/plain": [
       "0.5013252198238765"
      ]
     },
     "execution_count": 115,
     "metadata": {},
     "output_type": "execute_result"
    }
   ],
   "source": [
    "dt_reg = DecisionTreeRegressor()\n",
    "dt_reg.fit(X_train, y_train)\n",
    "dt_reg.score(X_test, y_test)\n"
   ]
  },
  {
   "cell_type": "code",
   "execution_count": 116,
   "id": "ee66b3aa",
   "metadata": {},
   "outputs": [
    {
     "data": {
      "text/plain": [
       "0.6926178464005812"
      ]
     },
     "execution_count": 116,
     "metadata": {},
     "output_type": "execute_result"
    }
   ],
   "source": [
    "rf_reg = RandomForestRegressor()\n",
    "rf_reg.fit(X_train, y_train)\n",
    "rf_reg.score(X_test, y_test)"
   ]
  },
  {
   "cell_type": "code",
   "execution_count": 117,
   "id": "606606a2",
   "metadata": {},
   "outputs": [
    {
     "data": {
      "text/plain": [
       "0.8596751774261677"
      ]
     },
     "execution_count": 117,
     "metadata": {},
     "output_type": "execute_result"
    }
   ],
   "source": [
    "xgb_reg = XGBRegressor()\n",
    "xgb_reg.fit(X, y)\n",
    "xgb_reg.score(X, y)"
   ]
  },
  {
   "cell_type": "markdown",
   "id": "7544f894",
   "metadata": {},
   "source": [
    "### This concludes that xgboost regression model is giving best accuracy."
   ]
  },
  {
   "cell_type": "markdown",
   "id": "b20269b2",
   "metadata": {},
   "source": [
    "# Pickle file "
   ]
  },
  {
   "cell_type": "code",
   "execution_count": 118,
   "id": "d92796e5",
   "metadata": {},
   "outputs": [],
   "source": [
    "import pickle\n",
    "import json"
   ]
  },
  {
   "cell_type": "code",
   "execution_count": 119,
   "id": "b2cc98a5",
   "metadata": {},
   "outputs": [],
   "source": [
    "with open('banglore_home_prices_model.pickle','wb') as f:\n",
    "    pickle.dump(xgb_reg,f)"
   ]
  },
  {
   "cell_type": "code",
   "execution_count": 120,
   "id": "a6e23dc1",
   "metadata": {},
   "outputs": [],
   "source": [
    "cat_feature_columns = {\n",
    "    'availability_columns' : [col for col in le1.classes_], \n",
    "    'area_columns' : [col for col in le2.classes_],\n",
    "    'location_columns' : [col for col in le3.classes_]\n",
    "}\n",
    "\n",
    "with open(\"columns.json\",\"w\") as f:\n",
    "    f.write(json.dumps(cat_feature_columns))"
   ]
  },
  {
   "cell_type": "code",
   "execution_count": null,
   "id": "d457e78d",
   "metadata": {},
   "outputs": [],
   "source": [
    "xgb_reg.predict([1.3847,2,2,1,1,0,'Electronic City Phase II',''])"
   ]
  },
  {
   "cell_type": "code",
   "execution_count": 126,
   "id": "worthy-metadata",
   "metadata": {},
   "outputs": [
    {
     "data": {
      "text/html": [
       "<div>\n",
       "<style scoped>\n",
       "    .dataframe tbody tr th:only-of-type {\n",
       "        vertical-align: middle;\n",
       "    }\n",
       "\n",
       "    .dataframe tbody tr th {\n",
       "        vertical-align: top;\n",
       "    }\n",
       "\n",
       "    .dataframe thead th {\n",
       "        text-align: right;\n",
       "    }\n",
       "</style>\n",
       "<table border=\"1\" class=\"dataframe\">\n",
       "  <thead>\n",
       "    <tr style=\"text-align: right;\">\n",
       "      <th></th>\n",
       "      <th>total_sqft</th>\n",
       "      <th>bhk</th>\n",
       "      <th>bath</th>\n",
       "      <th>Ready To Move</th>\n",
       "      <th>Built-up  Area</th>\n",
       "      <th>Carpet  Area</th>\n",
       "      <th>Plot  Area</th>\n",
       "      <th>Devarachikkanahalli</th>\n",
       "      <th>1st Block Jayanagar</th>\n",
       "      <th>1st Phase JP Nagar</th>\n",
       "      <th>...</th>\n",
       "      <th>Vijayanagar</th>\n",
       "      <th>Vishveshwarya Layout</th>\n",
       "      <th>Vishwapriya Layout</th>\n",
       "      <th>Vittasandra</th>\n",
       "      <th>Whitefield</th>\n",
       "      <th>Yelachenahalli</th>\n",
       "      <th>Yelahanka</th>\n",
       "      <th>Yelahanka New Town</th>\n",
       "      <th>Yelenahalli</th>\n",
       "      <th>Yeshwanthpur</th>\n",
       "    </tr>\n",
       "  </thead>\n",
       "  <tbody>\n",
       "    <tr>\n",
       "      <th>5785</th>\n",
       "      <td>-1.216266</td>\n",
       "      <td>-1.732938</td>\n",
       "      <td>-1.555595</td>\n",
       "      <td>1.0</td>\n",
       "      <td>1.0</td>\n",
       "      <td>0.0</td>\n",
       "      <td>0.0</td>\n",
       "      <td>0.0</td>\n",
       "      <td>0.0</td>\n",
       "      <td>0.0</td>\n",
       "      <td>...</td>\n",
       "      <td>0.0</td>\n",
       "      <td>0.0</td>\n",
       "      <td>0.0</td>\n",
       "      <td>0.0</td>\n",
       "      <td>0.0</td>\n",
       "      <td>0.0</td>\n",
       "      <td>1.0</td>\n",
       "      <td>0.0</td>\n",
       "      <td>0.0</td>\n",
       "      <td>0.0</td>\n",
       "    </tr>\n",
       "  </tbody>\n",
       "</table>\n",
       "<p>1 rows × 248 columns</p>\n",
       "</div>"
      ],
      "text/plain": [
       "      total_sqft       bhk      bath  Ready To Move  Built-up  Area  \\\n",
       "5785   -1.216266 -1.732938 -1.555595            1.0             1.0   \n",
       "\n",
       "      Carpet  Area  Plot  Area   Devarachikkanahalli  1st Block Jayanagar  \\\n",
       "5785           0.0         0.0                   0.0                  0.0   \n",
       "\n",
       "      1st Phase JP Nagar  ...  Vijayanagar  Vishveshwarya Layout  \\\n",
       "5785                 0.0  ...          0.0                   0.0   \n",
       "\n",
       "      Vishwapriya Layout  Vittasandra  Whitefield  Yelachenahalli  Yelahanka  \\\n",
       "5785                 0.0          0.0         0.0             0.0        1.0   \n",
       "\n",
       "      Yelahanka New Town  Yelenahalli  Yeshwanthpur  \n",
       "5785                 0.0          0.0           0.0  \n",
       "\n",
       "[1 rows x 248 columns]"
      ]
     },
     "execution_count": 126,
     "metadata": {},
     "output_type": "execute_result"
    }
   ],
   "source": [
    "X_test.head(['',''])"
   ]
  },
  {
   "cell_type": "code",
   "execution_count": null,
   "id": "demonstrated-chile",
   "metadata": {},
   "outputs": [],
   "source": [
    "def predict_price(area,bhk,bathroom,location,availability,area_type):    \n",
    "    loc_index = np.where(X.columns==location)[0][0]\n",
    "\n",
    "    x = np.zeros(len(X.columns))\n",
    "    x[0] = sqft\n",
    "    x[1] = bath\n",
    "    x[2] = bhk\n",
    "    if loc_index >= 0:\n",
    "        x[loc_index] = 1\n",
    "\n",
    "    return lr_clf.predict([x])[0]"
   ]
  },
  {
   "cell_type": "code",
   "execution_count": null,
   "id": "injured-operation",
   "metadata": {},
   "outputs": [],
   "source": []
  }
 ],
 "metadata": {
  "kernelspec": {
   "display_name": "Python 3",
   "language": "python",
   "name": "python3"
  },
  "language_info": {
   "codemirror_mode": {
    "name": "ipython",
    "version": 3
   },
   "file_extension": ".py",
   "mimetype": "text/x-python",
   "name": "python",
   "nbconvert_exporter": "python",
   "pygments_lexer": "ipython3",
   "version": "3.8.5"
  }
 },
 "nbformat": 4,
 "nbformat_minor": 5
}
